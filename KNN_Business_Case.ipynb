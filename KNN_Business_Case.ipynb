{
  "nbformat": 4,
  "nbformat_minor": 0,
  "metadata": {
    "colab": {
      "provenance": [],
      "include_colab_link": true
    },
    "kernelspec": {
      "name": "python3",
      "display_name": "Python 3"
    },
    "language_info": {
      "name": "python"
    }
  },
  "cells": [
    {
      "cell_type": "markdown",
      "metadata": {
        "id": "view-in-github",
        "colab_type": "text"
      },
      "source": [
        "<a href=\"https://colab.research.google.com/github/tripathiosho/ImportantNotebooks/blob/main/KNN_Business_Case.ipynb\" target=\"_parent\"><img src=\"https://colab.research.google.com/assets/colab-badge.svg\" alt=\"Open In Colab\"/></a>"
      ]
    },
    {
      "cell_type": "code",
      "execution_count": null,
      "metadata": {
        "colab": {
          "base_uri": "https://localhost:8080/"
        },
        "id": "sn-wUgH3eToE",
        "outputId": "e589b63a-ae1b-4092-c798-4ad49cf977b8"
      },
      "outputs": [
        {
          "output_type": "stream",
          "name": "stdout",
          "text": [
            "Downloading...\n",
            "From: https://drive.google.com/uc?id=1ZdhRqYv-JizWV6DxO6C4R_k1kxPhmlF2\n",
            "To: /content/multiclass.csv\n",
            "\r  0% 0.00/14.6k [00:00<?, ?B/s]\r100% 14.6k/14.6k [00:00<00:00, 41.6MB/s]\n"
          ]
        }
      ],
      "source": [
        "import pandas as pd\n",
        "import numpy as np\n",
        "\n",
        "!gdown 1ZdhRqYv-JizWV6DxO6C4R_k1kxPhmlF2"
      ]
    },
    {
      "cell_type": "code",
      "source": [
        "df=pd.read_csv('multiclass.csv')\n",
        "df.head()"
      ],
      "metadata": {
        "colab": {
          "base_uri": "https://localhost:8080/",
          "height": 206
        },
        "id": "unF28mWAe1rQ",
        "outputId": "50fea65d-cba2-493d-a339-93c505e83f30"
      },
      "execution_count": null,
      "outputs": [
        {
          "output_type": "execute_result",
          "data": {
            "text/plain": [
              "   Region  Fresh  Milk  Grocery  Frozen  Detergents_Paper  Delicassen  class\n",
              "0       3  12669  9656     7561     214              2674        1338      2\n",
              "1       3   7057  9810     9568    1762              3293        1776      2\n",
              "2       3   6353  8808     7684    2405              3516        7844      2\n",
              "3       3  13265  1196     4221    6404               507        1788      1\n",
              "4       3  22615  5410     7198    3915              1777        5185      1"
            ],
            "text/html": [
              "\n",
              "  <div id=\"df-a8473f96-a28d-4a63-bcfb-03850b35130d\" class=\"colab-df-container\">\n",
              "    <div>\n",
              "<style scoped>\n",
              "    .dataframe tbody tr th:only-of-type {\n",
              "        vertical-align: middle;\n",
              "    }\n",
              "\n",
              "    .dataframe tbody tr th {\n",
              "        vertical-align: top;\n",
              "    }\n",
              "\n",
              "    .dataframe thead th {\n",
              "        text-align: right;\n",
              "    }\n",
              "</style>\n",
              "<table border=\"1\" class=\"dataframe\">\n",
              "  <thead>\n",
              "    <tr style=\"text-align: right;\">\n",
              "      <th></th>\n",
              "      <th>Region</th>\n",
              "      <th>Fresh</th>\n",
              "      <th>Milk</th>\n",
              "      <th>Grocery</th>\n",
              "      <th>Frozen</th>\n",
              "      <th>Detergents_Paper</th>\n",
              "      <th>Delicassen</th>\n",
              "      <th>class</th>\n",
              "    </tr>\n",
              "  </thead>\n",
              "  <tbody>\n",
              "    <tr>\n",
              "      <th>0</th>\n",
              "      <td>3</td>\n",
              "      <td>12669</td>\n",
              "      <td>9656</td>\n",
              "      <td>7561</td>\n",
              "      <td>214</td>\n",
              "      <td>2674</td>\n",
              "      <td>1338</td>\n",
              "      <td>2</td>\n",
              "    </tr>\n",
              "    <tr>\n",
              "      <th>1</th>\n",
              "      <td>3</td>\n",
              "      <td>7057</td>\n",
              "      <td>9810</td>\n",
              "      <td>9568</td>\n",
              "      <td>1762</td>\n",
              "      <td>3293</td>\n",
              "      <td>1776</td>\n",
              "      <td>2</td>\n",
              "    </tr>\n",
              "    <tr>\n",
              "      <th>2</th>\n",
              "      <td>3</td>\n",
              "      <td>6353</td>\n",
              "      <td>8808</td>\n",
              "      <td>7684</td>\n",
              "      <td>2405</td>\n",
              "      <td>3516</td>\n",
              "      <td>7844</td>\n",
              "      <td>2</td>\n",
              "    </tr>\n",
              "    <tr>\n",
              "      <th>3</th>\n",
              "      <td>3</td>\n",
              "      <td>13265</td>\n",
              "      <td>1196</td>\n",
              "      <td>4221</td>\n",
              "      <td>6404</td>\n",
              "      <td>507</td>\n",
              "      <td>1788</td>\n",
              "      <td>1</td>\n",
              "    </tr>\n",
              "    <tr>\n",
              "      <th>4</th>\n",
              "      <td>3</td>\n",
              "      <td>22615</td>\n",
              "      <td>5410</td>\n",
              "      <td>7198</td>\n",
              "      <td>3915</td>\n",
              "      <td>1777</td>\n",
              "      <td>5185</td>\n",
              "      <td>1</td>\n",
              "    </tr>\n",
              "  </tbody>\n",
              "</table>\n",
              "</div>\n",
              "    <div class=\"colab-df-buttons\">\n",
              "\n",
              "  <div class=\"colab-df-container\">\n",
              "    <button class=\"colab-df-convert\" onclick=\"convertToInteractive('df-a8473f96-a28d-4a63-bcfb-03850b35130d')\"\n",
              "            title=\"Convert this dataframe to an interactive table.\"\n",
              "            style=\"display:none;\">\n",
              "\n",
              "  <svg xmlns=\"http://www.w3.org/2000/svg\" height=\"24px\" viewBox=\"0 -960 960 960\">\n",
              "    <path d=\"M120-120v-720h720v720H120Zm60-500h600v-160H180v160Zm220 220h160v-160H400v160Zm0 220h160v-160H400v160ZM180-400h160v-160H180v160Zm440 0h160v-160H620v160ZM180-180h160v-160H180v160Zm440 0h160v-160H620v160Z\"/>\n",
              "  </svg>\n",
              "    </button>\n",
              "\n",
              "  <style>\n",
              "    .colab-df-container {\n",
              "      display:flex;\n",
              "      gap: 12px;\n",
              "    }\n",
              "\n",
              "    .colab-df-convert {\n",
              "      background-color: #E8F0FE;\n",
              "      border: none;\n",
              "      border-radius: 50%;\n",
              "      cursor: pointer;\n",
              "      display: none;\n",
              "      fill: #1967D2;\n",
              "      height: 32px;\n",
              "      padding: 0 0 0 0;\n",
              "      width: 32px;\n",
              "    }\n",
              "\n",
              "    .colab-df-convert:hover {\n",
              "      background-color: #E2EBFA;\n",
              "      box-shadow: 0px 1px 2px rgba(60, 64, 67, 0.3), 0px 1px 3px 1px rgba(60, 64, 67, 0.15);\n",
              "      fill: #174EA6;\n",
              "    }\n",
              "\n",
              "    .colab-df-buttons div {\n",
              "      margin-bottom: 4px;\n",
              "    }\n",
              "\n",
              "    [theme=dark] .colab-df-convert {\n",
              "      background-color: #3B4455;\n",
              "      fill: #D2E3FC;\n",
              "    }\n",
              "\n",
              "    [theme=dark] .colab-df-convert:hover {\n",
              "      background-color: #434B5C;\n",
              "      box-shadow: 0px 1px 3px 1px rgba(0, 0, 0, 0.15);\n",
              "      filter: drop-shadow(0px 1px 2px rgba(0, 0, 0, 0.3));\n",
              "      fill: #FFFFFF;\n",
              "    }\n",
              "  </style>\n",
              "\n",
              "    <script>\n",
              "      const buttonEl =\n",
              "        document.querySelector('#df-a8473f96-a28d-4a63-bcfb-03850b35130d button.colab-df-convert');\n",
              "      buttonEl.style.display =\n",
              "        google.colab.kernel.accessAllowed ? 'block' : 'none';\n",
              "\n",
              "      async function convertToInteractive(key) {\n",
              "        const element = document.querySelector('#df-a8473f96-a28d-4a63-bcfb-03850b35130d');\n",
              "        const dataTable =\n",
              "          await google.colab.kernel.invokeFunction('convertToInteractive',\n",
              "                                                    [key], {});\n",
              "        if (!dataTable) return;\n",
              "\n",
              "        const docLinkHtml = 'Like what you see? Visit the ' +\n",
              "          '<a target=\"_blank\" href=https://colab.research.google.com/notebooks/data_table.ipynb>data table notebook</a>'\n",
              "          + ' to learn more about interactive tables.';\n",
              "        element.innerHTML = '';\n",
              "        dataTable['output_type'] = 'display_data';\n",
              "        await google.colab.output.renderOutput(dataTable, element);\n",
              "        const docLink = document.createElement('div');\n",
              "        docLink.innerHTML = docLinkHtml;\n",
              "        element.appendChild(docLink);\n",
              "      }\n",
              "    </script>\n",
              "  </div>\n",
              "\n",
              "\n",
              "    <div id=\"df-efa93f2c-9b31-4d31-8be1-89df819a8858\">\n",
              "      <button class=\"colab-df-quickchart\" onclick=\"quickchart('df-efa93f2c-9b31-4d31-8be1-89df819a8858')\"\n",
              "                title=\"Suggest charts\"\n",
              "                style=\"display:none;\">\n",
              "\n",
              "<svg xmlns=\"http://www.w3.org/2000/svg\" height=\"24px\"viewBox=\"0 0 24 24\"\n",
              "     width=\"24px\">\n",
              "    <g>\n",
              "        <path d=\"M19 3H5c-1.1 0-2 .9-2 2v14c0 1.1.9 2 2 2h14c1.1 0 2-.9 2-2V5c0-1.1-.9-2-2-2zM9 17H7v-7h2v7zm4 0h-2V7h2v10zm4 0h-2v-4h2v4z\"/>\n",
              "    </g>\n",
              "</svg>\n",
              "      </button>\n",
              "\n",
              "<style>\n",
              "  .colab-df-quickchart {\n",
              "      --bg-color: #E8F0FE;\n",
              "      --fill-color: #1967D2;\n",
              "      --hover-bg-color: #E2EBFA;\n",
              "      --hover-fill-color: #174EA6;\n",
              "      --disabled-fill-color: #AAA;\n",
              "      --disabled-bg-color: #DDD;\n",
              "  }\n",
              "\n",
              "  [theme=dark] .colab-df-quickchart {\n",
              "      --bg-color: #3B4455;\n",
              "      --fill-color: #D2E3FC;\n",
              "      --hover-bg-color: #434B5C;\n",
              "      --hover-fill-color: #FFFFFF;\n",
              "      --disabled-bg-color: #3B4455;\n",
              "      --disabled-fill-color: #666;\n",
              "  }\n",
              "\n",
              "  .colab-df-quickchart {\n",
              "    background-color: var(--bg-color);\n",
              "    border: none;\n",
              "    border-radius: 50%;\n",
              "    cursor: pointer;\n",
              "    display: none;\n",
              "    fill: var(--fill-color);\n",
              "    height: 32px;\n",
              "    padding: 0;\n",
              "    width: 32px;\n",
              "  }\n",
              "\n",
              "  .colab-df-quickchart:hover {\n",
              "    background-color: var(--hover-bg-color);\n",
              "    box-shadow: 0 1px 2px rgba(60, 64, 67, 0.3), 0 1px 3px 1px rgba(60, 64, 67, 0.15);\n",
              "    fill: var(--button-hover-fill-color);\n",
              "  }\n",
              "\n",
              "  .colab-df-quickchart-complete:disabled,\n",
              "  .colab-df-quickchart-complete:disabled:hover {\n",
              "    background-color: var(--disabled-bg-color);\n",
              "    fill: var(--disabled-fill-color);\n",
              "    box-shadow: none;\n",
              "  }\n",
              "\n",
              "  .colab-df-spinner {\n",
              "    border: 2px solid var(--fill-color);\n",
              "    border-color: transparent;\n",
              "    border-bottom-color: var(--fill-color);\n",
              "    animation:\n",
              "      spin 1s steps(1) infinite;\n",
              "  }\n",
              "\n",
              "  @keyframes spin {\n",
              "    0% {\n",
              "      border-color: transparent;\n",
              "      border-bottom-color: var(--fill-color);\n",
              "      border-left-color: var(--fill-color);\n",
              "    }\n",
              "    20% {\n",
              "      border-color: transparent;\n",
              "      border-left-color: var(--fill-color);\n",
              "      border-top-color: var(--fill-color);\n",
              "    }\n",
              "    30% {\n",
              "      border-color: transparent;\n",
              "      border-left-color: var(--fill-color);\n",
              "      border-top-color: var(--fill-color);\n",
              "      border-right-color: var(--fill-color);\n",
              "    }\n",
              "    40% {\n",
              "      border-color: transparent;\n",
              "      border-right-color: var(--fill-color);\n",
              "      border-top-color: var(--fill-color);\n",
              "    }\n",
              "    60% {\n",
              "      border-color: transparent;\n",
              "      border-right-color: var(--fill-color);\n",
              "    }\n",
              "    80% {\n",
              "      border-color: transparent;\n",
              "      border-right-color: var(--fill-color);\n",
              "      border-bottom-color: var(--fill-color);\n",
              "    }\n",
              "    90% {\n",
              "      border-color: transparent;\n",
              "      border-bottom-color: var(--fill-color);\n",
              "    }\n",
              "  }\n",
              "</style>\n",
              "\n",
              "      <script>\n",
              "        async function quickchart(key) {\n",
              "          const quickchartButtonEl =\n",
              "            document.querySelector('#' + key + ' button');\n",
              "          quickchartButtonEl.disabled = true;  // To prevent multiple clicks.\n",
              "          quickchartButtonEl.classList.add('colab-df-spinner');\n",
              "          try {\n",
              "            const charts = await google.colab.kernel.invokeFunction(\n",
              "                'suggestCharts', [key], {});\n",
              "          } catch (error) {\n",
              "            console.error('Error during call to suggestCharts:', error);\n",
              "          }\n",
              "          quickchartButtonEl.classList.remove('colab-df-spinner');\n",
              "          quickchartButtonEl.classList.add('colab-df-quickchart-complete');\n",
              "        }\n",
              "        (() => {\n",
              "          let quickchartButtonEl =\n",
              "            document.querySelector('#df-efa93f2c-9b31-4d31-8be1-89df819a8858 button');\n",
              "          quickchartButtonEl.style.display =\n",
              "            google.colab.kernel.accessAllowed ? 'block' : 'none';\n",
              "        })();\n",
              "      </script>\n",
              "    </div>\n",
              "\n",
              "    </div>\n",
              "  </div>\n"
            ],
            "application/vnd.google.colaboratory.intrinsic+json": {
              "type": "dataframe",
              "variable_name": "df",
              "summary": "{\n  \"name\": \"df\",\n  \"rows\": 440,\n  \"fields\": [\n    {\n      \"column\": \"Region\",\n      \"properties\": {\n        \"dtype\": \"number\",\n        \"std\": 0,\n        \"min\": 1,\n        \"max\": 3,\n        \"num_unique_values\": 3,\n        \"samples\": [\n          3,\n          1,\n          2\n        ],\n        \"semantic_type\": \"\",\n        \"description\": \"\"\n      }\n    },\n    {\n      \"column\": \"Fresh\",\n      \"properties\": {\n        \"dtype\": \"number\",\n        \"std\": 12647,\n        \"min\": 3,\n        \"max\": 112151,\n        \"num_unique_values\": 433,\n        \"samples\": [\n          21117,\n          20398,\n          112151\n        ],\n        \"semantic_type\": \"\",\n        \"description\": \"\"\n      }\n    },\n    {\n      \"column\": \"Milk\",\n      \"properties\": {\n        \"dtype\": \"number\",\n        \"std\": 7380,\n        \"min\": 55,\n        \"max\": 73498,\n        \"num_unique_values\": 421,\n        \"samples\": [\n          8384,\n          7184,\n          7845\n        ],\n        \"semantic_type\": \"\",\n        \"description\": \"\"\n      }\n    },\n    {\n      \"column\": \"Grocery\",\n      \"properties\": {\n        \"dtype\": \"number\",\n        \"std\": 9503,\n        \"min\": 3,\n        \"max\": 92780,\n        \"num_unique_values\": 430,\n        \"samples\": [\n          5160,\n          3,\n          4945\n        ],\n        \"semantic_type\": \"\",\n        \"description\": \"\"\n      }\n    },\n    {\n      \"column\": \"Frozen\",\n      \"properties\": {\n        \"dtype\": \"number\",\n        \"std\": 4854,\n        \"min\": 25,\n        \"max\": 60869,\n        \"num_unique_values\": 426,\n        \"samples\": [\n          269,\n          7530,\n          1152\n        ],\n        \"semantic_type\": \"\",\n        \"description\": \"\"\n      }\n    },\n    {\n      \"column\": \"Detergents_Paper\",\n      \"properties\": {\n        \"dtype\": \"number\",\n        \"std\": 4767,\n        \"min\": 3,\n        \"max\": 40827,\n        \"num_unique_values\": 417,\n        \"samples\": [\n          302,\n          6740,\n          1328\n        ],\n        \"semantic_type\": \"\",\n        \"description\": \"\"\n      }\n    },\n    {\n      \"column\": \"Delicassen\",\n      \"properties\": {\n        \"dtype\": \"number\",\n        \"std\": 2820,\n        \"min\": 3,\n        \"max\": 47943,\n        \"num_unique_values\": 403,\n        \"samples\": [\n          14472,\n          172,\n          59\n        ],\n        \"semantic_type\": \"\",\n        \"description\": \"\"\n      }\n    },\n    {\n      \"column\": \"class\",\n      \"properties\": {\n        \"dtype\": \"number\",\n        \"std\": 0,\n        \"min\": 1,\n        \"max\": 3,\n        \"num_unique_values\": 3,\n        \"samples\": [\n          2,\n          1,\n          3\n        ],\n        \"semantic_type\": \"\",\n        \"description\": \"\"\n      }\n    }\n  ]\n}"
            }
          },
          "metadata": {},
          "execution_count": 73
        }
      ]
    },
    {
      "cell_type": "code",
      "source": [
        "df['class'].value_counts()"
      ],
      "metadata": {
        "colab": {
          "base_uri": "https://localhost:8080/",
          "height": 209
        },
        "id": "iuF2kLUke-lM",
        "outputId": "55e4ce9d-d15d-4067-9c9a-c2bd23bd5fcb"
      },
      "execution_count": null,
      "outputs": [
        {
          "output_type": "execute_result",
          "data": {
            "text/plain": [
              "class\n",
              "2    180\n",
              "3    173\n",
              "1     87\n",
              "Name: count, dtype: int64"
            ],
            "text/html": [
              "<div>\n",
              "<style scoped>\n",
              "    .dataframe tbody tr th:only-of-type {\n",
              "        vertical-align: middle;\n",
              "    }\n",
              "\n",
              "    .dataframe tbody tr th {\n",
              "        vertical-align: top;\n",
              "    }\n",
              "\n",
              "    .dataframe thead th {\n",
              "        text-align: right;\n",
              "    }\n",
              "</style>\n",
              "<table border=\"1\" class=\"dataframe\">\n",
              "  <thead>\n",
              "    <tr style=\"text-align: right;\">\n",
              "      <th></th>\n",
              "      <th>count</th>\n",
              "    </tr>\n",
              "    <tr>\n",
              "      <th>class</th>\n",
              "      <th></th>\n",
              "    </tr>\n",
              "  </thead>\n",
              "  <tbody>\n",
              "    <tr>\n",
              "      <th>2</th>\n",
              "      <td>180</td>\n",
              "    </tr>\n",
              "    <tr>\n",
              "      <th>3</th>\n",
              "      <td>173</td>\n",
              "    </tr>\n",
              "    <tr>\n",
              "      <th>1</th>\n",
              "      <td>87</td>\n",
              "    </tr>\n",
              "  </tbody>\n",
              "</table>\n",
              "</div><br><label><b>dtype:</b> int64</label>"
            ]
          },
          "metadata": {},
          "execution_count": 74
        }
      ]
    },
    {
      "cell_type": "code",
      "source": [
        "X=df[['Region', 'Fresh',    'Milk', 'Grocery',  'Frozen',   'Detergents_Paper', 'Delicassen'    ]].copy()\n",
        "y=df[['class']].copy()\n"
      ],
      "metadata": {
        "id": "m59VtVy4gHt9"
      },
      "execution_count": null,
      "outputs": []
    },
    {
      "cell_type": "code",
      "source": [
        "X.shape"
      ],
      "metadata": {
        "colab": {
          "base_uri": "https://localhost:8080/"
        },
        "id": "0rXsyTY0harY",
        "outputId": "f42cdadc-5dd2-4a9a-e3de-2daa92efadda"
      },
      "execution_count": null,
      "outputs": [
        {
          "output_type": "execute_result",
          "data": {
            "text/plain": [
              "(440, 7)"
            ]
          },
          "metadata": {},
          "execution_count": 76
        }
      ]
    },
    {
      "cell_type": "code",
      "source": [
        "y.shape"
      ],
      "metadata": {
        "colab": {
          "base_uri": "https://localhost:8080/"
        },
        "id": "lMBo2u-fhgjK",
        "outputId": "95fde529-20e0-4a25-84f9-510720ede206"
      },
      "execution_count": null,
      "outputs": [
        {
          "output_type": "execute_result",
          "data": {
            "text/plain": [
              "(440, 1)"
            ]
          },
          "metadata": {},
          "execution_count": 77
        }
      ]
    },
    {
      "cell_type": "code",
      "source": [
        "# for this data i would need visualization power of 8 D\n",
        "\n",
        "#find a way to make it visible in 2D\n",
        "\n",
        "# JUST FOR VISIALIZATION PURPOSE PCA"
      ],
      "metadata": {
        "id": "JzvBP-1phkin"
      },
      "execution_count": null,
      "outputs": []
    },
    {
      "cell_type": "code",
      "source": [
        "from sklearn.decomposition import PCA\n",
        "import matplotlib.pyplot as plt\n",
        "\n",
        "\n",
        "def scatter_visualize(visualize1,visualize2,y_label):\n",
        "  scatter = plt.scatter(visualize[:,0] ,visualize[:,1],c = y.values[:,0] )\n",
        "  plt.legend(handles=scatter.legend_elements()[0], labels=['Class1','Class2','Class3'])\n",
        "  plt.show()\n",
        "\n",
        "# reducing features to just 2 features for visualization purpose\n",
        "pca = PCA(n_components=2)\n",
        "visualize = pca.fit_transform(X)\n",
        "\n",
        "\n",
        "scatter_visualize(visualize[:,0] ,visualize[:,1],y.values[:,0])"
      ],
      "metadata": {
        "colab": {
          "base_uri": "https://localhost:8080/",
          "height": 430
        },
        "id": "on7n5x3Piwnt",
        "outputId": "568eefe5-a669-437a-ca33-add9cdc925d5"
      },
      "execution_count": null,
      "outputs": [
        {
          "output_type": "display_data",
          "data": {
            "text/plain": [
              "<Figure size 640x480 with 1 Axes>"
            ],
            "image/png": "[encoded data removed]"
          },
          "metadata": {}
        }
      ]
    },
    {
      "cell_type": "code",
      "source": [
        "from sklearn.model_selection import train_test_split\n",
        "import matplotlib.pyplot as plt\n",
        "\n",
        "X_train_val, X_test, y_train_val, y_test = train_test_split(X,y,test_size=0.25, random_state=42)\n",
        "\n",
        "X_train, X_val, y_train, y_val = train_test_split(X_train_val,y_train_val,test_size=0.25, random_state=42)\n",
        "\n",
        "print(X_train.shape, y_train.shape)\n",
        "print(X_val.shape, y_val.shape)\n",
        "print(X_test.shape, y_test.shape)"
      ],
      "metadata": {
        "colab": {
          "base_uri": "https://localhost:8080/"
        },
        "id": "z9QzMyt8jDF6",
        "outputId": "1d6da021-be5d-4a65-f8d6-aa6e698df23f"
      },
      "execution_count": null,
      "outputs": [
        {
          "output_type": "stream",
          "name": "stdout",
          "text": [
            "(247, 7) (247, 1)\n",
            "(83, 7) (83, 1)\n",
            "(110, 7) (110, 1)\n"
          ]
        }
      ]
    },
    {
      "cell_type": "code",
      "source": [
        "from imblearn.over_sampling import SMOTE\n",
        "\n",
        "# Create an instance of SMOTE\n",
        "smt = SMOTE()\n",
        "\n",
        "X_sm, y_sm = smt.fit_resample(X_train, y_train)\n",
        "\n",
        "y_sm.value_counts()"
      ],
      "metadata": {
        "colab": {
          "base_uri": "https://localhost:8080/",
          "height": 209
        },
        "id": "gNcNnSiJvqQH",
        "outputId": "1ac0e215-4393-4251-e297-7b7fb4a1105a"
      },
      "execution_count": null,
      "outputs": [
        {
          "output_type": "execute_result",
          "data": {
            "text/plain": [
              "class\n",
              "1        99\n",
              "2        99\n",
              "3        99\n",
              "Name: count, dtype: int64"
            ],
            "text/html": [
              "<div>\n",
              "<style scoped>\n",
              "    .dataframe tbody tr th:only-of-type {\n",
              "        vertical-align: middle;\n",
              "    }\n",
              "\n",
              "    .dataframe tbody tr th {\n",
              "        vertical-align: top;\n",
              "    }\n",
              "\n",
              "    .dataframe thead th {\n",
              "        text-align: right;\n",
              "    }\n",
              "</style>\n",
              "<table border=\"1\" class=\"dataframe\">\n",
              "  <thead>\n",
              "    <tr style=\"text-align: right;\">\n",
              "      <th></th>\n",
              "      <th>count</th>\n",
              "    </tr>\n",
              "    <tr>\n",
              "      <th>class</th>\n",
              "      <th></th>\n",
              "    </tr>\n",
              "  </thead>\n",
              "  <tbody>\n",
              "    <tr>\n",
              "      <th>1</th>\n",
              "      <td>99</td>\n",
              "    </tr>\n",
              "    <tr>\n",
              "      <th>2</th>\n",
              "      <td>99</td>\n",
              "    </tr>\n",
              "    <tr>\n",
              "      <th>3</th>\n",
              "      <td>99</td>\n",
              "    </tr>\n",
              "  </tbody>\n",
              "</table>\n",
              "</div><br><label><b>dtype:</b> int64</label>"
            ]
          },
          "metadata": {},
          "execution_count": 81
        }
      ]
    },
    {
      "cell_type": "code",
      "source": [
        "from sklearn.preprocessing import StandardScaler\n",
        "\n",
        "st =  StandardScaler()\n",
        "\n",
        "X_sm = st.fit_transform(X_sm.values)\n",
        "X_val_scaled = st.transform(X_val.values)\n",
        "X_test_scaled = st.transform(X_test.values)\n",
        "\n",
        "y_sm = y_sm.values[:,0]\n",
        "y_val = y_val.values[:,0]\n",
        "y_test = y_test.values[:,0]"
      ],
      "metadata": {
        "id": "j8JKVlccwJgu"
      },
      "execution_count": null,
      "outputs": []
    },
    {
      "cell_type": "code",
      "source": [
        "#KNN implementation from scratch\n",
        "\n",
        "X_val_scaled[50]"
      ],
      "metadata": {
        "colab": {
          "base_uri": "https://localhost:8080/"
        },
        "id": "5b61SiAbwenb",
        "outputId": "5a181f0e-6da2-4e27-9ef9-acffda87789d"
      },
      "execution_count": null,
      "outputs": [
        {
          "output_type": "execute_result",
          "data": {
            "text/plain": [
              "array([ 0.67120633, -0.59972021, -0.43814728, -0.65585745, -0.28349713,\n",
              "       -0.50967537, -0.27179174])"
            ]
          },
          "metadata": {},
          "execution_count": 83
        }
      ]
    },
    {
      "cell_type": "code",
      "source": [
        "dist = np.sqrt(np.sum((X_sm - X_val_scaled[50])**2, axis=1))"
      ],
      "metadata": {
        "id": "gCxFvLynw7ql"
      },
      "execution_count": null,
      "outputs": []
    },
    {
      "cell_type": "code",
      "source": [
        "dist.shape"
      ],
      "metadata": {
        "colab": {
          "base_uri": "https://localhost:8080/"
        },
        "id": "EaxJJomixd0I",
        "outputId": "9fabbe23-a16c-4d14-d6f4-831afbb7d965"
      },
      "execution_count": null,
      "outputs": [
        {
          "output_type": "execute_result",
          "data": {
            "text/plain": [
              "(297,)"
            ]
          },
          "metadata": {},
          "execution_count": 85
        }
      ]
    },
    {
      "cell_type": "code",
      "source": [
        "#I WANT THE LABELS WITH THE DISTANCE THAT WE HAVE CALCULATED\n",
        "\n",
        "\n",
        "y_sm"
      ],
      "metadata": {
        "colab": {
          "base_uri": "https://localhost:8080/"
        },
        "id": "BxvlfclNxhI-",
        "outputId": "7a2f82e6-bef6-4fc7-a909-29ccb2af9b49"
      },
      "execution_count": null,
      "outputs": [
        {
          "output_type": "execute_result",
          "data": {
            "text/plain": [
              "array([2, 1, 2, 3, 3, 2, 3, 3, 2, 3, 3, 2, 2, 3, 1, 1, 1, 2, 1, 3, 2, 1,\n",
              "       2, 3, 3, 3, 3, 3, 2, 1, 2, 2, 2, 3, 3, 3, 3, 2, 2, 2, 3, 3, 2, 2,\n",
              "       1, 2, 1, 3, 3, 1, 3, 3, 2, 2, 2, 3, 1, 3, 2, 1, 1, 1, 2, 1, 3, 2,\n",
              "       3, 3, 2, 3, 1, 3, 2, 2, 1, 3, 3, 3, 2, 2, 3, 3, 2, 3, 2, 3, 2, 2,\n",
              "       3, 3, 2, 3, 3, 2, 1, 2, 2, 1, 3, 2, 1, 2, 1, 3, 2, 1, 1, 1, 2, 3,\n",
              "       3, 2, 3, 2, 1, 2, 3, 1, 2, 2, 2, 2, 3, 2, 2, 2, 2, 1, 3, 2, 2, 3,\n",
              "       2, 3, 1, 3, 1, 2, 2, 3, 2, 2, 2, 3, 3, 3, 2, 2, 3, 3, 1, 2, 1, 1,\n",
              "       1, 3, 1, 1, 2, 3, 3, 3, 3, 2, 1, 3, 1, 3, 3, 3, 3, 2, 2, 3, 3, 2,\n",
              "       2, 2, 1, 1, 1, 2, 3, 1, 3, 2, 3, 2, 3, 3, 1, 2, 2, 3, 2, 2, 3, 1,\n",
              "       1, 3, 3, 2, 3, 3, 1, 2, 3, 1, 3, 1, 3, 2, 2, 2, 3, 1, 3, 1, 1, 2,\n",
              "       3, 3, 2, 3, 3, 3, 3, 3, 3, 1, 2, 2, 2, 3, 2, 1, 3, 1, 2, 3, 2, 2,\n",
              "       3, 2, 2, 2, 3, 1, 1, 1, 1, 1, 1, 1, 1, 1, 1, 1, 1, 1, 1, 1, 1, 1,\n",
              "       1, 1, 1, 1, 1, 1, 1, 1, 1, 1, 1, 1, 1, 1, 1, 1, 1, 1, 1, 1, 1, 1,\n",
              "       1, 1, 1, 1, 1, 1, 1, 2, 2, 2, 2])"
            ]
          },
          "metadata": {},
          "execution_count": 86
        }
      ]
    },
    {
      "cell_type": "code",
      "source": [
        "dist"
      ],
      "metadata": {
        "colab": {
          "base_uri": "https://localhost:8080/"
        },
        "id": "PE1s-0DcyKDs",
        "outputId": "7100c573-b8ed-483e-9c29-e4b7523baa32"
      },
      "execution_count": null,
      "outputs": [
        {
          "output_type": "execute_result",
          "data": {
            "text/plain": [
              "array([ 2.82871065,  1.17390623,  3.94621561,  1.27954885,  0.71249695,\n",
              "        2.95676528,  0.72479827,  0.51938284,  2.1558501 ,  0.53180073,\n",
              "        2.55891678,  3.05297554,  7.11557145,  0.50860293,  1.45999331,\n",
              "        1.42488395,  1.66617727,  4.10409805,  0.86461449,  2.67265933,\n",
              "       12.63151889,  0.94317083,  1.59823641,  0.30405039,  2.56338548,\n",
              "        1.32123183,  1.48443007,  2.57873562,  2.07568913,  0.92567761,\n",
              "        2.92676894,  2.9842166 ,  8.11003824,  0.30482054,  0.42011508,\n",
              "        1.00182715,  0.70581031,  1.38738742,  2.07356091,  2.6440317 ,\n",
              "        0.56872404,  1.4706505 ,  5.25141096,  2.54442647,  0.90111693,\n",
              "        1.73365407,  2.16716135,  0.61864201,  1.08612162,  1.09771515,\n",
              "        0.39799249,  1.8759431 ,  4.49811196,  5.17450565,  1.81274827,\n",
              "        2.73503639,  1.51644929,  0.33016754,  1.8307557 ,  2.49541207,\n",
              "        2.05773417,  1.98938865,  3.0626484 ,  1.2221128 ,  1.35846345,\n",
              "        1.45819601,  2.71651165,  2.69103994,  5.34989084,  0.5637456 ,\n",
              "        0.4154236 ,  0.60018187,  2.30149813,  3.72855591,  2.90428134,\n",
              "        0.57695582,  1.41509247,  2.82547827,  4.78751681,  5.12748394,\n",
              "        2.79346794,  0.69148691,  1.89576597,  1.49783243,  2.97926169,\n",
              "        0.50003012,  6.98322568,  1.74432192,  2.63654919,  0.36650196,\n",
              "        2.09722438,  2.50485243,  0.37814559,  2.66157013,  1.18079125,\n",
              "        3.23062939,  2.00167628,  1.98683495,  0.23192357,  3.28241215,\n",
              "        0.75779415,  2.86021479,  2.26834497,  2.63258083,  2.99000358,\n",
              "        2.70279963,  3.04878202,  1.40705506,  3.21501159,  0.44581006,\n",
              "        1.34152012,  1.91648516,  1.28221837,  3.64649261,  2.24792968,\n",
              "        4.95217378,  0.28727227,  1.91171071,  2.61846149,  2.87212177,\n",
              "        1.86112508,  4.87595189,  0.80110367,  4.63385265, 12.85264755,\n",
              "        2.14900563,  0.72636312,  2.02956234,  1.50181507,  1.786212  ,\n",
              "        3.63071677,  0.45585736, 11.92646211,  0.97199225,  1.8361485 ,\n",
              "        3.01313709,  2.98764101,  2.99038046,  1.70013142,  1.30886427,\n",
              "        4.08658088,  3.01297417,  3.84518952,  0.80380834,  0.91458331,\n",
              "        2.5108097 ,  3.04163128,  3.28106474,  2.62909599,  2.59831344,\n",
              "        0.69371191,  2.7721008 ,  1.3060616 ,  1.88586348,  2.82248923,\n",
              "        1.22178408,  1.42939944,  1.62915014,  7.30585155,  2.49596981,\n",
              "        0.33593607,  0.21681539,  2.50879269,  2.57206658,  1.58807458,\n",
              "        0.67115948,  2.58458516,  3.48325711,  2.51450541,  0.34553383,\n",
              "        0.60042109,  3.02910336,  2.20152751,  1.19078692,  0.54588859,\n",
              "        1.48058157,  3.38641336,  2.20141364,  1.59612316,  0.79366716,\n",
              "        1.89468755,  6.21336075,  0.6688223 ,  1.41075926,  1.43638716,\n",
              "        5.3379243 ,  0.49294774,  1.78469533,  2.18514085,  0.6171526 ,\n",
              "        1.028792  ,  4.09686878,  2.79349787,  0.88752189,  2.23668154,\n",
              "        8.00968387,  1.37490714,  1.27886581,  2.80537374,  0.55075757,\n",
              "        2.79884079,  1.58098401,  0.37031633,  0.38645496,  2.66613774,\n",
              "        4.48071952,  2.85649069,  0.58160625,  2.87153828,  2.98722358,\n",
              "        0.96055231,  5.0792961 , 17.78982196,  5.48142888,  1.41279364,\n",
              "        1.77032156,  2.7204813 ,  2.52066844,  3.61221102,  3.97054662,\n",
              "        0.82881697,  0.41435337,  2.49170685,  0.52558493,  0.67613615,\n",
              "        0.79578952,  0.62426384,  0.57173807,  1.75339226,  2.73105453,\n",
              "        1.86789321,  4.93348609,  4.70152195,  1.61928161,  3.04568525,\n",
              "        1.14542491,  1.47710638,  1.93255564,  4.62435102,  0.2044222 ,\n",
              "        1.46660064,  2.39001498,  0.85669431,  1.53223156,  2.48823293,\n",
              "        3.17161532,  0.67867547,  2.67152286,  1.42159137,  1.38696254,\n",
              "        1.74642474,  1.13800432,  0.53220791,  3.05580378,  1.60495023,\n",
              "        1.69901583,  1.47966821,  0.84747124,  0.89197814,  3.04836125,\n",
              "        2.67064021,  1.18510723,  2.53077611,  1.68449322,  1.45251343,\n",
              "        2.69936371,  0.71316589,  2.96649089,  1.7407166 ,  1.56148053,\n",
              "        1.42337273,  0.78165234,  0.8035955 ,  2.98395703,  1.5973938 ,\n",
              "        1.95058058,  0.37945811,  1.65294493,  1.83899071,  1.22972858,\n",
              "        1.04770668,  0.96996666,  1.41119756,  2.88980292,  2.20356257,\n",
              "        2.92720218,  1.97590683,  1.48656185,  0.84972707,  1.02927418,\n",
              "        1.85580448,  1.56730282,  1.79433129,  1.76288708,  2.66981218,\n",
              "        4.17285968,  2.27538456])"
            ]
          },
          "metadata": {},
          "execution_count": 87
        }
      ]
    },
    {
      "cell_type": "code",
      "source": [
        "distances= [(dist[i], y_sm[i]) for i in range (len(dist))]"
      ],
      "metadata": {
        "id": "UzPyuK8NyQq5"
      },
      "execution_count": null,
      "outputs": []
    },
    {
      "cell_type": "code",
      "source": [
        "distances"
      ],
      "metadata": {
        "colab": {
          "base_uri": "https://localhost:8080/"
        },
        "id": "3nBKmJX9ygAQ",
        "outputId": "2b567e2c-b017-46b7-bf39-19a02c5f2971"
      },
      "execution_count": null,
      "outputs": [
        {
          "output_type": "execute_result",
          "data": {
            "text/plain": [
              "[(np.float64(2.828710651754577), np.int64(2)),\n",
              " (np.float64(1.17390622748314), np.int64(1)),\n",
              " (np.float64(3.9462156119590555), np.int64(2)),\n",
              " (np.float64(1.2795488462786941), np.int64(3)),\n",
              " (np.float64(0.7124969505463383), np.int64(3)),\n",
              " (np.float64(2.9567652816692007), np.int64(2)),\n",
              " (np.float64(0.724798274826574), np.int64(3)),\n",
              " (np.float64(0.5193828377575481), np.int64(3)),\n",
              " (np.float64(2.155850103994385), np.int64(2)),\n",
              " (np.float64(0.5318007275061181), np.int64(3)),\n",
              " (np.float64(2.5589167757152778), np.int64(3)),\n",
              " (np.float64(3.052975538603786), np.int64(2)),\n",
              " (np.float64(7.115571454151625), np.int64(2)),\n",
              " (np.float64(0.5086029261441205), np.int64(3)),\n",
              " (np.float64(1.4599933126568059), np.int64(1)),\n",
              " (np.float64(1.4248839452787674), np.int64(1)),\n",
              " (np.float64(1.6661772741087286), np.int64(1)),\n",
              " (np.float64(4.104098053514254), np.int64(2)),\n",
              " (np.float64(0.8646144890684337), np.int64(1)),\n",
              " (np.float64(2.6726593304390374), np.int64(3)),\n",
              " (np.float64(12.63151888739302), np.int64(2)),\n",
              " (np.float64(0.9431708260734716), np.int64(1)),\n",
              " (np.float64(1.598236410156554), np.int64(2)),\n",
              " (np.float64(0.30405039345259965), np.int64(3)),\n",
              " (np.float64(2.56338547708705), np.int64(3)),\n",
              " (np.float64(1.3212318321934613), np.int64(3)),\n",
              " (np.float64(1.4844300685446128), np.int64(3)),\n",
              " (np.float64(2.5787356187029573), np.int64(3)),\n",
              " (np.float64(2.075689132406013), np.int64(2)),\n",
              " (np.float64(0.9256776095074645), np.int64(1)),\n",
              " (np.float64(2.9267689396432526), np.int64(2)),\n",
              " (np.float64(2.984216600314261), np.int64(2)),\n",
              " (np.float64(8.110038239568807), np.int64(2)),\n",
              " (np.float64(0.3048205374566564), np.int64(3)),\n",
              " (np.float64(0.42011508050738045), np.int64(3)),\n",
              " (np.float64(1.0018271466690059), np.int64(3)),\n",
              " (np.float64(0.7058103134793228), np.int64(3)),\n",
              " (np.float64(1.3873874172060332), np.int64(2)),\n",
              " (np.float64(2.073560910832201), np.int64(2)),\n",
              " (np.float64(2.6440316989349832), np.int64(2)),\n",
              " (np.float64(0.568724036831022), np.int64(3)),\n",
              " (np.float64(1.4706505036310917), np.int64(3)),\n",
              " (np.float64(5.251410958876006), np.int64(2)),\n",
              " (np.float64(2.5444264667322813), np.int64(2)),\n",
              " (np.float64(0.9011169266550082), np.int64(1)),\n",
              " (np.float64(1.733654069610315), np.int64(2)),\n",
              " (np.float64(2.1671613538999557), np.int64(1)),\n",
              " (np.float64(0.6186420117426448), np.int64(3)),\n",
              " (np.float64(1.0861216238888913), np.int64(3)),\n",
              " (np.float64(1.0977151470189694), np.int64(1)),\n",
              " (np.float64(0.39799249211797083), np.int64(3)),\n",
              " (np.float64(1.8759431024002813), np.int64(3)),\n",
              " (np.float64(4.498111964109525), np.int64(2)),\n",
              " (np.float64(5.174505645916534), np.int64(2)),\n",
              " (np.float64(1.8127482703954043), np.int64(2)),\n",
              " (np.float64(2.735036394089422), np.int64(3)),\n",
              " (np.float64(1.5164492906010227), np.int64(1)),\n",
              " (np.float64(0.3301675378467456), np.int64(3)),\n",
              " (np.float64(1.830755704543287), np.int64(2)),\n",
              " (np.float64(2.495412070062066), np.int64(1)),\n",
              " (np.float64(2.0577341682078902), np.int64(1)),\n",
              " (np.float64(1.9893886454038232), np.int64(1)),\n",
              " (np.float64(3.062648396110681), np.int64(2)),\n",
              " (np.float64(1.2221127998965562), np.int64(1)),\n",
              " (np.float64(1.358463445327434), np.int64(3)),\n",
              " (np.float64(1.4581960146444044), np.int64(2)),\n",
              " (np.float64(2.716511647676802), np.int64(3)),\n",
              " (np.float64(2.6910399424426092), np.int64(3)),\n",
              " (np.float64(5.349890841727992), np.int64(2)),\n",
              " (np.float64(0.5637455955791384), np.int64(3)),\n",
              " (np.float64(0.41542359951035784), np.int64(1)),\n",
              " (np.float64(0.6001818714915624), np.int64(3)),\n",
              " (np.float64(2.301498125901212), np.int64(2)),\n",
              " (np.float64(3.728555906436), np.int64(2)),\n",
              " (np.float64(2.9042813395452347), np.int64(1)),\n",
              " (np.float64(0.5769558237921062), np.int64(3)),\n",
              " (np.float64(1.4150924699090333), np.int64(3)),\n",
              " (np.float64(2.8254782677026604), np.int64(3)),\n",
              " (np.float64(4.787516813332104), np.int64(2)),\n",
              " (np.float64(5.127483937607076), np.int64(2)),\n",
              " (np.float64(2.79346793583886), np.int64(3)),\n",
              " (np.float64(0.6914869078888594), np.int64(3)),\n",
              " (np.float64(1.8957659691959068), np.int64(2)),\n",
              " (np.float64(1.4978324280012578), np.int64(3)),\n",
              " (np.float64(2.9792616896516178), np.int64(2)),\n",
              " (np.float64(0.5000301174123564), np.int64(3)),\n",
              " (np.float64(6.983225676819874), np.int64(2)),\n",
              " (np.float64(1.7443219222938653), np.int64(2)),\n",
              " (np.float64(2.6365491850325977), np.int64(3)),\n",
              " (np.float64(0.36650195517220796), np.int64(3)),\n",
              " (np.float64(2.0972243760759177), np.int64(2)),\n",
              " (np.float64(2.504852433064778), np.int64(3)),\n",
              " (np.float64(0.37814558571232415), np.int64(3)),\n",
              " (np.float64(2.661570132993678), np.int64(2)),\n",
              " (np.float64(1.180791247186117), np.int64(1)),\n",
              " (np.float64(3.23062938579123), np.int64(2)),\n",
              " (np.float64(2.001676280021793), np.int64(2)),\n",
              " (np.float64(1.9868349502817535), np.int64(1)),\n",
              " (np.float64(0.23192357416296897), np.int64(3)),\n",
              " (np.float64(3.28241214653628), np.int64(2)),\n",
              " (np.float64(0.7577941527676351), np.int64(1)),\n",
              " (np.float64(2.8602147872358272), np.int64(2)),\n",
              " (np.float64(2.268344974771256), np.int64(1)),\n",
              " (np.float64(2.632580834356756), np.int64(3)),\n",
              " (np.float64(2.9900035789328405), np.int64(2)),\n",
              " (np.float64(2.7027996321566374), np.int64(1)),\n",
              " (np.float64(3.048782022989574), np.int64(1)),\n",
              " (np.float64(1.407055056611118), np.int64(1)),\n",
              " (np.float64(3.2150115892496016), np.int64(2)),\n",
              " (np.float64(0.4458100627820551), np.int64(3)),\n",
              " (np.float64(1.341520119818265), np.int64(3)),\n",
              " (np.float64(1.916485160003796), np.int64(2)),\n",
              " (np.float64(1.2822183699758023), np.int64(3)),\n",
              " (np.float64(3.6464926146105987), np.int64(2)),\n",
              " (np.float64(2.2479296787738376), np.int64(1)),\n",
              " (np.float64(4.952173781396477), np.int64(2)),\n",
              " (np.float64(0.2872722664472717), np.int64(3)),\n",
              " (np.float64(1.9117107075879975), np.int64(1)),\n",
              " (np.float64(2.6184614914569453), np.int64(2)),\n",
              " (np.float64(2.872121771952624), np.int64(2)),\n",
              " (np.float64(1.8611250762252354), np.int64(2)),\n",
              " (np.float64(4.875951893209695), np.int64(2)),\n",
              " (np.float64(0.801103669879603), np.int64(3)),\n",
              " (np.float64(4.6338526464651775), np.int64(2)),\n",
              " (np.float64(12.852647549452147), np.int64(2)),\n",
              " (np.float64(2.149005625915531), np.int64(2)),\n",
              " (np.float64(0.7263631189192868), np.int64(2)),\n",
              " (np.float64(2.0295623375596286), np.int64(1)),\n",
              " (np.float64(1.501815073259819), np.int64(3)),\n",
              " (np.float64(1.7862120012891542), np.int64(2)),\n",
              " (np.float64(3.6307167691893), np.int64(2)),\n",
              " (np.float64(0.45585736048346437), np.int64(3)),\n",
              " (np.float64(11.926462113319218), np.int64(2)),\n",
              " (np.float64(0.9719922458546771), np.int64(3)),\n",
              " (np.float64(1.8361484989498533), np.int64(1)),\n",
              " (np.float64(3.0131370899258743), np.int64(3)),\n",
              " (np.float64(2.9876410097498374), np.int64(1)),\n",
              " (np.float64(2.9903804642872402), np.int64(2)),\n",
              " (np.float64(1.7001314210384204), np.int64(2)),\n",
              " (np.float64(1.3088642691310675), np.int64(3)),\n",
              " (np.float64(4.086580879666247), np.int64(2)),\n",
              " (np.float64(3.012974167738825), np.int64(2)),\n",
              " (np.float64(3.845189517188865), np.int64(2)),\n",
              " (np.float64(0.8038083442607914), np.int64(3)),\n",
              " (np.float64(0.9145833089001507), np.int64(3)),\n",
              " (np.float64(2.5108097012782924), np.int64(3)),\n",
              " (np.float64(3.0416312753076404), np.int64(2)),\n",
              " (np.float64(3.2810647408707743), np.int64(2)),\n",
              " (np.float64(2.6290959913373886), np.int64(3)),\n",
              " (np.float64(2.5983134353387776), np.int64(3)),\n",
              " (np.float64(0.693711906398734), np.int64(1)),\n",
              " (np.float64(2.7721008020676003), np.int64(2)),\n",
              " (np.float64(1.3060616022760596), np.int64(1)),\n",
              " (np.float64(1.8858634849496707), np.int64(1)),\n",
              " (np.float64(2.822489227525158), np.int64(1)),\n",
              " (np.float64(1.221784082465037), np.int64(3)),\n",
              " (np.float64(1.4293994429277572), np.int64(1)),\n",
              " (np.float64(1.6291501369850134), np.int64(1)),\n",
              " (np.float64(7.305851546623367), np.int64(2)),\n",
              " (np.float64(2.4959698061638775), np.int64(3)),\n",
              " (np.float64(0.33593607381535673), np.int64(3)),\n",
              " (np.float64(0.2168153939640169), np.int64(3)),\n",
              " (np.float64(2.5087926869124426), np.int64(3)),\n",
              " (np.float64(2.572066584398464), np.int64(2)),\n",
              " (np.float64(1.5880745762273034), np.int64(1)),\n",
              " (np.float64(0.6711594769360398), np.int64(3)),\n",
              " (np.float64(2.5845851550606413), np.int64(1)),\n",
              " (np.float64(3.4832571141785253), np.int64(3)),\n",
              " (np.float64(2.5145054119585484), np.int64(3)),\n",
              " (np.float64(0.3455338264814194), np.int64(3)),\n",
              " (np.float64(0.6004210892463766), np.int64(3)),\n",
              " (np.float64(3.0291033610367215), np.int64(2)),\n",
              " (np.float64(2.20152751315901), np.int64(2)),\n",
              " (np.float64(1.190786924985024), np.int64(3)),\n",
              " (np.float64(0.5458885915481912), np.int64(3)),\n",
              " (np.float64(1.4805815698961478), np.int64(2)),\n",
              " (np.float64(3.386413359280905), np.int64(2)),\n",
              " (np.float64(2.2014136355150176), np.int64(2)),\n",
              " (np.float64(1.5961231566138812), np.int64(1)),\n",
              " (np.float64(0.79366715748236), np.int64(1)),\n",
              " (np.float64(1.8946875527487086), np.int64(1)),\n",
              " (np.float64(6.213360745821725), np.int64(2)),\n",
              " (np.float64(0.6688223029122614), np.int64(3)),\n",
              " (np.float64(1.4107592580351094), np.int64(1)),\n",
              " (np.float64(1.4363871557139876), np.int64(3)),\n",
              " (np.float64(5.337924303254471), np.int64(2)),\n",
              " (np.float64(0.4929477435235231), np.int64(3)),\n",
              " (np.float64(1.7846953317696197), np.int64(2)),\n",
              " (np.float64(2.18514084903418), np.int64(3)),\n",
              " (np.float64(0.6171525961331029), np.int64(3)),\n",
              " (np.float64(1.028791995973919), np.int64(1)),\n",
              " (np.float64(4.09686878468875), np.int64(2)),\n",
              " (np.float64(2.793497866748089), np.int64(2)),\n",
              " (np.float64(0.8875218934458423), np.int64(3)),\n",
              " (np.float64(2.2366815382716316), np.int64(2)),\n",
              " (np.float64(8.00968386973793), np.int64(2)),\n",
              " (np.float64(1.3749071399997481), np.int64(3)),\n",
              " (np.float64(1.2788658112811417), np.int64(1)),\n",
              " (np.float64(2.80537374339795), np.int64(1)),\n",
              " (np.float64(0.5507575706546174), np.int64(3)),\n",
              " (np.float64(2.79884079367758), np.int64(3)),\n",
              " (np.float64(1.5809840075719168), np.int64(2)),\n",
              " (np.float64(0.37031633301634753), np.int64(3)),\n",
              " (np.float64(0.3864549646084442), np.int64(3)),\n",
              " (np.float64(2.6661377394479024), np.int64(1)),\n",
              " (np.float64(4.480719519196904), np.int64(2)),\n",
              " (np.float64(2.8564906883991728), np.int64(3)),\n",
              " (np.float64(0.5816062545413497), np.int64(1)),\n",
              " (np.float64(2.8715382770119833), np.int64(3)),\n",
              " (np.float64(2.9872235780486673), np.int64(1)),\n",
              " (np.float64(0.9605523125924303), np.int64(3)),\n",
              " (np.float64(5.079296100093865), np.int64(2)),\n",
              " (np.float64(17.78982196099204), np.int64(2)),\n",
              " (np.float64(5.4814288772479935), np.int64(2)),\n",
              " (np.float64(1.4127936411856423), np.int64(3)),\n",
              " (np.float64(1.77032156402458), np.int64(1)),\n",
              " (np.float64(2.720481301773018), np.int64(3)),\n",
              " (np.float64(2.5206684420305123), np.int64(1)),\n",
              " (np.float64(3.612211019321363), np.int64(1)),\n",
              " (np.float64(3.970546620617884), np.int64(2)),\n",
              " (np.float64(0.8288169685525271), np.int64(3)),\n",
              " (np.float64(0.41435336608455947), np.int64(3)),\n",
              " (np.float64(2.4917068486501814), np.int64(2)),\n",
              " (np.float64(0.5255849338719806), np.int64(3)),\n",
              " (np.float64(0.6761361467696385), np.int64(3)),\n",
              " (np.float64(0.7957895169564014), np.int64(3)),\n",
              " (np.float64(0.6242638395515537), np.int64(3)),\n",
              " (np.float64(0.5717380677494232), np.int64(3)),\n",
              " (np.float64(1.7533922569457256), np.int64(3)),\n",
              " (np.float64(2.731054528735451), np.int64(1)),\n",
              " (np.float64(1.8678932147612635), np.int64(2)),\n",
              " (np.float64(4.933486090190152), np.int64(2)),\n",
              " (np.float64(4.7015219456251325), np.int64(2)),\n",
              " (np.float64(1.6192816109258354), np.int64(3)),\n",
              " (np.float64(3.0456852527541964), np.int64(2)),\n",
              " (np.float64(1.1454249138935106), np.int64(1)),\n",
              " (np.float64(1.4771063777453304), np.int64(3)),\n",
              " (np.float64(1.9325556443214125), np.int64(1)),\n",
              " (np.float64(4.624351023364766), np.int64(2)),\n",
              " (np.float64(0.20442220106921966), np.int64(3)),\n",
              " (np.float64(1.466600635566462), np.int64(2)),\n",
              " (np.float64(2.3900149816652547), np.int64(2)),\n",
              " (np.float64(0.8566943134021566), np.int64(3)),\n",
              " (np.float64(1.532231555297263), np.int64(2)),\n",
              " (np.float64(2.488232925848595), np.int64(2)),\n",
              " (np.float64(3.1716153175263138), np.int64(2)),\n",
              " (np.float64(0.6786754719054163), np.int64(3)),\n",
              " (np.float64(2.671522858108768), np.int64(1)),\n",
              " (np.float64(1.421591369608279), np.int64(1)),\n",
              " (np.float64(1.3869625401602197), np.int64(1)),\n",
              " (np.float64(1.7464247353963056), np.int64(1)),\n",
              " (np.float64(1.138004319330436), np.int64(1)),\n",
              " (np.float64(0.5322079126609832), np.int64(1)),\n",
              " (np.float64(3.055803781060098), np.int64(1)),\n",
              " (np.float64(1.6049502285010566), np.int64(1)),\n",
              " (np.float64(1.699015834623083), np.int64(1)),\n",
              " (np.float64(1.4796682096821978), np.int64(1)),\n",
              " (np.float64(0.8474712445642871), np.int64(1)),\n",
              " (np.float64(0.8919781373291897), np.int64(1)),\n",
              " (np.float64(3.048361252028075), np.int64(1)),\n",
              " (np.float64(2.670640213794329), np.int64(1)),\n",
              " (np.float64(1.1851072315515552), np.int64(1)),\n",
              " (np.float64(2.530776111207201), np.int64(1)),\n",
              " (np.float64(1.6844932203707697), np.int64(1)),\n",
              " (np.float64(1.4525134255584027), np.int64(1)),\n",
              " (np.float64(2.6993637071550687), np.int64(1)),\n",
              " (np.float64(0.7131658941195023), np.int64(1)),\n",
              " (np.float64(2.966490887098744), np.int64(1)),\n",
              " (np.float64(1.7407165973396668), np.int64(1)),\n",
              " (np.float64(1.5614805307951036), np.int64(1)),\n",
              " (np.float64(1.4233727256871929), np.int64(1)),\n",
              " (np.float64(0.7816523414650871), np.int64(1)),\n",
              " (np.float64(0.8035955004675531), np.int64(1)),\n",
              " (np.float64(2.983957034123247), np.int64(1)),\n",
              " (np.float64(1.5973938014306501), np.int64(1)),\n",
              " (np.float64(1.9505805826292304), np.int64(1)),\n",
              " (np.float64(0.3794581114426704), np.int64(1)),\n",
              " (np.float64(1.6529449340330586), np.int64(1)),\n",
              " (np.float64(1.838990710978742), np.int64(1)),\n",
              " (np.float64(1.2297285795858917), np.int64(1)),\n",
              " (np.float64(1.0477066817178613), np.int64(1)),\n",
              " (np.float64(0.9699666551865497), np.int64(1)),\n",
              " (np.float64(1.411197561964743), np.int64(1)),\n",
              " (np.float64(2.8898029231170645), np.int64(1)),\n",
              " (np.float64(2.203562567862425), np.int64(1)),\n",
              " (np.float64(2.9272021763974734), np.int64(1)),\n",
              " (np.float64(1.9759068322327558), np.int64(1)),\n",
              " (np.float64(1.4865618502724895), np.int64(1)),\n",
              " (np.float64(0.8497270687332712), np.int64(1)),\n",
              " (np.float64(1.0292741796256444), np.int64(1)),\n",
              " (np.float64(1.855804480760887), np.int64(1)),\n",
              " (np.float64(1.567302822174654), np.int64(1)),\n",
              " (np.float64(1.7943312866421868), np.int64(1)),\n",
              " (np.float64(1.7628870835499653), np.int64(2)),\n",
              " (np.float64(2.669812178059433), np.int64(2)),\n",
              " (np.float64(4.172859683590053), np.int64(2)),\n",
              " (np.float64(2.275384556562759), np.int64(2))]"
            ]
          },
          "metadata": {},
          "execution_count": 89
        }
      ]
    },
    {
      "cell_type": "code",
      "source": [
        "# sort the distances 2 and 3\n",
        "\n",
        "distances= sorted(distances)"
      ],
      "metadata": {
        "id": "BbxwWdppynTG"
      },
      "execution_count": null,
      "outputs": []
    },
    {
      "cell_type": "code",
      "source": [
        "distances"
      ],
      "metadata": {
        "colab": {
          "base_uri": "https://localhost:8080/"
        },
        "collapsed": true,
        "id": "qV3pGG_3zMmc",
        "outputId": "4914b948-e45d-4ed3-bb25-b80a5c7f6b9f"
      },
      "execution_count": null,
      "outputs": [
        {
          "output_type": "execute_result",
          "data": {
            "text/plain": [
              "[(np.float64(0.20442220106921966), np.int64(3)),\n",
              " (np.float64(0.2168153939640169), np.int64(3)),\n",
              " (np.float64(0.23192357416296897), np.int64(3)),\n",
              " (np.float64(0.2872722664472717), np.int64(3)),\n",
              " (np.float64(0.30405039345259965), np.int64(3)),\n",
              " (np.float64(0.3048205374566564), np.int64(3)),\n",
              " (np.float64(0.3301675378467456), np.int64(3)),\n",
              " (np.float64(0.33593607381535673), np.int64(3)),\n",
              " (np.float64(0.3455338264814194), np.int64(3)),\n",
              " (np.float64(0.36650195517220796), np.int64(3)),\n",
              " (np.float64(0.37031633301634753), np.int64(3)),\n",
              " (np.float64(0.37814558571232415), np.int64(3)),\n",
              " (np.float64(0.3794581114426704), np.int64(1)),\n",
              " (np.float64(0.3864549646084442), np.int64(3)),\n",
              " (np.float64(0.39799249211797083), np.int64(3)),\n",
              " (np.float64(0.41435336608455947), np.int64(3)),\n",
              " (np.float64(0.41542359951035784), np.int64(1)),\n",
              " (np.float64(0.42011508050738045), np.int64(3)),\n",
              " (np.float64(0.4458100627820551), np.int64(3)),\n",
              " (np.float64(0.45585736048346437), np.int64(3)),\n",
              " (np.float64(0.4929477435235231), np.int64(3)),\n",
              " (np.float64(0.5000301174123564), np.int64(3)),\n",
              " (np.float64(0.5086029261441205), np.int64(3)),\n",
              " (np.float64(0.5193828377575481), np.int64(3)),\n",
              " (np.float64(0.5255849338719806), np.int64(3)),\n",
              " (np.float64(0.5318007275061181), np.int64(3)),\n",
              " (np.float64(0.5322079126609832), np.int64(1)),\n",
              " (np.float64(0.5458885915481912), np.int64(3)),\n",
              " (np.float64(0.5507575706546174), np.int64(3)),\n",
              " (np.float64(0.5637455955791384), np.int64(3)),\n",
              " (np.float64(0.568724036831022), np.int64(3)),\n",
              " (np.float64(0.5717380677494232), np.int64(3)),\n",
              " (np.float64(0.5769558237921062), np.int64(3)),\n",
              " (np.float64(0.5816062545413497), np.int64(1)),\n",
              " (np.float64(0.6001818714915624), np.int64(3)),\n",
              " (np.float64(0.6004210892463766), np.int64(3)),\n",
              " (np.float64(0.6171525961331029), np.int64(3)),\n",
              " (np.float64(0.6186420117426448), np.int64(3)),\n",
              " (np.float64(0.6242638395515537), np.int64(3)),\n",
              " (np.float64(0.6688223029122614), np.int64(3)),\n",
              " (np.float64(0.6711594769360398), np.int64(3)),\n",
              " (np.float64(0.6761361467696385), np.int64(3)),\n",
              " (np.float64(0.6786754719054163), np.int64(3)),\n",
              " (np.float64(0.6914869078888594), np.int64(3)),\n",
              " (np.float64(0.693711906398734), np.int64(1)),\n",
              " (np.float64(0.7058103134793228), np.int64(3)),\n",
              " (np.float64(0.7124969505463383), np.int64(3)),\n",
              " (np.float64(0.7131658941195023), np.int64(1)),\n",
              " (np.float64(0.724798274826574), np.int64(3)),\n",
              " (np.float64(0.7263631189192868), np.int64(2)),\n",
              " (np.float64(0.7577941527676351), np.int64(1)),\n",
              " (np.float64(0.7816523414650871), np.int64(1)),\n",
              " (np.float64(0.79366715748236), np.int64(1)),\n",
              " (np.float64(0.7957895169564014), np.int64(3)),\n",
              " (np.float64(0.801103669879603), np.int64(3)),\n",
              " (np.float64(0.8035955004675531), np.int64(1)),\n",
              " (np.float64(0.8038083442607914), np.int64(3)),\n",
              " (np.float64(0.8288169685525271), np.int64(3)),\n",
              " (np.float64(0.8474712445642871), np.int64(1)),\n",
              " (np.float64(0.8497270687332712), np.int64(1)),\n",
              " (np.float64(0.8566943134021566), np.int64(3)),\n",
              " (np.float64(0.8646144890684337), np.int64(1)),\n",
              " (np.float64(0.8875218934458423), np.int64(3)),\n",
              " (np.float64(0.8919781373291897), np.int64(1)),\n",
              " (np.float64(0.9011169266550082), np.int64(1)),\n",
              " (np.float64(0.9145833089001507), np.int64(3)),\n",
              " (np.float64(0.9256776095074645), np.int64(1)),\n",
              " (np.float64(0.9431708260734716), np.int64(1)),\n",
              " (np.float64(0.9605523125924303), np.int64(3)),\n",
              " (np.float64(0.9699666551865497), np.int64(1)),\n",
              " (np.float64(0.9719922458546771), np.int64(3)),\n",
              " (np.float64(1.0018271466690059), np.int64(3)),\n",
              " (np.float64(1.028791995973919), np.int64(1)),\n",
              " (np.float64(1.0292741796256444), np.int64(1)),\n",
              " (np.float64(1.0477066817178613), np.int64(1)),\n",
              " (np.float64(1.0861216238888913), np.int64(3)),\n",
              " (np.float64(1.0977151470189694), np.int64(1)),\n",
              " (np.float64(1.138004319330436), np.int64(1)),\n",
              " (np.float64(1.1454249138935106), np.int64(1)),\n",
              " (np.float64(1.17390622748314), np.int64(1)),\n",
              " (np.float64(1.180791247186117), np.int64(1)),\n",
              " (np.float64(1.1851072315515552), np.int64(1)),\n",
              " (np.float64(1.190786924985024), np.int64(3)),\n",
              " (np.float64(1.221784082465037), np.int64(3)),\n",
              " (np.float64(1.2221127998965562), np.int64(1)),\n",
              " (np.float64(1.2297285795858917), np.int64(1)),\n",
              " (np.float64(1.2788658112811417), np.int64(1)),\n",
              " (np.float64(1.2795488462786941), np.int64(3)),\n",
              " (np.float64(1.2822183699758023), np.int64(3)),\n",
              " (np.float64(1.3060616022760596), np.int64(1)),\n",
              " (np.float64(1.3088642691310675), np.int64(3)),\n",
              " (np.float64(1.3212318321934613), np.int64(3)),\n",
              " (np.float64(1.341520119818265), np.int64(3)),\n",
              " (np.float64(1.358463445327434), np.int64(3)),\n",
              " (np.float64(1.3749071399997481), np.int64(3)),\n",
              " (np.float64(1.3869625401602197), np.int64(1)),\n",
              " (np.float64(1.3873874172060332), np.int64(2)),\n",
              " (np.float64(1.407055056611118), np.int64(1)),\n",
              " (np.float64(1.4107592580351094), np.int64(1)),\n",
              " (np.float64(1.411197561964743), np.int64(1)),\n",
              " (np.float64(1.4127936411856423), np.int64(3)),\n",
              " (np.float64(1.4150924699090333), np.int64(3)),\n",
              " (np.float64(1.421591369608279), np.int64(1)),\n",
              " (np.float64(1.4233727256871929), np.int64(1)),\n",
              " (np.float64(1.4248839452787674), np.int64(1)),\n",
              " (np.float64(1.4293994429277572), np.int64(1)),\n",
              " (np.float64(1.4363871557139876), np.int64(3)),\n",
              " (np.float64(1.4525134255584027), np.int64(1)),\n",
              " (np.float64(1.4581960146444044), np.int64(2)),\n",
              " (np.float64(1.4599933126568059), np.int64(1)),\n",
              " (np.float64(1.466600635566462), np.int64(2)),\n",
              " (np.float64(1.4706505036310917), np.int64(3)),\n",
              " (np.float64(1.4771063777453304), np.int64(3)),\n",
              " (np.float64(1.4796682096821978), np.int64(1)),\n",
              " (np.float64(1.4805815698961478), np.int64(2)),\n",
              " (np.float64(1.4844300685446128), np.int64(3)),\n",
              " (np.float64(1.4865618502724895), np.int64(1)),\n",
              " (np.float64(1.4978324280012578), np.int64(3)),\n",
              " (np.float64(1.501815073259819), np.int64(3)),\n",
              " (np.float64(1.5164492906010227), np.int64(1)),\n",
              " (np.float64(1.532231555297263), np.int64(2)),\n",
              " (np.float64(1.5614805307951036), np.int64(1)),\n",
              " (np.float64(1.567302822174654), np.int64(1)),\n",
              " (np.float64(1.5809840075719168), np.int64(2)),\n",
              " (np.float64(1.5880745762273034), np.int64(1)),\n",
              " (np.float64(1.5961231566138812), np.int64(1)),\n",
              " (np.float64(1.5973938014306501), np.int64(1)),\n",
              " (np.float64(1.598236410156554), np.int64(2)),\n",
              " (np.float64(1.6049502285010566), np.int64(1)),\n",
              " (np.float64(1.6192816109258354), np.int64(3)),\n",
              " (np.float64(1.6291501369850134), np.int64(1)),\n",
              " (np.float64(1.6529449340330586), np.int64(1)),\n",
              " (np.float64(1.6661772741087286), np.int64(1)),\n",
              " (np.float64(1.6844932203707697), np.int64(1)),\n",
              " (np.float64(1.699015834623083), np.int64(1)),\n",
              " (np.float64(1.7001314210384204), np.int64(2)),\n",
              " (np.float64(1.733654069610315), np.int64(2)),\n",
              " (np.float64(1.7407165973396668), np.int64(1)),\n",
              " (np.float64(1.7443219222938653), np.int64(2)),\n",
              " (np.float64(1.7464247353963056), np.int64(1)),\n",
              " (np.float64(1.7533922569457256), np.int64(3)),\n",
              " (np.float64(1.7628870835499653), np.int64(2)),\n",
              " (np.float64(1.77032156402458), np.int64(1)),\n",
              " (np.float64(1.7846953317696197), np.int64(2)),\n",
              " (np.float64(1.7862120012891542), np.int64(2)),\n",
              " (np.float64(1.7943312866421868), np.int64(1)),\n",
              " (np.float64(1.8127482703954043), np.int64(2)),\n",
              " (np.float64(1.830755704543287), np.int64(2)),\n",
              " (np.float64(1.8361484989498533), np.int64(1)),\n",
              " (np.float64(1.838990710978742), np.int64(1)),\n",
              " (np.float64(1.855804480760887), np.int64(1)),\n",
              " (np.float64(1.8611250762252354), np.int64(2)),\n",
              " (np.float64(1.8678932147612635), np.int64(2)),\n",
              " (np.float64(1.8759431024002813), np.int64(3)),\n",
              " (np.float64(1.8858634849496707), np.int64(1)),\n",
              " (np.float64(1.8946875527487086), np.int64(1)),\n",
              " (np.float64(1.8957659691959068), np.int64(2)),\n",
              " (np.float64(1.9117107075879975), np.int64(1)),\n",
              " (np.float64(1.916485160003796), np.int64(2)),\n",
              " (np.float64(1.9325556443214125), np.int64(1)),\n",
              " (np.float64(1.9505805826292304), np.int64(1)),\n",
              " (np.float64(1.9759068322327558), np.int64(1)),\n",
              " (np.float64(1.9868349502817535), np.int64(1)),\n",
              " (np.float64(1.9893886454038232), np.int64(1)),\n",
              " (np.float64(2.001676280021793), np.int64(2)),\n",
              " (np.float64(2.0295623375596286), np.int64(1)),\n",
              " (np.float64(2.0577341682078902), np.int64(1)),\n",
              " (np.float64(2.073560910832201), np.int64(2)),\n",
              " (np.float64(2.075689132406013), np.int64(2)),\n",
              " (np.float64(2.0972243760759177), np.int64(2)),\n",
              " (np.float64(2.149005625915531), np.int64(2)),\n",
              " (np.float64(2.155850103994385), np.int64(2)),\n",
              " (np.float64(2.1671613538999557), np.int64(1)),\n",
              " (np.float64(2.18514084903418), np.int64(3)),\n",
              " (np.float64(2.2014136355150176), np.int64(2)),\n",
              " (np.float64(2.20152751315901), np.int64(2)),\n",
              " (np.float64(2.203562567862425), np.int64(1)),\n",
              " (np.float64(2.2366815382716316), np.int64(2)),\n",
              " (np.float64(2.2479296787738376), np.int64(1)),\n",
              " (np.float64(2.268344974771256), np.int64(1)),\n",
              " (np.float64(2.275384556562759), np.int64(2)),\n",
              " (np.float64(2.301498125901212), np.int64(2)),\n",
              " (np.float64(2.3900149816652547), np.int64(2)),\n",
              " (np.float64(2.488232925848595), np.int64(2)),\n",
              " (np.float64(2.4917068486501814), np.int64(2)),\n",
              " (np.float64(2.495412070062066), np.int64(1)),\n",
              " (np.float64(2.4959698061638775), np.int64(3)),\n",
              " (np.float64(2.504852433064778), np.int64(3)),\n",
              " (np.float64(2.5087926869124426), np.int64(3)),\n",
              " (np.float64(2.5108097012782924), np.int64(3)),\n",
              " (np.float64(2.5145054119585484), np.int64(3)),\n",
              " (np.float64(2.5206684420305123), np.int64(1)),\n",
              " (np.float64(2.530776111207201), np.int64(1)),\n",
              " (np.float64(2.5444264667322813), np.int64(2)),\n",
              " (np.float64(2.5589167757152778), np.int64(3)),\n",
              " (np.float64(2.56338547708705), np.int64(3)),\n",
              " (np.float64(2.572066584398464), np.int64(2)),\n",
              " (np.float64(2.5787356187029573), np.int64(3)),\n",
              " (np.float64(2.5845851550606413), np.int64(1)),\n",
              " (np.float64(2.5983134353387776), np.int64(3)),\n",
              " (np.float64(2.6184614914569453), np.int64(2)),\n",
              " (np.float64(2.6290959913373886), np.int64(3)),\n",
              " (np.float64(2.632580834356756), np.int64(3)),\n",
              " (np.float64(2.6365491850325977), np.int64(3)),\n",
              " (np.float64(2.6440316989349832), np.int64(2)),\n",
              " (np.float64(2.661570132993678), np.int64(2)),\n",
              " (np.float64(2.6661377394479024), np.int64(1)),\n",
              " (np.float64(2.669812178059433), np.int64(2)),\n",
              " (np.float64(2.670640213794329), np.int64(1)),\n",
              " (np.float64(2.671522858108768), np.int64(1)),\n",
              " (np.float64(2.6726593304390374), np.int64(3)),\n",
              " (np.float64(2.6910399424426092), np.int64(3)),\n",
              " (np.float64(2.6993637071550687), np.int64(1)),\n",
              " (np.float64(2.7027996321566374), np.int64(1)),\n",
              " (np.float64(2.716511647676802), np.int64(3)),\n",
              " (np.float64(2.720481301773018), np.int64(3)),\n",
              " (np.float64(2.731054528735451), np.int64(1)),\n",
              " (np.float64(2.735036394089422), np.int64(3)),\n",
              " (np.float64(2.7721008020676003), np.int64(2)),\n",
              " (np.float64(2.79346793583886), np.int64(3)),\n",
              " (np.float64(2.793497866748089), np.int64(2)),\n",
              " (np.float64(2.79884079367758), np.int64(3)),\n",
              " (np.float64(2.80537374339795), np.int64(1)),\n",
              " (np.float64(2.822489227525158), np.int64(1)),\n",
              " (np.float64(2.8254782677026604), np.int64(3)),\n",
              " (np.float64(2.828710651754577), np.int64(2)),\n",
              " (np.float64(2.8564906883991728), np.int64(3)),\n",
              " (np.float64(2.8602147872358272), np.int64(2)),\n",
              " (np.float64(2.8715382770119833), np.int64(3)),\n",
              " (np.float64(2.872121771952624), np.int64(2)),\n",
              " (np.float64(2.8898029231170645), np.int64(1)),\n",
              " (np.float64(2.9042813395452347), np.int64(1)),\n",
              " (np.float64(2.9267689396432526), np.int64(2)),\n",
              " (np.float64(2.9272021763974734), np.int64(1)),\n",
              " (np.float64(2.9567652816692007), np.int64(2)),\n",
              " (np.float64(2.966490887098744), np.int64(1)),\n",
              " (np.float64(2.9792616896516178), np.int64(2)),\n",
              " (np.float64(2.983957034123247), np.int64(1)),\n",
              " (np.float64(2.984216600314261), np.int64(2)),\n",
              " (np.float64(2.9872235780486673), np.int64(1)),\n",
              " (np.float64(2.9876410097498374), np.int64(1)),\n",
              " (np.float64(2.9900035789328405), np.int64(2)),\n",
              " (np.float64(2.9903804642872402), np.int64(2)),\n",
              " (np.float64(3.012974167738825), np.int64(2)),\n",
              " (np.float64(3.0131370899258743), np.int64(3)),\n",
              " (np.float64(3.0291033610367215), np.int64(2)),\n",
              " (np.float64(3.0416312753076404), np.int64(2)),\n",
              " (np.float64(3.0456852527541964), np.int64(2)),\n",
              " (np.float64(3.048361252028075), np.int64(1)),\n",
              " (np.float64(3.048782022989574), np.int64(1)),\n",
              " (np.float64(3.052975538603786), np.int64(2)),\n",
              " (np.float64(3.055803781060098), np.int64(1)),\n",
              " (np.float64(3.062648396110681), np.int64(2)),\n",
              " (np.float64(3.1716153175263138), np.int64(2)),\n",
              " (np.float64(3.2150115892496016), np.int64(2)),\n",
              " (np.float64(3.23062938579123), np.int64(2)),\n",
              " (np.float64(3.2810647408707743), np.int64(2)),\n",
              " (np.float64(3.28241214653628), np.int64(2)),\n",
              " (np.float64(3.386413359280905), np.int64(2)),\n",
              " (np.float64(3.4832571141785253), np.int64(3)),\n",
              " (np.float64(3.612211019321363), np.int64(1)),\n",
              " (np.float64(3.6307167691893), np.int64(2)),\n",
              " (np.float64(3.6464926146105987), np.int64(2)),\n",
              " (np.float64(3.728555906436), np.int64(2)),\n",
              " (np.float64(3.845189517188865), np.int64(2)),\n",
              " (np.float64(3.9462156119590555), np.int64(2)),\n",
              " (np.float64(3.970546620617884), np.int64(2)),\n",
              " (np.float64(4.086580879666247), np.int64(2)),\n",
              " (np.float64(4.09686878468875), np.int64(2)),\n",
              " (np.float64(4.104098053514254), np.int64(2)),\n",
              " (np.float64(4.172859683590053), np.int64(2)),\n",
              " (np.float64(4.480719519196904), np.int64(2)),\n",
              " (np.float64(4.498111964109525), np.int64(2)),\n",
              " (np.float64(4.624351023364766), np.int64(2)),\n",
              " (np.float64(4.6338526464651775), np.int64(2)),\n",
              " (np.float64(4.7015219456251325), np.int64(2)),\n",
              " (np.float64(4.787516813332104), np.int64(2)),\n",
              " (np.float64(4.875951893209695), np.int64(2)),\n",
              " (np.float64(4.933486090190152), np.int64(2)),\n",
              " (np.float64(4.952173781396477), np.int64(2)),\n",
              " (np.float64(5.079296100093865), np.int64(2)),\n",
              " (np.float64(5.127483937607076), np.int64(2)),\n",
              " (np.float64(5.174505645916534), np.int64(2)),\n",
              " (np.float64(5.251410958876006), np.int64(2)),\n",
              " (np.float64(5.337924303254471), np.int64(2)),\n",
              " (np.float64(5.349890841727992), np.int64(2)),\n",
              " (np.float64(5.4814288772479935), np.int64(2)),\n",
              " (np.float64(6.213360745821725), np.int64(2)),\n",
              " (np.float64(6.983225676819874), np.int64(2)),\n",
              " (np.float64(7.115571454151625), np.int64(2)),\n",
              " (np.float64(7.305851546623367), np.int64(2)),\n",
              " (np.float64(8.00968386973793), np.int64(2)),\n",
              " (np.float64(8.110038239568807), np.int64(2)),\n",
              " (np.float64(11.926462113319218), np.int64(2)),\n",
              " (np.float64(12.63151888739302), np.int64(2)),\n",
              " (np.float64(12.852647549452147), np.int64(2)),\n",
              " (np.float64(17.78982196099204), np.int64(2))]"
            ]
          },
          "metadata": {},
          "execution_count": 91
        }
      ]
    },
    {
      "cell_type": "code",
      "source": [
        "distances = np.array(distances)\n",
        "\n",
        "classes_counts = np.unique(dister[:,1],return_counts=True)\n",
        "index_of_max_neighbour_class= classes_counts[1].argmax()"
      ],
      "metadata": {
        "id": "-66Vbx71zYyO"
      },
      "execution_count": null,
      "outputs": []
    },
    {
      "cell_type": "code",
      "source": [
        "#define k\n",
        "k=5\n",
        "dister = distances[:k]"
      ],
      "metadata": {
        "id": "DFoseSCbzNPe"
      },
      "execution_count": null,
      "outputs": []
    },
    {
      "cell_type": "code",
      "source": [
        " dister"
      ],
      "metadata": {
        "colab": {
          "base_uri": "https://localhost:8080/"
        },
        "id": "kGtERkcT1OiG",
        "outputId": "a7e4543a-333c-45fc-a486-daf34189c5e3"
      },
      "execution_count": null,
      "outputs": [
        {
          "output_type": "execute_result",
          "data": {
            "text/plain": [
              "array([[0.2044222 , 3.        ],\n",
              "       [0.21681539, 3.        ],\n",
              "       [0.23192357, 3.        ],\n",
              "       [0.28727227, 3.        ],\n",
              "       [0.30405039, 3.        ]])"
            ]
          },
          "metadata": {},
          "execution_count": 94
        }
      ]
    },
    {
      "cell_type": "code",
      "source": [
        "class_counts= np.unique(dister[:,1], return_counts=True)"
      ],
      "metadata": {
        "id": "WTTpldD20J54"
      },
      "execution_count": null,
      "outputs": []
    },
    {
      "cell_type": "code",
      "source": [
        "index = class_counts[1].argmax()"
      ],
      "metadata": {
        "id": "sNHAvguM0TRb"
      },
      "execution_count": null,
      "outputs": []
    },
    {
      "cell_type": "code",
      "source": [
        "pred = class_counts [0][index]"
      ],
      "metadata": {
        "id": "khc0AEms0bTi"
      },
      "execution_count": null,
      "outputs": []
    },
    {
      "cell_type": "code",
      "source": [
        "pred"
      ],
      "metadata": {
        "colab": {
          "base_uri": "https://localhost:8080/"
        },
        "id": "TaKwVrOD2hfv",
        "outputId": "60fa3907-e44a-431d-e2db-6af568e0bc25"
      },
      "execution_count": null,
      "outputs": [
        {
          "output_type": "execute_result",
          "data": {
            "text/plain": [
              "np.float64(3.0)"
            ]
          },
          "metadata": {},
          "execution_count": 98
        }
      ]
    },
    {
      "cell_type": "code",
      "source": [
        "def knn(X,Y,queryPoint,k):\n",
        "    \"\"\"Predict the class label for the query point\"\"\"\n",
        "    # Euclidean Distance\n",
        "    dist = np.sqrt(np.sum((queryPoint-X)**2,axis=1) )\n",
        "\n",
        "    # Storing distance and Class labels together\n",
        "    distances = [(dist[i],Y[i]) for i in range(len(dist)) ]\n",
        "    # sort the distances\n",
        "    distances = sorted(distances)\n",
        "    # Nearest/First K points\n",
        "    distances = distances[:k]\n",
        "\n",
        "    distances = np.array(distances)\n",
        "\n",
        "    classes_counts = np.unique(distances[:,1],return_counts=True)\n",
        "\n",
        "    index = classes_counts[1].argmax()\n",
        "    pred = classes_counts[0][index]\n",
        "\n",
        "    return int(pred),distances"
      ],
      "metadata": {
        "id": "eMpB6d5l2iQO"
      },
      "execution_count": null,
      "outputs": []
    },
    {
      "cell_type": "code",
      "source": [
        "knn(X_sm,y_sm,X_val_scaled[1],10)"
      ],
      "metadata": {
        "colab": {
          "base_uri": "https://localhost:8080/"
        },
        "id": "YFKZ85HR3QC0",
        "outputId": "d815b1fb-6396-474b-e9d3-6499f1e46062"
      },
      "execution_count": null,
      "outputs": [
        {
          "output_type": "execute_result",
          "data": {
            "text/plain": [
              "(2,\n",
              " array([[0.43455804, 2.        ],\n",
              "        [0.66522245, 2.        ],\n",
              "        [0.87368222, 2.        ],\n",
              "        [0.97657044, 2.        ],\n",
              "        [1.01465484, 2.        ],\n",
              "        [1.14462755, 2.        ],\n",
              "        [1.30947506, 2.        ],\n",
              "        [1.36919375, 2.        ],\n",
              "        [1.38129903, 2.        ],\n",
              "        [1.40717303, 2.        ]]))"
            ]
          },
          "metadata": {},
          "execution_count": 100
        }
      ]
    },
    {
      "cell_type": "code",
      "source": [
        "y_pred = []\n",
        "\n",
        "for i in range(X_test_scaled.shape[0]):\n",
        "    output,_ = knn(X_sm, y_sm, X_test_scaled[i],5)\n",
        "    y_pred.append(output)"
      ],
      "metadata": {
        "id": "SrnwGcHr3T_s"
      },
      "execution_count": null,
      "outputs": []
    },
    {
      "cell_type": "code",
      "source": [
        "from sklearn.metrics import classification_report\n",
        "\n",
        "print(classification_report(y_pred,y_test))\n"
      ],
      "metadata": {
        "colab": {
          "base_uri": "https://localhost:8080/"
        },
        "id": "kcDRXaoY33MU",
        "outputId": "923b7288-ae1b-49cd-f740-1141ea723482"
      },
      "execution_count": null,
      "outputs": [
        {
          "output_type": "stream",
          "name": "stdout",
          "text": [
            "              precision    recall  f1-score   support\n",
            "\n",
            "           1       0.90      0.64      0.75        28\n",
            "           2       0.74      0.95      0.83        37\n",
            "           3       0.98      0.93      0.95        45\n",
            "\n",
            "    accuracy                           0.86       110\n",
            "   macro avg       0.87      0.84      0.85       110\n",
            "weighted avg       0.88      0.86      0.86       110\n",
            "\n"
          ]
        }
      ]
    },
    {
      "cell_type": "code",
      "source": [],
      "metadata": {
        "id": "eUxRyYm936Pw"
      },
      "execution_count": null,
      "outputs": []
    }
  ]
}