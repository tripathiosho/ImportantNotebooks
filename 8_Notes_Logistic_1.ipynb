{
  "nbformat": 4,
  "nbformat_minor": 0,
  "metadata": {
    "colab": {
      "provenance": [],
      "toc_visible": true,
      "include_colab_link": true
    },
    "kernelspec": {
      "name": "python3",
      "display_name": "Python 3"
    },
    "language_info": {
      "name": "python"
    }
  },
  "cells": [
    {
      "cell_type": "markdown",
      "metadata": {
        "id": "view-in-github",
        "colab_type": "text"
      },
      "source": [
        "<a href=\"https://colab.research.google.com/github/tripathiosho/ImportantNotebooks/blob/main/8_Notes_Logistic_1.ipynb\" target=\"_parent\"><img src=\"https://colab.research.google.com/assets/colab-badge.svg\" alt=\"Open In Colab\"/></a>"
      ]
    },
    {
      "cell_type": "markdown",
      "source": [
        "## Content"
      ],
      "metadata": {
        "id": "di6g9SSkKnev"
      }
    },
    {
      "cell_type": "markdown",
      "source": [
        "- **Explanation of UseCase:**\n",
        "  - AT&T Churn Prediction introduction\n",
        "  - Dataset downloand and read\n",
        "\n",
        "- **Intro to LogisticRegression:**\n",
        "  - Recap of Linear Regression\n",
        "\n",
        "  - Definition\n",
        "\n",
        "- **Thresholding and Step function:**\n",
        "  - Definition\n",
        "\n",
        "  - Problem with step function\n",
        "\n",
        "- **Sigmoid function**\n",
        "  - Plot and mathematical definition\n",
        "  - Thresholding\n",
        "  - Properties\n",
        "\n",
        "- **Geometric Interpretation**\n",
        "\n",
        "\n",
        "- **Implementation**\n",
        "\n",
        "\n",
        "- **MLE(Maximum Log Likelihood)**\n",
        "\n",
        "- **LogLoss and Optimization**"
      ],
      "metadata": {
        "id": "Ym_UtCavKmrL"
      }
    },
    {
      "cell_type": "markdown",
      "source": [
        "## Introduction to AT&T Churn UseCase"
      ],
      "metadata": {
        "id": "hvFmP5skSgFY"
      }
    },
    {
      "cell_type": "markdown",
      "source": [
        "AT & T, one of the leading telecommunications companies of USA, faces the challenge of customer churn, where customers switch to competitors due to issues such as bad network, poor customer service, and so on.\n",
        "\n",
        "As a Data Scientist, you are tasked to develop a machine learning model to predict whether a customer will be churned or not, based on various parameters, such as state, number of evening calls, number of day calls, etc."
      ],
      "metadata": {
        "id": "QxXEVRVrjyRH"
      }
    },
    {
      "cell_type": "markdown",
      "source": [
        "<img src='https://d2beiqkhq929f0.cloudfront.net/public_assets/assets/000/061/841/original/z.png?1705230591' width=700>"
      ],
      "metadata": {
        "id": "47xBf2nSB5Lu"
      }
    },
    {
      "cell_type": "markdown",
      "source": [
        "Let's look at the data"
      ],
      "metadata": {
        "id": "honpz9Ogk7av"
      }
    },
    {
      "cell_type": "code",
      "execution_count": null,
      "metadata": {
        "colab": {
          "base_uri": "https://localhost:8080/"
        },
        "id": "WdRop4vG1qCi",
        "outputId": "45c46fa4-5f3d-4e16-e22b-948822c09d65"
      },
      "outputs": [
        {
          "output_type": "stream",
          "name": "stdout",
          "text": [
            "Downloading...\n",
            "From: https://drive.google.com/uc?id=1uUt7uL-VuF_5cpodYRiriEwhsldeEp3m\n",
            "To: /content/churn_logistic.csv\n",
            "\r  0% 0.00/494k [00:00<?, ?B/s]\r100% 494k/494k [00:00<00:00, 110MB/s]\n"
          ]
        }
      ],
      "source": [
        "!gdown 1uUt7uL-VuF_5cpodYRiriEwhsldeEp3m"
      ]
    },
    {
      "cell_type": "code",
      "execution_count": null,
      "metadata": {
        "colab": {
          "base_uri": "https://localhost:8080/",
          "height": 404
        },
        "id": "mlIcyIeK1qCj",
        "outputId": "85da4455-7ff4-417e-88cf-7314e7b30af3"
      },
      "outputs": [
        {
          "output_type": "execute_result",
          "data": {
            "text/plain": [
              "   Account Length  VMail Message  Day Mins  Eve Mins  Night Mins  Intl Mins  \\\n",
              "0             128             25     265.1     197.4       244.7       10.0   \n",
              "1             107             26     161.6     195.5       254.4       13.7   \n",
              "2             137              0     243.4     121.2       162.6       12.2   \n",
              "3              84              0     299.4      61.9       196.9        6.6   \n",
              "4              75              0     166.7     148.3       186.9       10.1   \n",
              "\n",
              "   CustServ Calls  Intl Plan  VMail Plan  Day Calls  ...  Eve Calls  \\\n",
              "0               1          0           1        110  ...         99   \n",
              "1               1          0           1        123  ...        103   \n",
              "2               0          0           0        114  ...        110   \n",
              "3               2          1           0         71  ...         88   \n",
              "4               3          1           0        113  ...        122   \n",
              "\n",
              "   Eve Charge  Night Calls  Night Charge  Intl Calls  Intl Charge  State  \\\n",
              "0       16.78           91         11.01           3         2.70     KS   \n",
              "1       16.62          103         11.45           3         3.70     OH   \n",
              "2       10.30          104          7.32           5         3.29     NJ   \n",
              "3        5.26           89          8.86           7         1.78     OH   \n",
              "4       12.61          121          8.41           3         2.73     OK   \n",
              "\n",
              "  Area Code     Phone Churn  \n",
              "0       415  382-4657     0  \n",
              "1       415  371-7191     0  \n",
              "2       415  358-1921     0  \n",
              "3       408  375-9999     0  \n",
              "4       415  330-6626     0  \n",
              "\n",
              "[5 rows x 21 columns]"
            ],
            "text/html": [
              "\n",
              "  <div id=\"df-0fb1cd6f-be54-4849-ad4d-38483a2cd1dd\">\n",
              "    <div class=\"colab-df-container\">\n",
              "      <div>\n",
              "<style scoped>\n",
              "    .dataframe tbody tr th:only-of-type {\n",
              "        vertical-align: middle;\n",
              "    }\n",
              "\n",
              "    .dataframe tbody tr th {\n",
              "        vertical-align: top;\n",
              "    }\n",
              "\n",
              "    .dataframe thead th {\n",
              "        text-align: right;\n",
              "    }\n",
              "</style>\n",
              "<table border=\"1\" class=\"dataframe\">\n",
              "  <thead>\n",
              "    <tr style=\"text-align: right;\">\n",
              "      <th></th>\n",
              "      <th>Account Length</th>\n",
              "      <th>VMail Message</th>\n",
              "      <th>Day Mins</th>\n",
              "      <th>Eve Mins</th>\n",
              "      <th>Night Mins</th>\n",
              "      <th>Intl Mins</th>\n",
              "      <th>CustServ Calls</th>\n",
              "      <th>Intl Plan</th>\n",
              "      <th>VMail Plan</th>\n",
              "      <th>Day Calls</th>\n",
              "      <th>...</th>\n",
              "      <th>Eve Calls</th>\n",
              "      <th>Eve Charge</th>\n",
              "      <th>Night Calls</th>\n",
              "      <th>Night Charge</th>\n",
              "      <th>Intl Calls</th>\n",
              "      <th>Intl Charge</th>\n",
              "      <th>State</th>\n",
              "      <th>Area Code</th>\n",
              "      <th>Phone</th>\n",
              "      <th>Churn</th>\n",
              "    </tr>\n",
              "  </thead>\n",
              "  <tbody>\n",
              "    <tr>\n",
              "      <th>0</th>\n",
              "      <td>128</td>\n",
              "      <td>25</td>\n",
              "      <td>265.1</td>\n",
              "      <td>197.4</td>\n",
              "      <td>244.7</td>\n",
              "      <td>10.0</td>\n",
              "      <td>1</td>\n",
              "      <td>0</td>\n",
              "      <td>1</td>\n",
              "      <td>110</td>\n",
              "      <td>...</td>\n",
              "      <td>99</td>\n",
              "      <td>16.78</td>\n",
              "      <td>91</td>\n",
              "      <td>11.01</td>\n",
              "      <td>3</td>\n",
              "      <td>2.70</td>\n",
              "      <td>KS</td>\n",
              "      <td>415</td>\n",
              "      <td>382-4657</td>\n",
              "      <td>0</td>\n",
              "    </tr>\n",
              "    <tr>\n",
              "      <th>1</th>\n",
              "      <td>107</td>\n",
              "      <td>26</td>\n",
              "      <td>161.6</td>\n",
              "      <td>195.5</td>\n",
              "      <td>254.4</td>\n",
              "      <td>13.7</td>\n",
              "      <td>1</td>\n",
              "      <td>0</td>\n",
              "      <td>1</td>\n",
              "      <td>123</td>\n",
              "      <td>...</td>\n",
              "      <td>103</td>\n",
              "      <td>16.62</td>\n",
              "      <td>103</td>\n",
              "      <td>11.45</td>\n",
              "      <td>3</td>\n",
              "      <td>3.70</td>\n",
              "      <td>OH</td>\n",
              "      <td>415</td>\n",
              "      <td>371-7191</td>\n",
              "      <td>0</td>\n",
              "    </tr>\n",
              "    <tr>\n",
              "      <th>2</th>\n",
              "      <td>137</td>\n",
              "      <td>0</td>\n",
              "      <td>243.4</td>\n",
              "      <td>121.2</td>\n",
              "      <td>162.6</td>\n",
              "      <td>12.2</td>\n",
              "      <td>0</td>\n",
              "      <td>0</td>\n",
              "      <td>0</td>\n",
              "      <td>114</td>\n",
              "      <td>...</td>\n",
              "      <td>110</td>\n",
              "      <td>10.30</td>\n",
              "      <td>104</td>\n",
              "      <td>7.32</td>\n",
              "      <td>5</td>\n",
              "      <td>3.29</td>\n",
              "      <td>NJ</td>\n",
              "      <td>415</td>\n",
              "      <td>358-1921</td>\n",
              "      <td>0</td>\n",
              "    </tr>\n",
              "    <tr>\n",
              "      <th>3</th>\n",
              "      <td>84</td>\n",
              "      <td>0</td>\n",
              "      <td>299.4</td>\n",
              "      <td>61.9</td>\n",
              "      <td>196.9</td>\n",
              "      <td>6.6</td>\n",
              "      <td>2</td>\n",
              "      <td>1</td>\n",
              "      <td>0</td>\n",
              "      <td>71</td>\n",
              "      <td>...</td>\n",
              "      <td>88</td>\n",
              "      <td>5.26</td>\n",
              "      <td>89</td>\n",
              "      <td>8.86</td>\n",
              "      <td>7</td>\n",
              "      <td>1.78</td>\n",
              "      <td>OH</td>\n",
              "      <td>408</td>\n",
              "      <td>375-9999</td>\n",
              "      <td>0</td>\n",
              "    </tr>\n",
              "    <tr>\n",
              "      <th>4</th>\n",
              "      <td>75</td>\n",
              "      <td>0</td>\n",
              "      <td>166.7</td>\n",
              "      <td>148.3</td>\n",
              "      <td>186.9</td>\n",
              "      <td>10.1</td>\n",
              "      <td>3</td>\n",
              "      <td>1</td>\n",
              "      <td>0</td>\n",
              "      <td>113</td>\n",
              "      <td>...</td>\n",
              "      <td>122</td>\n",
              "      <td>12.61</td>\n",
              "      <td>121</td>\n",
              "      <td>8.41</td>\n",
              "      <td>3</td>\n",
              "      <td>2.73</td>\n",
              "      <td>OK</td>\n",
              "      <td>415</td>\n",
              "      <td>330-6626</td>\n",
              "      <td>0</td>\n",
              "    </tr>\n",
              "  </tbody>\n",
              "</table>\n",
              "<p>5 rows × 21 columns</p>\n",
              "</div>\n",
              "      <button class=\"colab-df-convert\" onclick=\"convertToInteractive('df-0fb1cd6f-be54-4849-ad4d-38483a2cd1dd')\"\n",
              "              title=\"Convert this dataframe to an interactive table.\"\n",
              "              style=\"display:none;\">\n",
              "        \n",
              "  <svg xmlns=\"http://www.w3.org/2000/svg\" height=\"24px\"viewBox=\"0 0 24 24\"\n",
              "       width=\"24px\">\n",
              "    <path d=\"M0 0h24v24H0V0z\" fill=\"none\"/>\n",
              "    <path d=\"M18.56 5.44l.94 2.06.94-2.06 2.06-.94-2.06-.94-.94-2.06-.94 2.06-2.06.94zm-11 1L8.5 8.5l.94-2.06 2.06-.94-2.06-.94L8.5 2.5l-.94 2.06-2.06.94zm10 10l.94 2.06.94-2.06 2.06-.94-2.06-.94-.94-2.06-.94 2.06-2.06.94z\"/><path d=\"M17.41 7.96l-1.37-1.37c-.4-.4-.92-.59-1.43-.59-.52 0-1.04.2-1.43.59L10.3 9.45l-7.72 7.72c-.78.78-.78 2.05 0 2.83L4 21.41c.39.39.9.59 1.41.59.51 0 1.02-.2 1.41-.59l7.78-7.78 2.81-2.81c.8-.78.8-2.07 0-2.86zM5.41 20L4 18.59l7.72-7.72 1.47 1.35L5.41 20z\"/>\n",
              "  </svg>\n",
              "      </button>\n",
              "      \n",
              "  <style>\n",
              "    .colab-df-container {\n",
              "      display:flex;\n",
              "      flex-wrap:wrap;\n",
              "      gap: 12px;\n",
              "    }\n",
              "\n",
              "    .colab-df-convert {\n",
              "      background-color: #E8F0FE;\n",
              "      border: none;\n",
              "      border-radius: 50%;\n",
              "      cursor: pointer;\n",
              "      display: none;\n",
              "      fill: #1967D2;\n",
              "      height: 32px;\n",
              "      padding: 0 0 0 0;\n",
              "      width: 32px;\n",
              "    }\n",
              "\n",
              "    .colab-df-convert:hover {\n",
              "      background-color: #E2EBFA;\n",
              "      box-shadow: 0px 1px 2px rgba(60, 64, 67, 0.3), 0px 1px 3px 1px rgba(60, 64, 67, 0.15);\n",
              "      fill: #174EA6;\n",
              "    }\n",
              "\n",
              "    [theme=dark] .colab-df-convert {\n",
              "      background-color: #3B4455;\n",
              "      fill: #D2E3FC;\n",
              "    }\n",
              "\n",
              "    [theme=dark] .colab-df-convert:hover {\n",
              "      background-color: #434B5C;\n",
              "      box-shadow: 0px 1px 3px 1px rgba(0, 0, 0, 0.15);\n",
              "      filter: drop-shadow(0px 1px 2px rgba(0, 0, 0, 0.3));\n",
              "      fill: #FFFFFF;\n",
              "    }\n",
              "  </style>\n",
              "\n",
              "      <script>\n",
              "        const buttonEl =\n",
              "          document.querySelector('#df-0fb1cd6f-be54-4849-ad4d-38483a2cd1dd button.colab-df-convert');\n",
              "        buttonEl.style.display =\n",
              "          google.colab.kernel.accessAllowed ? 'block' : 'none';\n",
              "\n",
              "        async function convertToInteractive(key) {\n",
              "          const element = document.querySelector('#df-0fb1cd6f-be54-4849-ad4d-38483a2cd1dd');\n",
              "          const dataTable =\n",
              "            await google.colab.kernel.invokeFunction('convertToInteractive',\n",
              "                                                     [key], {});\n",
              "          if (!dataTable) return;\n",
              "\n",
              "          const docLinkHtml = 'Like what you see? Visit the ' +\n",
              "            '<a target=\"_blank\" href=https://colab.research.google.com/notebooks/data_table.ipynb>data table notebook</a>'\n",
              "            + ' to learn more about interactive tables.';\n",
              "          element.innerHTML = '';\n",
              "          dataTable['output_type'] = 'display_data';\n",
              "          await google.colab.output.renderOutput(dataTable, element);\n",
              "          const docLink = document.createElement('div');\n",
              "          docLink.innerHTML = docLinkHtml;\n",
              "          element.appendChild(docLink);\n",
              "        }\n",
              "      </script>\n",
              "    </div>\n",
              "  </div>\n",
              "  "
            ]
          },
          "metadata": {},
          "execution_count": 18
        }
      ],
      "source": [
        "import pandas as pd\n",
        "churn = pd.read_csv(\"churn_logistic.csv\")\n",
        "churn.head()"
      ]
    },
    {
      "cell_type": "markdown",
      "metadata": {
        "id": "4i5XMpGc7lJw"
      },
      "source": [
        "**Data Description**\n",
        "<center>\n",
        "\n",
        "| Records | Features |\n",
        "| :-- | :-- |\n",
        "| 5700 | 21 |\n",
        "\n",
        "\n",
        "| Id | Features | Description |\n",
        "| :-- | :--| :--|\n",
        "|01| **state** | 2-letter code of the US state of customer residence|\n",
        "|02| **account_length** | Number of months the customer has been with the current telco provider |\n",
        "|03|**area_code**|string=\"area_code_AAA\" where AAA = 3 digit area code|\n",
        "|04|**intl_plan**|The customer has international plan|\n",
        "|05|**vmail_plan**| The customer has voice mail plan|\n",
        "|06|**vmail_messages**|Number of voice-mail messages|\n",
        "|07|**day_mins**|Total minutes of day calls|\n",
        "|08|**day_calls**|Total no of day calls|\n",
        "|09|**day_charge**|Total charge of day calls|\n",
        "|10|**eve_mins**|Total minutes of evening calls|\n",
        "|11|**eve_calls**|Total no of evening calls|\n",
        "|12|**eve_charge**|Total charge of evening calls|\n",
        "|13|**night_mins**|Total minutes of night calls|\n",
        "|14|**night_calls**|Total no of night calls|\n",
        "|15|**night_charge**|Total charge of night calls|\n",
        "|16|**intl_mins**|Total minutes of international calls|\n",
        "|17|**intl_calls**|Total no of international calls|\n",
        "|18|**intl_charge**|Total charge of international calls|\n",
        "|19|**customer_service_calls**|Number of calls to customer service|\n",
        "|20|**phone**|10 digit number|\n",
        "|21|**churn**|Customer churn - target variable|"
      ]
    },
    {
      "cell_type": "code",
      "source": [
        "churn['Churn'].value_counts()"
      ],
      "metadata": {
        "colab": {
          "base_uri": "https://localhost:8080/"
        },
        "id": "YOTssvEWlSES",
        "outputId": "c1c763a2-69bb-4688-e873-8615f3fe50f3"
      },
      "execution_count": null,
      "outputs": [
        {
          "output_type": "execute_result",
          "data": {
            "text/plain": [
              "0    2850\n",
              "1    2850\n",
              "Name: Churn, dtype: int64"
            ]
          },
          "metadata": {},
          "execution_count": 19
        }
      ]
    },
    {
      "cell_type": "markdown",
      "source": [
        "Observe:\n",
        "- The number of values are same for both \"0\" and \"1\""
      ],
      "metadata": {
        "id": "eZQWpSERlbJ-"
      }
    },
    {
      "cell_type": "markdown",
      "source": [
        "## Intro to Logistic Regression"
      ],
      "metadata": {
        "id": "PD8SgscRoKnm"
      }
    },
    {
      "cell_type": "markdown",
      "source": [
        "Before we dive into logistic regression, let's look at few notations we will be following."
      ],
      "metadata": {
        "id": "2rfpaSRDlY-n"
      }
    },
    {
      "cell_type": "markdown",
      "source": [
        "<img src='https://d2beiqkhq929f0.cloudfront.net/public_assets/assets/000/061/842/original/z.png?1705230629' width=700>"
      ],
      "metadata": {
        "id": "wyIEdCqalfW0"
      }
    },
    {
      "cell_type": "markdown",
      "source": [
        "#### Recap"
      ],
      "metadata": {
        "id": "x6qnieNQmDby"
      }
    },
    {
      "cell_type": "markdown",
      "source": [
        "To solve this task, let's first recap what we have learnt in linear regression"
      ],
      "metadata": {
        "id": "-uutWl7_mGsB"
      }
    },
    {
      "cell_type": "markdown",
      "source": [
        "<img src='https://d2beiqkhq929f0.cloudfront.net/public_assets/assets/000/061/843/original/z.png?1705230660' width=700>"
      ],
      "metadata": {
        "id": "ZtEPtYYfmpUJ"
      }
    },
    {
      "cell_type": "markdown",
      "source": [
        "#### What kind of algorithm is logistic regression?"
      ],
      "metadata": {
        "id": "nzNydBqHosvW"
      }
    },
    {
      "cell_type": "markdown",
      "source": [
        "<img src='https://d2beiqkhq929f0.cloudfront.net/public_assets/assets/000/061/844/original/z.png?1705230758' width=700>"
      ],
      "metadata": {
        "id": "qkFAScAyCyL5"
      }
    },
    {
      "cell_type": "markdown",
      "source": [
        "- It is a supervised algorithm\n",
        "- Mainly used for classification tasks\n",
        "- Can only solve binary classification problems"
      ],
      "metadata": {
        "id": "fVTIjuPCopxx"
      }
    },
    {
      "cell_type": "markdown",
      "source": [
        "**Do you guys remember the fish sorting problem from \"Maths for ML\" module?**\n",
        "\n",
        "It can be stated as,\n",
        "$D = \\{(x^{(i)}, y^{(i)})^m_{i=1}; x^{(i)} \\in R^d; y^{(i)} \\in \\{0,1\\}, y^{(i)} ∉ R\\}$\n",
        "\n",
        "For any given value of x, y belongs only to either 0 or 1, and it can't be a real number other than 0  and 1\n",
        "\n",
        "Our customer churn problem is very similar to this"
      ],
      "metadata": {
        "id": "3CbAJSl-o4A_"
      }
    },
    {
      "cell_type": "markdown",
      "source": [
        "<img src='https://d2beiqkhq929f0.cloudfront.net/public_assets/assets/000/061/846/original/z.png?1705230786' width=700>"
      ],
      "metadata": {
        "id": "OGaL5dovq7g9"
      }
    },
    {
      "cell_type": "markdown",
      "source": [
        "The task in classification is to be able to separate the two classes\n",
        "\n",
        "- The **main difference** is\n",
        "\n",
        "  - In Lin. Reg., we were finding the line of best fit in d+1 dimensional space,i.e., d feature and y (target variable)\n",
        "  - But in Logistic Regression, we are looking for a hyperplane in d-dimensional space."
      ],
      "metadata": {
        "id": "ITffdepYrah-"
      }
    },
    {
      "cell_type": "markdown",
      "source": [
        "\n",
        "We know a linaer regression model gives output as a continous value from $-∞$ to $∞$.\n",
        "\n",
        "#### What should we modify in a linear model to be able to give values as either 0 or 1?"
      ],
      "metadata": {
        "id": "4aUB1zM9rs6V"
      }
    },
    {
      "cell_type": "markdown",
      "source": [
        "We will use something called as thresholding"
      ],
      "metadata": {
        "id": "tPT8HVSGshon"
      }
    },
    {
      "cell_type": "markdown",
      "source": [
        "## Thresholding and Step Function"
      ],
      "metadata": {
        "id": "fJVAuMjvsld3"
      }
    },
    {
      "cell_type": "markdown",
      "source": [
        "#### What function can we use to threshold the values?"
      ],
      "metadata": {
        "id": "bhDp2JwG0Bm4"
      }
    },
    {
      "cell_type": "markdown",
      "source": [
        "We can select our own threshold value, and set the condition based on that.\n",
        "\n",
        "The function would look like a step."
      ],
      "metadata": {
        "id": "GS2rn3zB0Gna"
      }
    },
    {
      "cell_type": "markdown",
      "source": [
        "<img src='https://d2beiqkhq929f0.cloudfront.net/public_assets/assets/000/061/847/original/z.png?1705230823' width=700>"
      ],
      "metadata": {
        "id": "squ92CM2DaKY"
      }
    },
    {
      "cell_type": "markdown",
      "source": [
        "#### Do you notice a problem with this step function?"
      ],
      "metadata": {
        "id": "EyTeHbmY28fm"
      }
    },
    {
      "cell_type": "markdown",
      "source": [
        "It is non-differentiable, and hence, we cannot perform derivative operation."
      ],
      "metadata": {
        "id": "vhKXskXS3UqS"
      }
    },
    {
      "cell_type": "markdown",
      "source": [
        "#### What better function can we use other than step function to threshold our values?"
      ],
      "metadata": {
        "id": "KzbcbqWC3kmb"
      }
    },
    {
      "cell_type": "markdown",
      "source": [
        "## Sigmoid/Logistic Function"
      ],
      "metadata": {
        "id": "fYoziVau3so2"
      }
    },
    {
      "cell_type": "markdown",
      "source": [
        "The term \"logistic regression\" comes from this function\n",
        "- At the base, it's doing regression only\n",
        "- On top of Regression, we are applying logistic function, hence logistic regression"
      ],
      "metadata": {
        "id": "PtZ47l_2CCBZ"
      }
    },
    {
      "cell_type": "markdown",
      "source": [
        "#### What is the sigmoid function?"
      ],
      "metadata": {
        "id": "hIRbhx4cCRlN"
      }
    },
    {
      "cell_type": "markdown",
      "source": [
        "<img src='https://d2beiqkhq929f0.cloudfront.net/public_assets/assets/000/061/848/original/z.png?1705230852' width=700>"
      ],
      "metadata": {
        "id": "sGj4nx1cDthx"
      }
    },
    {
      "cell_type": "markdown",
      "source": [
        "## Implementation"
      ],
      "metadata": {
        "id": "HD02k5EMFtM-"
      }
    },
    {
      "cell_type": "markdown",
      "metadata": {
        "id": "-J9w8JjccTea"
      },
      "source": [
        "#### Defining sigmoid function"
      ]
    },
    {
      "cell_type": "code",
      "execution_count": null,
      "metadata": {
        "id": "5juiZKIjcTvE"
      },
      "outputs": [],
      "source": [
        "def sigmoid(x):\n",
        "    return 1/(1+np.e**-x)"
      ]
    },
    {
      "cell_type": "code",
      "source": [
        "sigmoid(1.99)"
      ],
      "metadata": {
        "colab": {
          "base_uri": "https://localhost:8080/"
        },
        "id": "XKtQ78n18cI2",
        "outputId": "dead43c8-ef8f-4b3a-c7b8-7c89a976da20"
      },
      "execution_count": null,
      "outputs": [
        {
          "output_type": "execute_result",
          "data": {
            "text/plain": [
              "0.8797431375322491"
            ]
          },
          "metadata": {},
          "execution_count": 21
        }
      ]
    },
    {
      "cell_type": "code",
      "source": [
        "sigmoid(0)"
      ],
      "metadata": {
        "colab": {
          "base_uri": "https://localhost:8080/"
        },
        "id": "aFXoQ9lh9EQj",
        "outputId": "360ea2d3-2ab0-41ae-fc40-38c028bd96bc"
      },
      "execution_count": null,
      "outputs": [
        {
          "output_type": "execute_result",
          "data": {
            "text/plain": [
              "0.5"
            ]
          },
          "metadata": {},
          "execution_count": 22
        }
      ]
    },
    {
      "cell_type": "code",
      "source": [
        "sigmoid(-0.9)"
      ],
      "metadata": {
        "colab": {
          "base_uri": "https://localhost:8080/"
        },
        "id": "hB_8WHvn9GfH",
        "outputId": "ebdcf317-63ea-410b-ba4e-49203733479b"
      },
      "execution_count": null,
      "outputs": [
        {
          "output_type": "execute_result",
          "data": {
            "text/plain": [
              "0.28905049737499605"
            ]
          },
          "metadata": {},
          "execution_count": 23
        }
      ]
    },
    {
      "cell_type": "markdown",
      "metadata": {
        "id": "A1X6zp6XcgNP"
      },
      "source": [
        "#### Visualizing sigmoid"
      ]
    },
    {
      "cell_type": "code",
      "execution_count": null,
      "metadata": {
        "colab": {
          "base_uri": "https://localhost:8080/",
          "height": 449
        },
        "id": "ymQiSB7Vcdzm",
        "outputId": "7bfa66d9-7e16-4c35-bd18-67cad7ee4fb4"
      },
      "outputs": [
        {
          "output_type": "display_data",
          "data": {
            "text/plain": [
              "<Figure size 640x480 with 1 Axes>"
            ],
            "image/png": "[encoded data removed]"
          },
          "metadata": {}
        }
      ],
      "source": [
        "x = np.linspace(-10, 10, 100) # 100 equidistant points between -10 and 10\n",
        "y = sigmoid(x)\n",
        "plt.plot(x, y)\n",
        "plt.xlabel(\"x\")\n",
        "plt.ylabel(\"Sigmoid(X)\")\n",
        "plt.grid()\n",
        "plt.show()"
      ]
    },
    {
      "cell_type": "markdown",
      "source": [
        "Observe,\n",
        "\n",
        "- The curve of sigmoid looks exactly like an S shape curve with cutting the y axis for x=0, at y=0.5"
      ],
      "metadata": {
        "id": "SNaUxWKk9VpQ"
      }
    },
    {
      "cell_type": "markdown",
      "source": [
        "Now that we have the sigmoid function, what loss function should we use?"
      ],
      "metadata": {
        "id": "3Z7AP4Rhslkz"
      }
    },
    {
      "cell_type": "markdown",
      "source": [
        "The output of sigmoid function can be thought of as a probability of a point belonging to class 1\n",
        "\n",
        "$\\hat{y}^{(i)}=P(y^i=1|x^i)$\n",
        "\n",
        "E.g.\n",
        "=> If we get sigmoid value as 0.18, it means there's a 18% chance the point belongs to class 1"
      ],
      "metadata": {
        "id": "kx731e-PGlIG"
      }
    },
    {
      "cell_type": "markdown",
      "source": [
        "There is one issue though with sigmoid function.\n",
        "\n",
        "#### What is a problem with sigmoid function being used for classification?"
      ],
      "metadata": {
        "id": "-4H71WNAFPVC"
      }
    },
    {
      "cell_type": "markdown",
      "source": [
        "We are getting continuous values in the range of {0,1}\n",
        "\n",
        "Can you suggest a way to convert this to categorical values?\n",
        "\n",
        "#### **Thresholding**\n",
        "\n",
        "We can take a threshold of 0.5\n",
        "\n",
        "So values >= 0.5 will be 1, else 0"
      ],
      "metadata": {
        "id": "WCAkctpAGP0Y"
      }
    },
    {
      "cell_type": "markdown",
      "source": [
        "## Geometric Interpretation of Sigmoid"
      ],
      "metadata": {
        "id": "hxSZIbnFk4va"
      }
    },
    {
      "cell_type": "markdown",
      "source": [
        "<img src='https://d2beiqkhq929f0.cloudfront.net/public_assets/assets/000/061/849/original/z.png?1705230896' width=700>\n",
        "\n"
      ],
      "metadata": {
        "id": "-IUqqKW6_3hQ"
      }
    },
    {
      "cell_type": "markdown",
      "source": [
        "<img src='https://d2beiqkhq929f0.cloudfront.net/public_assets/assets/000/061/850/original/z.png?1705230936' width=700>"
      ],
      "metadata": {
        "id": "ZzcIglKR_50K"
      }
    },
    {
      "cell_type": "markdown",
      "source": [
        "**Conclusion:**\n",
        "\n",
        "- Closer the point is to hyperplane,\n",
        "    - more unsure we are with its probability of it belonging to a specific class\n",
        "\n",
        "- Farther it is from hyperplane,\n",
        "    - more confident we are of it belonging to specific class."
      ],
      "metadata": {
        "id": "W_E0CoxGMCj9"
      }
    },
    {
      "cell_type": "markdown",
      "metadata": {
        "id": "pdA0DrprM6p0"
      },
      "source": [
        "# **Maximum Log-likelihood**"
      ]
    },
    {
      "cell_type": "markdown",
      "source": [
        "<img src='https://d2beiqkhq929f0.cloudfront.net/public_assets/assets/000/061/851/original/z.png?1705231004' width=800>"
      ],
      "metadata": {
        "id": "XxeO4XeyFIHy"
      }
    },
    {
      "cell_type": "markdown",
      "source": [
        "#### <font color='green' >(Optional)</font> Difference between likelihood and probability ?"
      ],
      "metadata": {
        "id": "OSABkoElVo-X"
      }
    },
    {
      "cell_type": "markdown",
      "source": [
        "Let's try to understand the difference between likelihood and probability\n",
        "\n",
        "Say, we plot the distribution of data of **students scores in module test**\n",
        "\n",
        "- x axis is the marks and y axis the frequency (or density as in a kde plot)\n",
        "\n",
        "Our task is to find the **probability** of a student's score lying in the range of 60 to 70\n"
      ],
      "metadata": {
        "id": "dftYHobXVo-X"
      }
    },
    {
      "cell_type": "markdown",
      "source": [
        "<img src='https://d2beiqkhq929f0.cloudfront.net/public_assets/assets/000/061/852/original/z.png?1705231047' width=700>"
      ],
      "metadata": {
        "id": "8ehFLCZeFO_I"
      }
    },
    {
      "cell_type": "markdown",
      "source": [
        "The probability can be said as\n",
        "- the area under the distribution curve for the range of 60 and 70\n",
        "- in this case it would be 0.29, or 29%\n",
        "\n",
        "The notation would be\n",
        "- $pr(data|distribution)$"
      ],
      "metadata": {
        "id": "iEQMw18GRjzy"
      }
    },
    {
      "cell_type": "markdown",
      "source": [
        "<img src='https://d2beiqkhq929f0.cloudfront.net/public_assets/assets/000/061/853/original/z.png?1705231075' width=700>"
      ],
      "metadata": {
        "id": "ZuvVNEb5FSVO"
      }
    },
    {
      "cell_type": "markdown",
      "source": [
        "#### What about likelihood?\n",
        "\n",
        "Say we want to find the likelihood of a student getting 63 marks?"
      ],
      "metadata": {
        "id": "R9kpG_9mSLr3"
      }
    },
    {
      "cell_type": "markdown",
      "source": [
        "<img src=\"https://d2beiqkhq929f0.cloudfront.net/public_assets/assets/000/061/854/original/z.png?1705231144\" width\n",
        "=700>"
      ],
      "metadata": {
        "id": "Wuf3DMxLSs52"
      }
    },
    {
      "cell_type": "markdown",
      "source": [
        "That would simply be the value on the y-axis for the distribution, in this cae, 0.12\n",
        "\n",
        "The notation would be\n",
        "- $L(dist.|data)$"
      ],
      "metadata": {
        "id": "BEKGZHpoSyzk"
      }
    },
    {
      "cell_type": "markdown",
      "source": [
        "So what's the major difference?\n",
        "\n",
        "- In likelihood the data is fixed, we move the distribution to fit the data.\n",
        "- In probability, we change the data as per our requirement.\n",
        "\n",
        "On a simpler terms,\n",
        "- Probability refers to the possibility of something happening\n",
        "- While likelihood refers to determining the data distribution for a given data point\n"
      ],
      "metadata": {
        "id": "KRpXIH16TLq_"
      }
    },
    {
      "cell_type": "markdown",
      "source": [
        "#### So how is this conneted to MLE in logistic regression?\n",
        "\n",
        "- Likelihood function determines the distribution given some observed data\n",
        "- In logistic regression, we are given the observed data for which we are trying to find the parameters to\n",
        "- MLE maximizes the likelihood of the likelihood function to be able to estimate the parameters of the observed data"
      ],
      "metadata": {
        "id": "qCED-EorVo-Z"
      }
    },
    {
      "cell_type": "markdown",
      "source": [
        "<!-- **Assume** we toss a fair coin.\n",
        "\n",
        "**What'll be the probability of getting a heads?**\n",
        "=> 1/2 or 0.5\n",
        "\n",
        "**What'll be the probability of getting a tails?**\n",
        "- Same. 0.5\n",
        "\n",
        "Notice that\n",
        "- when calculating probability or how likely a specific outcome will occur\n",
        "- we started off with an assumed condition\n",
        "\n",
        "The condition in this case was **fair coin** -->\n"
      ],
      "metadata": {
        "id": "qlkK9-n7P0eN"
      }
    },
    {
      "cell_type": "markdown",
      "source": [
        "<!--\n",
        "Now take **another example**:\n",
        "\n",
        "Say, we tossed a coin 10 times.\n",
        "- Out of 10 we got 8 heads and 2 tails.\n",
        "\n",
        "based on this, we want to know whether it is a fair coin or biased coin.\n",
        "\n",
        "Notice that\n",
        "- this time there is **no assumption** whether we have fair coin or baised coin\n",
        "- and we are provided with observed data (coin tossed 10 times.)\n",
        "\n",
        "Based on this, we get the **likelihood**\n",
        "- i.e. get the plausibility of hypothesis based on observed data.\n",
        "\n",
        "It is basically reverse engineering.\n",
        "- Instead of giving us a assumption,\n",
        "    - we are given a data and have been asked to whether the assumption will hold for this data.\n",
        "    - This is where we calculate the likelihood of it.\n",
        "\n",
        "\n",
        " -->\n"
      ],
      "metadata": {
        "id": "NGTEgZrSWfm6"
      }
    },
    {
      "cell_type": "markdown",
      "source": [
        "<!--\n",
        "**So, why likelihood when performing MLE?**\n",
        "\n",
        "In logistic regression, We are trying to **find the parameters** of a model based on **observed data**\n",
        "\n",
        "\n",
        "- and likelihood tells us plausibility of how well the chosen parameters explain the observed data. -->"
      ],
      "metadata": {
        "id": "gEInc4eLWiPB"
      }
    },
    {
      "cell_type": "markdown",
      "source": [
        "### Maximizing Likelihood Estimation"
      ],
      "metadata": {
        "id": "r2sVdv8nZtNL"
      }
    },
    {
      "cell_type": "markdown",
      "source": [
        "<img src='https://d2beiqkhq929f0.cloudfront.net/public_assets/assets/000/061/855/original/z.png?1705231204' width=700>"
      ],
      "metadata": {
        "id": "DOM493vTF5ox"
      }
    },
    {
      "cell_type": "markdown",
      "source": [
        "We can write the above as:\n"
      ],
      "metadata": {
        "id": "vPinFFX-X3H3"
      }
    },
    {
      "cell_type": "markdown",
      "source": [
        "![](https://d2beiqkhq929f0.cloudfront.net/public_assets/assets/000/036/390/original/image_2023-06-08_151021163.png?1686217222)"
      ],
      "metadata": {
        "id": "xH1FQXw_YSHX"
      }
    },
    {
      "cell_type": "markdown",
      "source": [
        "We plot the error vs prediction plot for $y^{(i)}=0$ and $y^{(i)}=1$"
      ],
      "metadata": {
        "id": "XngfTOXG8RJ4"
      }
    },
    {
      "cell_type": "markdown",
      "source": [
        "<img src='https://d2beiqkhq929f0.cloudfront.net/public_assets/assets/000/061/857/original/z.png?1705231276' width=800>"
      ],
      "metadata": {
        "id": "ifP-VqZCXjro"
      }
    },
    {
      "cell_type": "markdown",
      "source": [
        "Notice, this is the same as our negative log likelihood we dervied earlier\n"
      ],
      "metadata": {
        "id": "wNtLUgaoZuRD"
      }
    },
    {
      "cell_type": "markdown",
      "source": [
        "### Why can't we use MSE as loss for classification?"
      ],
      "metadata": {
        "id": "xKENuLyDatTL"
      }
    },
    {
      "cell_type": "markdown",
      "source": [
        "Before we dive into this, let's look at convex and non convex fuction"
      ],
      "metadata": {
        "id": "IBvvuAixjhHf"
      }
    },
    {
      "cell_type": "markdown",
      "source": [
        "<img src='https://d2beiqkhq929f0.cloudfront.net/public_assets/assets/000/061/858/original/z.png?1705231302' width=700>"
      ],
      "metadata": {
        "id": "ZF4aNTOpGdJo"
      }
    },
    {
      "cell_type": "markdown",
      "source": [
        "#### What function would you prefer when solving for optimization problem of logisitic regression ?"
      ],
      "metadata": {
        "id": "78PEpdKGj4T6"
      }
    },
    {
      "cell_type": "markdown",
      "source": [
        "<img src='https://d2beiqkhq929f0.cloudfront.net/public_assets/assets/000/061/859/original/z.png?1705231329' width=700>"
      ],
      "metadata": {
        "id": "088etTi0GldX"
      }
    },
    {
      "cell_type": "markdown",
      "source": [
        "**But, if we choose MSE with sigmoid, it'll be a non convex function.**\n",
        "- and we may not reach optimal solution.\n",
        "\n"
      ],
      "metadata": {
        "id": "1ZOfacRcknQJ"
      }
    },
    {
      "cell_type": "markdown",
      "source": [
        "#### But, we use MSE for linear regression. It was giving optimal solution. Why didn't we face this issue over there?\n",
        "\n",
        "Yes. Pay attention\n",
        "\n",
        "- **MSE when used with sigmoid as predictor** turns out to be non convex.\n",
        "\n",
        "We didn't use sigmoid as predictor in linear regression. Hence, it was convex over there"
      ],
      "metadata": {
        "id": "ftQlu0jXlxEQ"
      }
    },
    {
      "cell_type": "markdown",
      "source": [
        "#### Why MSE used with sigmoid is non convex?\n",
        "\n",
        "There's a mathematical proof behind it. If you are interested, you can read more here: https://towardsdatascience.com/why-not-mse-as-a-loss-function-for-logistic-regression-589816b5e03c"
      ],
      "metadata": {
        "id": "kJUV2SbUlqt9"
      }
    },
    {
      "cell_type": "markdown",
      "source": [
        "Hence, **we choose logloss with sigmoid**\n",
        "- which is a convex function\n",
        "\n",
        "and gurantees that we reach optimal solution."
      ],
      "metadata": {
        "id": "RLs6GKEJk_Bx"
      }
    },
    {
      "cell_type": "markdown",
      "source": [
        "### Let's implement log-loss now\n"
      ],
      "metadata": {
        "id": "kXe6s_5KnT85"
      }
    },
    {
      "cell_type": "code",
      "source": [
        "# Loss for a single point\n",
        "def log_loss(y, y_hat):\n",
        "  loss = y*np.log(y_hat)+(1-y)*np.log(1-y_hat)\n",
        "  return -loss"
      ],
      "metadata": {
        "id": "cFqV33F3nTdW"
      },
      "execution_count": null,
      "outputs": []
    },
    {
      "cell_type": "markdown",
      "source": [
        "**Quiz 12 :** (What do you think?)\n",
        "```\n",
        "What do you think would be the change to the code to implement it for m-points?\n",
        "A. -np.mean(loss)\n",
        "B. -loss/m, m being number of points\n",
        "C. -np.sum(loss)\n",
        "\n",
        "Ans: -np.mean(loss)\n",
        "```"
      ],
      "metadata": {
        "id": "o36yrfWlpQAh"
      }
    },
    {
      "cell_type": "code",
      "source": [
        "# Case 1, yi=1, high pi\n",
        "log_loss(1, 0.99)"
      ],
      "metadata": {
        "id": "B2WfSfog9dr8",
        "colab": {
          "base_uri": "https://localhost:8080/"
        },
        "outputId": "0af9526b-437a-43c0-aab8-3bef68cbfeb0"
      },
      "execution_count": null,
      "outputs": [
        {
          "output_type": "execute_result",
          "data": {
            "text/plain": [
              "0.01005033585350145"
            ]
          },
          "metadata": {},
          "execution_count": 26
        }
      ]
    },
    {
      "cell_type": "markdown",
      "source": [
        "Observe, how small log loss is"
      ],
      "metadata": {
        "id": "MT3E9xPe9pVT"
      }
    },
    {
      "cell_type": "code",
      "source": [
        "# Case 2, yi = 1, pi =0.5\n",
        "\n",
        "log_loss(1, 0.5)"
      ],
      "metadata": {
        "colab": {
          "base_uri": "https://localhost:8080/"
        },
        "id": "KvmSXe37qIKM",
        "outputId": "fca5eb15-11e7-4bbf-f3de-67e476656f8a"
      },
      "execution_count": null,
      "outputs": [
        {
          "output_type": "execute_result",
          "data": {
            "text/plain": [
              "0.6931471805599453"
            ]
          },
          "metadata": {},
          "execution_count": 27
        }
      ]
    },
    {
      "cell_type": "code",
      "source": [
        "# Case 3, yi = 1, low pi\n",
        "\n",
        "log_loss(1, 0.1)"
      ],
      "metadata": {
        "colab": {
          "base_uri": "https://localhost:8080/"
        },
        "id": "PTzJ90f9qKPv",
        "outputId": "e12334b8-3e80-470e-8ddc-52da5e0ed1b3"
      },
      "execution_count": null,
      "outputs": [
        {
          "output_type": "execute_result",
          "data": {
            "text/plain": [
              "2.3025850929940455"
            ]
          },
          "metadata": {},
          "execution_count": 28
        }
      ]
    },
    {
      "cell_type": "markdown",
      "source": [
        "Observe, how high the log loss is"
      ],
      "metadata": {
        "id": "VCWNjsXR-Ibs"
      }
    },
    {
      "cell_type": "markdown",
      "source": [
        "## Optimization"
      ],
      "metadata": {
        "id": "sSLynfXGraxC"
      }
    },
    {
      "cell_type": "markdown",
      "source": [
        "#### Do we need regularization?\n",
        "\n",
        "Yes, we can add regularization to prevent overfitting of the model"
      ],
      "metadata": {
        "id": "0yBOOMW2rY74"
      }
    },
    {
      "cell_type": "markdown",
      "source": [
        "<img src='https://d2beiqkhq929f0.cloudfront.net/public_assets/assets/000/061/860/original/z.png?1705231378' width=700>\n"
      ],
      "metadata": {
        "id": "ZyQmNzqDG3nX"
      }
    },
    {
      "cell_type": "markdown",
      "source": [
        "\n",
        "<img src='https://d2beiqkhq929f0.cloudfront.net/public_assets/assets/000/061/861/original/z.png?1705231423' width=700>\n"
      ],
      "metadata": {
        "id": "xdEKNJ7lHCe1"
      }
    },
    {
      "cell_type": "markdown",
      "source": [
        "\n",
        "<img src='https://d2beiqkhq929f0.cloudfront.net/public_assets/assets/000/061/862/original/z.png?1705231455' width=700>\n"
      ],
      "metadata": {
        "id": "1szffX65HJs8"
      }
    },
    {
      "cell_type": "markdown",
      "source": [
        "\n",
        "<img src='https://d2beiqkhq929f0.cloudfront.net/public_assets/assets/000/061/863/original/z.png?1705231480' width=700>\n"
      ],
      "metadata": {
        "id": "Q_6XQbZOHYLR"
      }
    },
    {
      "cell_type": "markdown",
      "source": [
        "\n",
        "<img src='https://d2beiqkhq929f0.cloudfront.net/public_assets/assets/000/061/864/original/z.png?1705231506' width=700>\n"
      ],
      "metadata": {
        "id": "udLmYDV9Hl44"
      }
    },
    {
      "cell_type": "markdown",
      "source": [
        "\n",
        "<img src='https://d2beiqkhq929f0.cloudfront.net/public_assets/assets/000/061/865/original/z.png?1705231533' width=700>"
      ],
      "metadata": {
        "id": "hXQ3ruMvHsWM"
      }
    },
    {
      "cell_type": "markdown",
      "source": [
        "#### Extra Read: Scratch impl of Log. Reg"
      ],
      "metadata": {
        "id": "2PrJbznhKxY1"
      }
    },
    {
      "cell_type": "markdown",
      "source": [
        "\n",
        "- https://colab.research.google.com/drive/16OjEQ0RExT7AlgyasMlvyvdCt0TNB18m?usp=share_link"
      ],
      "metadata": {
        "id": "RNU4teES3cei"
      }
    }
  ]
}