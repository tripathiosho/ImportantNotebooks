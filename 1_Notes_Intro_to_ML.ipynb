{
  "nbformat": 4,
  "nbformat_minor": 0,
  "metadata": {
    "colab": {
      "provenance": [],
      "include_colab_link": true
    },
    "kernelspec": {
      "name": "python3",
      "display_name": "Python 3"
    },
    "language_info": {
      "name": "python"
    }
  },
  "cells": [
    {
      "cell_type": "markdown",
      "metadata": {
        "id": "view-in-github",
        "colab_type": "text"
      },
      "source": [
        "<a href=\"https://colab.research.google.com/github/tripathiosho/ImportantNotebooks/blob/main/1_Notes_Intro_to_ML.ipynb\" target=\"_parent\"><img src=\"https://colab.research.google.com/assets/colab-badge.svg\" alt=\"Open In Colab\"/></a>"
      ]
    },
    {
      "cell_type": "markdown",
      "source": [
        "## Content\n",
        "- Agenda\n",
        "- Already Learnt\n",
        "- DSML Libraries\n",
        "  - Plotting Examples\n",
        "  - Prob and Stats\n",
        "  - Linear Algebra\n",
        "- TO Learn\n",
        "- ML v/s Classical Programming\n",
        "  - SDE vs ML Pipeline\n",
        "  - Tom Mitchell's definition of ML Task\n",
        "  - ETP\n",
        "- ML: Categorisation based on Tasks\n",
        "\n",
        "  - Classifcation\n",
        "  - Regression      \n",
        "  - Classification v/s Regression\n",
        "  - Supervised Learning\n",
        "  - Clustering\n",
        "  - Unsupervised Learning"
      ],
      "metadata": {
        "id": "Kd3X-8_Yy5GW"
      }
    },
    {
      "cell_type": "markdown",
      "source": [
        "### Agenda"
      ],
      "metadata": {
        "id": "6aVY9g3cPs56"
      }
    },
    {
      "cell_type": "markdown",
      "source": [
        "<img src=\"https://d2beiqkhq929f0.cloudfront.net/public_assets/assets/000/040/558/original/image_2023-07-24_182421442.png?1690203260\" width=800>"
      ],
      "metadata": {
        "id": "yh-r-DJ9u9G3"
      }
    },
    {
      "cell_type": "markdown",
      "source": [
        "### ALREADY LEARNT\n",
        "\n",
        "\n",
        "\n"
      ],
      "metadata": {
        "id": "yAvDXVzZSe9g"
      }
    },
    {
      "cell_type": "markdown",
      "source": [
        "<img src=\"https://d2beiqkhq929f0.cloudfront.net/public_assets/assets/000/040/559/original/image_2023-07-24_182504594.png?1690203303\" width=800>"
      ],
      "metadata": {
        "id": "NOXhQhrrM1IR"
      }
    },
    {
      "cell_type": "markdown",
      "source": [
        "### DSML Libraries\n",
        "\n"
      ],
      "metadata": {
        "id": "84f9DwlibpN1"
      }
    },
    {
      "cell_type": "markdown",
      "source": [
        "<img src=\"https://d2beiqkhq929f0.cloudfront.net/public_assets/assets/000/040/560/original/image_2023-07-24_182558308.png?1690203357\" width=800>\n",
        "\n"
      ],
      "metadata": {
        "id": "43jqKd9Lv34x"
      }
    },
    {
      "cell_type": "markdown",
      "source": [
        "<img src=\"https://d2beiqkhq929f0.cloudfront.net/public_assets/assets/000/040/561/original/image_2023-07-24_182626953.png?1690203386\" width=800>"
      ],
      "metadata": {
        "id": "3YnGykylv5tc"
      }
    },
    {
      "cell_type": "markdown",
      "source": [
        "#### Plotting Examples\n",
        "\n",
        "\n",
        "\n",
        "\n"
      ],
      "metadata": {
        "id": "JQ8_5bQdhRJl"
      }
    },
    {
      "cell_type": "markdown",
      "source": [
        "<img src=\"https://d2beiqkhq929f0.cloudfront.net/public_assets/assets/000/040/562/original/image_2023-07-24_182701379.png?1690203420\" width=800>\n",
        "\n",
        "\n"
      ],
      "metadata": {
        "id": "kQe_evDnQm2Y"
      }
    },
    {
      "cell_type": "markdown",
      "source": [
        "<img src=\"https://d2beiqkhq929f0.cloudfront.net/public_assets/assets/000/040/563/original/image_2023-07-24_182726689.png?1690203445\" width=800>"
      ],
      "metadata": {
        "id": "00MndbX6xzIp"
      }
    },
    {
      "cell_type": "markdown",
      "source": [
        "#### Probability and Statistics"
      ],
      "metadata": {
        "id": "w2uA5JbBhRL4"
      }
    },
    {
      "cell_type": "markdown",
      "source": [
        "<img src=\"https://d2beiqkhq929f0.cloudfront.net/public_assets/assets/000/040/564/original/image_2023-07-24_182821507.png?1690203501\" width=800>\n",
        "\n"
      ],
      "metadata": {
        "id": "LqYbAOQWyhOG"
      }
    },
    {
      "cell_type": "markdown",
      "source": [
        "<img src=\"https://d2beiqkhq929f0.cloudfront.net/public_assets/assets/000/040/565/original/image_2023-07-24_182842139.png?1690203522\" width=800>\n",
        "\n",
        "\n"
      ],
      "metadata": {
        "id": "jlJXz68oywt0"
      }
    },
    {
      "cell_type": "markdown",
      "source": [
        "<img src=\"https://d2beiqkhq929f0.cloudfront.net/public_assets/assets/000/040/566/original/image_2023-07-24_182903357.png?1690203542\" width=800>"
      ],
      "metadata": {
        "id": "TYp-zdn24BwL"
      }
    },
    {
      "cell_type": "markdown",
      "source": [
        "#### Linear Algebra\n",
        "\n",
        "\n"
      ],
      "metadata": {
        "id": "KrP8-7YvhRQV"
      }
    },
    {
      "cell_type": "markdown",
      "source": [
        "<img src=\"https://d2beiqkhq929f0.cloudfront.net/public_assets/assets/000/040/568/original/image_2023-07-24_182949719.png?1690203588\" width=800>\n",
        "\n",
        "\n"
      ],
      "metadata": {
        "id": "Lar2tl0F4WaT"
      }
    },
    {
      "cell_type": "markdown",
      "source": [
        "<img src=\"https://d2beiqkhq929f0.cloudfront.net/public_assets/assets/000/040/569/original/image_2023-07-24_183018451.png?1690203616\" width=800>"
      ],
      "metadata": {
        "id": "ThTkwhlN4Wcp"
      }
    },
    {
      "cell_type": "markdown",
      "source": [
        "<img src=\"https://d2beiqkhq929f0.cloudfront.net/public_assets/assets/000/040/570/original/image_2023-07-24_183036998.png?1690203636\" width=800>"
      ],
      "metadata": {
        "id": "-rG7GMlvVNfG"
      }
    },
    {
      "cell_type": "markdown",
      "source": [
        "### TO LEARN  "
      ],
      "metadata": {
        "id": "AGdv-rzMhRW4"
      }
    },
    {
      "cell_type": "markdown",
      "source": [
        "### ML v/s Classical Programming"
      ],
      "metadata": {
        "id": "nZbQQO17xP5T"
      }
    },
    {
      "cell_type": "markdown",
      "source": [
        "<img src=\"https://d2beiqkhq929f0.cloudfront.net/public_assets/assets/000/061/493/original/image.png?1705055311\" width=800>"
      ],
      "metadata": {
        "id": "SJ1s9ARo5WsY"
      }
    },
    {
      "cell_type": "markdown",
      "source": [
        "#### **How does the SDE pipleline look?**\n",
        "\n"
      ],
      "metadata": {
        "id": "259QdYeShRb2"
      }
    },
    {
      "cell_type": "markdown",
      "source": [
        "<img src=\"https://d2beiqkhq929f0.cloudfront.net/public_assets/assets/000/061/494/original/image.png?1705055395\" width=800>\n",
        "\n",
        "\n"
      ],
      "metadata": {
        "id": "QI8cxEnF6WCm"
      }
    },
    {
      "cell_type": "markdown",
      "source": [
        "<img src=\"https://d2beiqkhq929f0.cloudfront.net/public_assets/assets/000/061/495/original/image.png?1705055456\" width=800>"
      ],
      "metadata": {
        "id": "kr4LOZAH6mMM"
      }
    },
    {
      "cell_type": "markdown",
      "source": [
        "#### How does the ML pipeline look?\n",
        "\n"
      ],
      "metadata": {
        "id": "AaN5JwR5xsRe"
      }
    },
    {
      "cell_type": "markdown",
      "source": [
        "<img src=\"https://d2beiqkhq929f0.cloudfront.net/public_assets/assets/000/061/496/original/image.png?1705055673\" width=800>\n",
        "\n",
        "\n"
      ],
      "metadata": {
        "id": "01DPA8mM6w5D"
      }
    },
    {
      "cell_type": "markdown",
      "source": [
        "<img src=\"https://d2beiqkhq929f0.cloudfront.net/public_assets/assets/000/061/497/original/image.png?1705055757\" width=800>"
      ],
      "metadata": {
        "id": "bU5TOB8J7V4Y"
      }
    },
    {
      "cell_type": "markdown",
      "source": [
        "#### \"Well defined\" ML task - Definition by Tom Mitchell"
      ],
      "metadata": {
        "id": "4WHBPyld0Kr6"
      }
    },
    {
      "cell_type": "markdown",
      "source": [
        "<img src=\"https://d2beiqkhq929f0.cloudfront.net/public_assets/assets/000/061/498/original/image.png?1705055955\" width=800>\n",
        "\n",
        "\n",
        "\n"
      ],
      "metadata": {
        "id": "6UW-O4_R7t2a"
      }
    },
    {
      "cell_type": "markdown",
      "source": [
        "<img src=\"https://d2beiqkhq929f0.cloudfront.net/public_assets/assets/000/061/499/original/image.png?1705056084\" width=800>"
      ],
      "metadata": {
        "id": "a8ab-Thp7t-P"
      }
    },
    {
      "cell_type": "markdown",
      "source": [
        "#### ETP Example"
      ],
      "metadata": {
        "id": "HT5sp1zuELU1"
      }
    },
    {
      "cell_type": "markdown",
      "source": [
        "<img src=\"https://d2beiqkhq929f0.cloudfront.net/public_assets/assets/000/061/502/original/image.png?1705056196\" width=800>"
      ],
      "metadata": {
        "id": "KauuwFZx7V-k"
      }
    },
    {
      "cell_type": "markdown",
      "source": [
        "<img src=\"https://d2beiqkhq929f0.cloudfront.net/public_assets/assets/000/061/504/original/image.png?1705056357\" width=800>\n",
        "\n"
      ],
      "metadata": {
        "id": "R6vusM8afr5R"
      }
    },
    {
      "cell_type": "markdown",
      "source": [
        "<img src=\"https://d2beiqkhq929f0.cloudfront.net/public_assets/assets/000/061/505/original/image.png?1705056480\" width=800>"
      ],
      "metadata": {
        "id": "EYbHvxg7VbQW"
      }
    },
    {
      "cell_type": "markdown",
      "source": [
        "#### ML Topics Categorisation"
      ],
      "metadata": {
        "id": "ljrzETUKJLv-"
      }
    },
    {
      "cell_type": "markdown",
      "source": [
        "<img src='https://d2beiqkhq929f0.cloudfront.net/public_assets/assets/000/061/510/original/img.png?1705056694' width=800>\n",
        "\n"
      ],
      "metadata": {
        "id": "8p-yL9zo8-cE"
      }
    },
    {
      "cell_type": "markdown",
      "source": [
        "<img src='https://d2beiqkhq929f0.cloudfront.net/public_assets/assets/000/061/511/original/img.png?1705056821' width=800>"
      ],
      "metadata": {
        "id": "-8iap3Lv9jSS"
      }
    },
    {
      "cell_type": "markdown",
      "source": [
        "### ML Categorisation based on Tasks"
      ],
      "metadata": {
        "id": "7BuxD1M4OBjY"
      }
    },
    {
      "cell_type": "markdown",
      "source": [
        "#### Classification"
      ],
      "metadata": {
        "id": "hrGzlgv4OH1e"
      }
    },
    {
      "cell_type": "markdown",
      "source": [
        "<img src='https://d2beiqkhq929f0.cloudfront.net/public_assets/assets/000/061/513/original/img.png?1705057029' width=800>\n",
        "\n",
        "\n"
      ],
      "metadata": {
        "id": "lhSNmSBm9yEr"
      }
    },
    {
      "cell_type": "markdown",
      "source": [
        "<img src='https://d2beiqkhq929f0.cloudfront.net/public_assets/assets/000/061/514/original/img.png?1705057062' width=800>"
      ],
      "metadata": {
        "id": "I73YFTB993Eu"
      }
    },
    {
      "cell_type": "markdown",
      "source": [
        "#### Regression"
      ],
      "metadata": {
        "id": "-f2DGnmBOWdH"
      }
    },
    {
      "cell_type": "markdown",
      "source": [
        "<img src='https://d2beiqkhq929f0.cloudfront.net/public_assets/assets/000/061/516/original/z.png?1705057163' width=800>"
      ],
      "metadata": {
        "id": "MzaAFeEx-UZ3"
      }
    },
    {
      "cell_type": "markdown",
      "source": [
        "#### Regression v/s Classification"
      ],
      "metadata": {
        "id": "MiJkVJPPOj14"
      }
    },
    {
      "cell_type": "markdown",
      "source": [
        "<img src='https://d2beiqkhq929f0.cloudfront.net/public_assets/assets/000/061/519/original/z.png?1705057208' width=800>\n",
        "\n",
        "\n"
      ],
      "metadata": {
        "id": "HQJ2Kk0b-Y4z"
      }
    },
    {
      "cell_type": "markdown",
      "source": [
        "<img src='https://d2beiqkhq929f0.cloudfront.net/public_assets/assets/000/061/523/original/z.png?1705057297' width=800>"
      ],
      "metadata": {
        "id": "kEXgwOGl_CZ4"
      }
    },
    {
      "cell_type": "markdown",
      "source": [
        "<img src=\"https://d2beiqkhq929f0.cloudfront.net/public_assets/assets/000/061/504/original/image.png?1705056357\" width=800>\n",
        "\n"
      ],
      "metadata": {
        "id": "sna3Ufl3f4LO"
      }
    },
    {
      "cell_type": "markdown",
      "source": [
        "<img src=\"https://d2beiqkhq929f0.cloudfront.net/public_assets/assets/000/061/505/original/image.png?1705056480\" width=800>\n",
        "\n"
      ],
      "metadata": {
        "id": "e9eDc0CRg786"
      }
    },
    {
      "cell_type": "markdown",
      "source": [
        "<img src='https://d2beiqkhq929f0.cloudfront.net/public_assets/assets/000/061/524/original/z.png?1705057450' width=800>"
      ],
      "metadata": {
        "id": "YSaztZlUgnSF"
      }
    },
    {
      "cell_type": "markdown",
      "source": [
        "#### Supervised Learning"
      ],
      "metadata": {
        "id": "AaTuefp6Oo7a"
      }
    },
    {
      "cell_type": "markdown",
      "source": [
        "<img src='https://d2beiqkhq929f0.cloudfront.net/public_assets/assets/000/061/525/original/z.png?1705057493' width=800>"
      ],
      "metadata": {
        "id": "ndWOMmto_dYM"
      }
    },
    {
      "cell_type": "markdown",
      "source": [
        "#### Clustering"
      ],
      "metadata": {
        "id": "mvHoYG44OtIC"
      }
    },
    {
      "cell_type": "markdown",
      "source": [
        "<img src='https://d2beiqkhq929f0.cloudfront.net/public_assets/assets/000/061/528/original/z.png?1705057589' width=800>\n",
        "\n",
        "\n"
      ],
      "metadata": {
        "id": "Znu8EJgQ_hDG"
      }
    },
    {
      "cell_type": "markdown",
      "source": [
        "<img src='https://d2beiqkhq929f0.cloudfront.net/public_assets/assets/000/061/529/original/z.png?1705057636' width=800>\n",
        "\n",
        "\n"
      ],
      "metadata": {
        "id": "NCkDyqrB_he8"
      }
    },
    {
      "cell_type": "markdown",
      "source": [
        "<img src='https://d2beiqkhq929f0.cloudfront.net/public_assets/assets/000/061/530/original/z.png?1705057671' width=800>"
      ],
      "metadata": {
        "id": "yF4j9M5H_hzI"
      }
    },
    {
      "cell_type": "markdown",
      "source": [
        "#### Unsupervised Learning"
      ],
      "metadata": {
        "id": "NU8H3XR7OtMk"
      }
    },
    {
      "cell_type": "markdown",
      "source": [
        "<img src='https://d2beiqkhq929f0.cloudfront.net/public_assets/assets/000/061/531/original/z.png?1705057724' width=800>\n",
        "\n",
        "\n"
      ],
      "metadata": {
        "id": "aJoDp3Dp_iBm"
      }
    },
    {
      "cell_type": "markdown",
      "source": [
        "<img src='https://d2beiqkhq929f0.cloudfront.net/public_assets/assets/000/061/532/original/z.png?1705057905' width=800>"
      ],
      "metadata": {
        "id": "wy0RvlqI__dL"
      }
    },
    {
      "cell_type": "markdown",
      "source": [
        "<img src=\"https://d2beiqkhq929f0.cloudfront.net/public_assets/assets/000/061/504/original/image.png?1705056357\" width=800>\n",
        "\n"
      ],
      "metadata": {
        "id": "fMA8___ZhBQl"
      }
    },
    {
      "cell_type": "markdown",
      "source": [
        "<img src=\"https://d2beiqkhq929f0.cloudfront.net/public_assets/assets/000/061/505/original/image.png?1705056480\" width=800>\n",
        "\n"
      ],
      "metadata": {
        "id": "bJSnDkmLhBQz"
      }
    },
    {
      "cell_type": "markdown",
      "source": [
        "<img src='https://d2beiqkhq929f0.cloudfront.net/public_assets/assets/000/061/534/original/z.png?1705057956' width=800>"
      ],
      "metadata": {
        "id": "fKY-gdgMVygS"
      }
    },
    {
      "cell_type": "code",
      "source": [],
      "metadata": {
        "id": "DaQzEWgtc7QV"
      },
      "execution_count": null,
      "outputs": []
    }
  ]
}