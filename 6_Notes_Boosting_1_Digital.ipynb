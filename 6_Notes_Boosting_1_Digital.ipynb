{
  "nbformat": 4,
  "nbformat_minor": 0,
  "metadata": {
    "colab": {
      "provenance": [],
      "include_colab_link": true
    },
    "kernelspec": {
      "name": "python3",
      "display_name": "Python 3"
    },
    "language_info": {
      "name": "python"
    }
  },
  "cells": [
    {
      "cell_type": "markdown",
      "metadata": {
        "id": "view-in-github",
        "colab_type": "text"
      },
      "source": [
        "<a href=\"https://colab.research.google.com/github/tripathiosho/ImportantNotebooks/blob/main/6_Notes_Boosting_1_Digital.ipynb\" target=\"_parent\"><img src=\"https://colab.research.google.com/assets/colab-badge.svg\" alt=\"Open In Colab\"/></a>"
      ]
    },
    {
      "cell_type": "markdown",
      "source": [
        "## Content"
      ],
      "metadata": {
        "id": "5dNRgHATK_PV"
      }
    },
    {
      "cell_type": "markdown",
      "source": [
        "- **Bagging recap**\n",
        "\n",
        "- **Boosting Introduction**\n",
        "\n",
        "    \n",
        "    \n",
        "\n",
        "\n",
        "- **Boosting Intuition - How do we combine base learners ?**\n",
        "    - Residual\n",
        "    - Geometrical Intuition\n",
        "\n",
        "\n",
        "\n",
        "- **What happens at train and test time ?**\n",
        "\n",
        "- **Why Boosting ? - GBDT Intuition**\n",
        "    - Pseudo residual\n",
        "\n",
        "\n",
        "\n",
        "- **Sklearn implementation**\n",
        "\n"
      ],
      "metadata": {
        "id": "8IuPvF_f8F4f"
      }
    },
    {
      "cell_type": "markdown",
      "source": [
        "## Bagging recap"
      ],
      "metadata": {
        "id": "6rlvQ_c96ler"
      }
    },
    {
      "cell_type": "markdown",
      "source": [
        "#### What did we do in Bagging?\n",
        "\n",
        "\n",
        "\n",
        "\n"
      ],
      "metadata": {
        "id": "WbeU6G45vrz0"
      }
    },
    {
      "cell_type": "markdown",
      "source": [
        "<center><img src='https://d2beiqkhq929f0.cloudfront.net/public_assets/assets/000/062/222/original/z.png?1705481766' width=800></center>"
      ],
      "metadata": {
        "id": "iHqlDKvC_9bp"
      }
    },
    {
      "cell_type": "markdown",
      "source": [
        "## Boosting Introduction"
      ],
      "metadata": {
        "id": "MjfcVaVnvpr8"
      }
    },
    {
      "cell_type": "markdown",
      "source": [
        "On the other hand, in boosting, we again have **base learners**\n"
      ],
      "metadata": {
        "id": "lFsLQgc75lhP"
      }
    },
    {
      "cell_type": "markdown",
      "source": [
        "\n",
        "<br>\n",
        "\n",
        "#### So, what's the nature of base learners in boosting ?\n",
        "\n"
      ],
      "metadata": {
        "id": "s20XY12G6rrn"
      }
    },
    {
      "cell_type": "markdown",
      "source": [
        "<center><img src='https://d2beiqkhq929f0.cloudfront.net/public_assets/assets/000/062/224/original/z.png?1705481907' width=800></center>"
      ],
      "metadata": {
        "id": "8QGbJWxJAWtt"
      }
    },
    {
      "cell_type": "markdown",
      "source": [
        "<center><img src='https://d2beiqkhq929f0.cloudfront.net/public_assets/assets/000/062/226/original/z.png?1705481977' width=800></center>"
      ],
      "metadata": {
        "id": "Q0578mCsAxXd"
      }
    },
    {
      "cell_type": "markdown",
      "source": [
        "## Boosting Intuition - How do we combine base learners ?"
      ],
      "metadata": {
        "id": "sUfN_O7wHyPU"
      }
    },
    {
      "cell_type": "markdown",
      "source": [
        "<center><img src='https://d2beiqkhq929f0.cloudfront.net/public_assets/assets/000/062/227/original/z.png?1705482004' width=800></center>\n"
      ],
      "metadata": {
        "id": "Hov5Y0utBAos"
      }
    },
    {
      "cell_type": "markdown",
      "source": [
        "### Step 0 : $M_0$"
      ],
      "metadata": {
        "id": "5RzKm2F5MX-v"
      }
    },
    {
      "cell_type": "markdown",
      "source": [
        "<center><img src='https://d2beiqkhq929f0.cloudfront.net/public_assets/assets/000/062/228/original/z.png?1705482031' width=800></center>"
      ],
      "metadata": {
        "id": "OT989E7vBdDb"
      }
    },
    {
      "cell_type": "markdown",
      "source": [
        "<center><img src='https://d2beiqkhq929f0.cloudfront.net/public_assets/assets/000/062/229/original/z.png?1705482061' width=800></center>"
      ],
      "metadata": {
        "id": "JNClReKzBsGe"
      }
    },
    {
      "cell_type": "markdown",
      "source": [
        "Now, there'll be some error associated with these predictions"
      ],
      "metadata": {
        "id": "g8moS71ycz9L"
      }
    },
    {
      "cell_type": "markdown",
      "source": [
        "<center><img src='https://d2beiqkhq929f0.cloudfront.net/public_assets/assets/000/062/230/original/z.png?1705482089' width=800></center>"
      ],
      "metadata": {
        "id": "g_Lk9xoMCP-a"
      }
    },
    {
      "cell_type": "markdown",
      "source": [
        "<center><img src='https://d2beiqkhq929f0.cloudfront.net/public_assets/assets/000/062/231/original/z.png?1705482116' width=800></center>"
      ],
      "metadata": {
        "id": "UcuW-Q4VCkLZ"
      }
    },
    {
      "cell_type": "markdown",
      "source": [
        "#### What is our goal ?\n",
        "\n"
      ],
      "metadata": {
        "id": "8nNBZMpGZ0gT"
      }
    },
    {
      "cell_type": "markdown",
      "source": [
        "<center><img src='https://d2beiqkhq929f0.cloudfront.net/public_assets/assets/000/062/232/original/z.png?1705482146' width=800></center>"
      ],
      "metadata": {
        "id": "w0u51MC5C4WG"
      }
    },
    {
      "cell_type": "markdown",
      "source": [
        "#### How would predicting the error help in reducing it ?\n",
        "\n"
      ],
      "metadata": {
        "id": "EI8JmK6kcmkK"
      }
    },
    {
      "cell_type": "markdown",
      "source": [
        "<center><img src='https://d2beiqkhq929f0.cloudfront.net/public_assets/assets/000/062/233/original/z.png?1705482171' width=800></center>"
      ],
      "metadata": {
        "id": "MDNGGdp3DGwE"
      }
    },
    {
      "cell_type": "markdown",
      "source": [
        "<center><img src='https://d2beiqkhq929f0.cloudfront.net/public_assets/assets/000/062/234/original/z.png?1705482196' width=800></center>"
      ],
      "metadata": {
        "id": "pcb2jStCDkTE"
      }
    },
    {
      "cell_type": "markdown",
      "source": [
        "### Step 1 : $M_1$"
      ],
      "metadata": {
        "id": "xB4NK2fGaAAc"
      }
    },
    {
      "cell_type": "markdown",
      "source": [
        "<center><img src='https://d2beiqkhq929f0.cloudfront.net/public_assets/assets/000/062/235/original/z.png?1705482226' width=800></center>"
      ],
      "metadata": {
        "id": "BxEfXIzBD2Kv"
      }
    },
    {
      "cell_type": "markdown",
      "source": [
        "<center><img src='https://d2beiqkhq929f0.cloudfront.net/public_assets/assets/000/062/236/original/z.png?1705482254' width=800></center>"
      ],
      "metadata": {
        "id": "aurppypFEIxt"
      }
    },
    {
      "cell_type": "markdown",
      "source": [
        "\n",
        "<center><img src='https://d2beiqkhq929f0.cloudfront.net/public_assets/assets/000/062/237/original/z.png?1705482279' width=800></center>"
      ],
      "metadata": {
        "id": "ibx38o0sWVr1"
      }
    },
    {
      "cell_type": "markdown",
      "source": [
        "#### Issues with simple addition"
      ],
      "metadata": {
        "id": "XBPR5zEvm4cR"
      }
    },
    {
      "cell_type": "markdown",
      "source": [
        "<center><img src='https://d2beiqkhq929f0.cloudfront.net/public_assets/assets/000/062/238/original/z.png?1705482304' width=800></center>"
      ],
      "metadata": {
        "id": "7lEmIA2LXBne"
      }
    },
    {
      "cell_type": "markdown",
      "source": [
        "#### How do we resolve this issue ?"
      ],
      "metadata": {
        "id": "Rg1lWtHjpJsv"
      }
    },
    {
      "cell_type": "markdown",
      "source": [
        "<center><img src='https://d2beiqkhq929f0.cloudfront.net/public_assets/assets/000/062/239/original/z.png?1705482334' width=800></center>"
      ],
      "metadata": {
        "id": "ngJAXiY2XVUF"
      }
    },
    {
      "cell_type": "markdown",
      "source": [
        "#### How do we learn these weights ?\n",
        "\n",
        "We do so using optimization (will be discussed later)"
      ],
      "metadata": {
        "id": "241hrqxJqNqK"
      }
    },
    {
      "cell_type": "markdown",
      "source": [
        "But, we don't stop here.\n",
        "\n",
        "We move onto next step"
      ],
      "metadata": {
        "id": "vqRWN9VYqmWm"
      }
    },
    {
      "cell_type": "markdown",
      "source": [
        "### Step 2: $M_2$"
      ],
      "metadata": {
        "id": "GHMCW7-8rT16"
      }
    },
    {
      "cell_type": "markdown",
      "source": [
        "<center><img src='https://d2beiqkhq929f0.cloudfront.net/public_assets/assets/000/062/241/original/z.png?1705482367' width=800></center>"
      ],
      "metadata": {
        "id": "tVi7Y5_sX-Gp"
      }
    },
    {
      "cell_type": "markdown",
      "source": [
        "#### What will be residual used in step 2 ?"
      ],
      "metadata": {
        "id": "TeBAWIGYxFRX"
      }
    },
    {
      "cell_type": "markdown",
      "source": [
        "Here, $err^i_1$ will be\n",
        "-  residual left after Stage 1 final model prediction"
      ],
      "metadata": {
        "id": "30Ud-p4dwDtP"
      }
    },
    {
      "cell_type": "markdown",
      "source": [
        "<center><img src='https://d2beiqkhq929f0.cloudfront.net/public_assets/assets/000/062/242/original/z.png?1705482396' width=800></center>"
      ],
      "metadata": {
        "id": "t0-6epBucSya"
      }
    },
    {
      "cell_type": "markdown",
      "source": [
        "<center><img src='https://d2beiqkhq929f0.cloudfront.net/public_assets/assets/000/062/243/original/z.png?1705482422' width=800></center>"
      ],
      "metadata": {
        "id": "pdvOGi98ZNxX"
      }
    },
    {
      "cell_type": "markdown",
      "source": [
        "### Step M :"
      ],
      "metadata": {
        "id": "l3U7N78q1kDK"
      }
    },
    {
      "cell_type": "markdown",
      "source": [
        "The final model @ end of stage M will be :"
      ],
      "metadata": {
        "id": "wAzl89W41t1Q"
      }
    },
    {
      "cell_type": "markdown",
      "source": [
        "<center><img src='https://d2beiqkhq929f0.cloudfront.net/public_assets/assets/000/062/245/original/z.png?1705482448' width=800></center>"
      ],
      "metadata": {
        "id": "myT1N_AWZdNM"
      }
    },
    {
      "cell_type": "markdown",
      "source": [
        "<center><img src='https://d2beiqkhq929f0.cloudfront.net/public_assets/assets/000/062/246/original/z.png?1705482477' width=800></center>"
      ],
      "metadata": {
        "id": "3DEZcUDRZsKV"
      }
    },
    {
      "cell_type": "markdown",
      "source": [
        "### Example"
      ],
      "metadata": {
        "id": "Bnl4eQao3pvo"
      }
    },
    {
      "cell_type": "markdown",
      "source": [
        "<center><img src='https://d2beiqkhq929f0.cloudfront.net/public_assets/assets/000/062/247/original/z.png?1705482505' width=800></center>"
      ],
      "metadata": {
        "id": "wQDNeMrCbI7R"
      }
    },
    {
      "cell_type": "markdown",
      "source": [
        "<center><img src='https://d2beiqkhq929f0.cloudfront.net/public_assets/assets/000/062/248/original/z.png?1705482530' width=800></center>"
      ],
      "metadata": {
        "id": "reGwqskNbSge"
      }
    },
    {
      "cell_type": "markdown",
      "source": [
        "Now, we use the features (height , gender) and these error value to fit a new model to it\n",
        "- i.e. Stage 1 model"
      ],
      "metadata": {
        "id": "fQRHTtBy7div"
      }
    },
    {
      "cell_type": "markdown",
      "source": [
        "<center><img src='https://d2beiqkhq929f0.cloudfront.net/public_assets/assets/000/062/249/original/z.png?1705482555' width=800></center>\n"
      ],
      "metadata": {
        "id": "66wf2JxwbYrB"
      }
    },
    {
      "cell_type": "markdown",
      "source": [
        "Then we calculate the final predicition\n",
        "\n",
        "\n",
        "\n"
      ],
      "metadata": {
        "id": "n7VmvENL7acn"
      }
    },
    {
      "cell_type": "markdown",
      "source": [
        "<center><img src='https://d2beiqkhq929f0.cloudfront.net/public_assets/assets/000/062/250/original/z.png?1705482581' width=800></center>\n"
      ],
      "metadata": {
        "id": "e5VpFRiabmRd"
      }
    },
    {
      "cell_type": "markdown",
      "source": [
        "followed by calculating error i.e. (y - final prediction @ end of stage 1 )"
      ],
      "metadata": {
        "id": "r7Ev5yVPAIGL"
      }
    },
    {
      "cell_type": "markdown",
      "source": [
        "<center><img src='https://d2beiqkhq929f0.cloudfront.net/public_assets/assets/000/062/251/original/z.png?1705482608' width=800></center>"
      ],
      "metadata": {
        "id": "ukTBjnm-bwqu"
      }
    },
    {
      "cell_type": "markdown",
      "source": [
        "### Geometrical Intution"
      ],
      "metadata": {
        "id": "Q_WG2Q_QFrD-"
      }
    },
    {
      "cell_type": "markdown",
      "source": [
        "#### How does model fitting looks like geometrically ?\n"
      ],
      "metadata": {
        "id": "MYjDuVsfFzjG"
      }
    },
    {
      "cell_type": "markdown",
      "source": [
        "<center><img src='https://d2beiqkhq929f0.cloudfront.net/public_assets/assets/000/062/253/original/gbdt27.svg?1705482782' width=800></center>"
      ],
      "metadata": {
        "id": "BH8KtC1CctZe"
      }
    },
    {
      "cell_type": "markdown",
      "source": [
        "Zoomed in version, for reference (gif):"
      ],
      "metadata": {
        "id": "R8LQpRzic4gc"
      }
    },
    {
      "cell_type": "markdown",
      "source": [
        "<center><img src='https://d2beiqkhq929f0.cloudfront.net/public_assets/assets/000/062/254/original/svg.gif?1705482812' width=700></center>\n"
      ],
      "metadata": {
        "id": "F3Z3kAdqGhSQ"
      }
    },
    {
      "cell_type": "markdown",
      "source": [
        "The whole process along with the reduction in residual looks as follows :"
      ],
      "metadata": {
        "id": "8-zq2zS3GwYv"
      }
    },
    {
      "cell_type": "markdown",
      "source": [
        "<center><img src='https://d2beiqkhq929f0.cloudfront.net/public_assets/assets/000/062/255/original/download.jpeg?1705482949' width=700></center>\n"
      ],
      "metadata": {
        "id": "BGjNvPNSG25y"
      }
    },
    {
      "cell_type": "markdown",
      "source": [
        "Notice that\n",
        "- as we add the stage K's prediction to the final prediction\n",
        "    - the regression like fits better to the data\n",
        "- also the residual is reducing for each iteration."
      ],
      "metadata": {
        "id": "qt3uckNaG50T"
      }
    },
    {
      "cell_type": "markdown",
      "source": [
        "## What happens at train and test time ?\n"
      ],
      "metadata": {
        "id": "rOixy3QKJHjH"
      }
    },
    {
      "cell_type": "markdown",
      "source": [
        "<center><img src='https://d2beiqkhq929f0.cloudfront.net/public_assets/assets/000/062/256/original/z.png?1705482988' width=800></center>\n"
      ],
      "metadata": {
        "id": "AirfigKRdRZL"
      }
    },
    {
      "cell_type": "markdown",
      "source": [
        "<center><img src='https://d2beiqkhq929f0.cloudfront.net/public_assets/assets/000/062/257/original/z.png?1705483017' width=800></center>"
      ],
      "metadata": {
        "id": "gsqTz0c3eR10"
      }
    },
    {
      "cell_type": "markdown",
      "source": [
        "<center><img src='https://d2beiqkhq929f0.cloudfront.net/public_assets/assets/000/062/258/original/z.png?1705483046' width=800></center>"
      ],
      "metadata": {
        "id": "_8I8ncqqeVSu"
      }
    },
    {
      "cell_type": "markdown",
      "source": [
        "## Why Boosting ? - Gradient Boosting Intuition"
      ],
      "metadata": {
        "id": "EFZNEmoQL_Ah"
      }
    },
    {
      "cell_type": "markdown",
      "source": [
        "<center><img src='https://d2beiqkhq929f0.cloudfront.net/public_assets/assets/000/062/259/original/z.png?1705483071' width=800></center>\n"
      ],
      "metadata": {
        "id": "LNsGpJ0NgGcQ"
      }
    },
    {
      "cell_type": "markdown",
      "source": [
        "### Pseudo residuals"
      ],
      "metadata": {
        "id": "6EvuHL_L_rJX"
      }
    },
    {
      "cell_type": "markdown",
      "source": [
        "Say, we want to minimize the squared loss"
      ],
      "metadata": {
        "id": "ykdlStRs_tXm"
      }
    },
    {
      "cell_type": "markdown",
      "source": [
        "<center><img src='https://d2beiqkhq929f0.cloudfront.net/public_assets/assets/000/062/260/original/z.png?1705483097' width=800></center>"
      ],
      "metadata": {
        "id": "tnHrKBjcgU1B"
      }
    },
    {
      "cell_type": "markdown",
      "source": [
        "<center><img src='https://d2beiqkhq929f0.cloudfront.net/public_assets/assets/000/062/261/original/z.png?1705483124' width=800></center>"
      ],
      "metadata": {
        "id": "ZcejyCnmgbE2"
      }
    },
    {
      "cell_type": "markdown",
      "source": [
        "<center><img src='https://d2beiqkhq929f0.cloudfront.net/public_assets/assets/000/062/262/original/z.png?1705483151' width=800></center>"
      ],
      "metadata": {
        "id": "TRbcPsbLgo6t"
      }
    },
    {
      "cell_type": "markdown",
      "source": [
        "<center><img src='https://d2beiqkhq929f0.cloudfront.net/public_assets/assets/000/062/263/original/z.png?1705483175' width=800></center>"
      ],
      "metadata": {
        "id": "SWBBBhrmg5gL"
      }
    },
    {
      "cell_type": "markdown",
      "source": [
        "#### But, how do we use these pseudo residuals ?"
      ],
      "metadata": {
        "id": "Ri1KeBAbLRnj"
      }
    },
    {
      "cell_type": "markdown",
      "source": [
        "<center><img src='https://d2beiqkhq929f0.cloudfront.net/public_assets/assets/000/062/264/original/z.png?1705483204' width=800></center>\n"
      ],
      "metadata": {
        "id": "UaxSAhtGhcNY"
      }
    },
    {
      "cell_type": "markdown",
      "source": [
        "<center><img src='https://d2beiqkhq929f0.cloudfront.net/public_assets/assets/000/062/265/original/z.png?1705483226' width=800></center>"
      ],
      "metadata": {
        "id": "SMIfg0Zxhl3y"
      }
    },
    {
      "cell_type": "markdown",
      "source": [
        "#### How does using pseudo residual helping us ?"
      ],
      "metadata": {
        "id": "ErUq_UqJO7A_"
      }
    },
    {
      "cell_type": "markdown",
      "source": [
        "<center><img src='https://d2beiqkhq929f0.cloudfront.net/public_assets/assets/000/062/266/original/z.png?1705483253' width=800></center>"
      ],
      "metadata": {
        "id": "_lOKZ34chzGn"
      }
    },
    {
      "cell_type": "markdown",
      "source": [
        "<center><img src='https://d2beiqkhq929f0.cloudfront.net/public_assets/assets/000/062/267/original/z.png?1705483277' width=800></center>"
      ],
      "metadata": {
        "id": "-a7NOd8TiB7T"
      }
    },
    {
      "cell_type": "markdown",
      "source": [
        "<center><img src='https://d2beiqkhq929f0.cloudfront.net/public_assets/assets/000/062/268/original/z.png?1705483300' width=800></center>"
      ],
      "metadata": {
        "id": "fv2ap2R7iFVo"
      }
    },
    {
      "cell_type": "markdown",
      "source": [
        "#### (Optional) Extra Read - Pseudo residual Log loss"
      ],
      "metadata": {
        "id": "QIi-5M56eoqP"
      }
    },
    {
      "cell_type": "markdown",
      "source": [
        "The computation of Log loss pseudo residual is a bit math heavy.\n",
        "- hence, has been provided as extra read\n",
        "\n",
        "Do check it out: https://colab.research.google.com/drive/1TAp1vuROQyVyhntq8Bv4VhfshouSKvnB?usp=sharing"
      ],
      "metadata": {
        "id": "zMTRcvOke2rg"
      }
    },
    {
      "cell_type": "markdown",
      "source": [
        "## Sklearn implemntation"
      ],
      "metadata": {
        "id": "L9SqCVtEB4dm"
      }
    },
    {
      "cell_type": "markdown",
      "source": [
        "Let's implement it on the one of the previously used dataset\n",
        "- Employee attrition dataset (used in DT)"
      ],
      "metadata": {
        "id": "udZ2F2sJ_s8j"
      }
    },
    {
      "cell_type": "code",
      "execution_count": null,
      "metadata": {
        "colab": {
          "base_uri": "https://localhost:8080/"
        },
        "id": "YK15a4m5aZmd",
        "outputId": "3c725e99-f81b-445c-db14-a8d88e49a149"
      },
      "outputs": [
        {
          "output_type": "stream",
          "name": "stdout",
          "text": [
            "Downloading...\n",
            "From: https://drive.google.com/uc?id=19L3rYatfhbBL1r5MHrv-p_oM2wlvrhqk\n",
            "To: /content/preprocessed_X_sm.pickle\n",
            "100% 534k/534k [00:00<00:00, 100MB/s]\n",
            "Downloading...\n",
            "From: https://drive.google.com/uc?id=1OHLKJwA3qZopKPvlKoRldM6BvA1A4dYF\n",
            "To: /content/X_test.pickle\n",
            "100% 111k/111k [00:00<00:00, 70.6MB/s]\n",
            "Downloading...\n",
            "From: https://drive.google.com/uc?id=1N7O_fWCTJLu8SIa_paKcDEzllgpMk8sK\n",
            "To: /content/y_sm.pickle\n",
            "100% 15.4k/15.4k [00:00<00:00, 44.6MB/s]\n",
            "Downloading...\n",
            "From: https://drive.google.com/uc?id=12Bh2AN8LcZAlg20ehpQrEWccUDaSdsOG\n",
            "To: /content/y_test.pickle\n",
            "100% 9.49k/9.49k [00:00<00:00, 29.7MB/s]\n"
          ]
        }
      ],
      "source": [
        "!gdown 19L3rYatfhbBL1r5MHrv-p_oM2wlvrhqk\n",
        "!gdown 1OHLKJwA3qZopKPvlKoRldM6BvA1A4dYF\n",
        "!gdown 1N7O_fWCTJLu8SIa_paKcDEzllgpMk8sK\n",
        "!gdown 12Bh2AN8LcZAlg20ehpQrEWccUDaSdsOG"
      ]
    },
    {
      "cell_type": "code",
      "execution_count": null,
      "metadata": {
        "id": "lLOv-ppuaas8"
      },
      "outputs": [],
      "source": [
        "import pickle\n",
        "# Load data (deserialize)\n",
        "with open('preprocessed_X_sm.pickle', 'rb') as handle:\n",
        "    X_train = pickle.load(handle)\n",
        "\n",
        "with open('X_test.pickle', 'rb') as handle:\n",
        "    X_test = pickle.load(handle)\n",
        "\n",
        "with open('y_sm.pickle', 'rb') as handle:\n",
        "    y_train = pickle.load(handle)\n",
        "\n",
        "with open('y_test.pickle', 'rb') as handle:\n",
        "    y_test = pickle.load(handle)"
      ]
    },
    {
      "cell_type": "markdown",
      "source": [
        "<br>\n",
        "\n",
        "But before that\n",
        "- we need to know what are the hyperparams we need to tune"
      ],
      "metadata": {
        "id": "s77U_wsT_owX"
      }
    },
    {
      "cell_type": "markdown",
      "source": [
        "As we learnt that\n",
        "- there are M step in making the model\n",
        "- we need to control how many steps/iteration we want i.e. how many base learners we want\n",
        "\n",
        "As learners should be high bias low variance\n",
        "- we would have to experiment with depth of the tree\n",
        "- hence, it is again a hyperparam\n",
        "\n",
        "\n",
        "Boosting also gives us flexibility to choose the loss function\n",
        "- Hence, it is also an hyperparam.\n",
        "\n",
        "\n",
        "<br>\n",
        "\n",
        "Other than that,\n",
        "- there are hyperparam related to DT which we have already seen."
      ],
      "metadata": {
        "id": "iYtN44zOBZnm"
      }
    },
    {
      "cell_type": "markdown",
      "source": [
        ":Now, let's import the class from sklearn\n",
        "\n",
        "sklearn GBDT: https://scikit-learn.org/stable/modules/generated/sklearn.ensemble.GradientBoostingClassifier.html"
      ],
      "metadata": {
        "id": "rN4iERcqByv2"
      }
    },
    {
      "cell_type": "code",
      "source": [
        "from sklearn.ensemble import GradientBoostingClassifier"
      ],
      "metadata": {
        "id": "bVQrni4LYjek"
      },
      "execution_count": null,
      "outputs": []
    },
    {
      "cell_type": "code",
      "source": [
        "gbc = GradientBoostingClassifier(n_estimators=150, max_depth=2, loss = 'log_loss')"
      ],
      "metadata": {
        "id": "TQGz7aDOYjbs"
      },
      "execution_count": null,
      "outputs": []
    },
    {
      "cell_type": "code",
      "source": [
        "gbc.fit(X_train, y_train)"
      ],
      "metadata": {
        "colab": {
          "base_uri": "https://localhost:8080/",
          "height": 75
        },
        "id": "ZOtGMddYYjY8",
        "outputId": "e91c01ea-91d9-4778-9768-3f1b48ed1722"
      },
      "execution_count": null,
      "outputs": [
        {
          "output_type": "execute_result",
          "data": {
            "text/plain": [
              "GradientBoostingClassifier(max_depth=2, n_estimators=150)"
            ],
            "text/html": [
              "<style>#sk-container-id-1 {color: black;background-color: white;}#sk-container-id-1 pre{padding: 0;}#sk-container-id-1 div.sk-toggleable {background-color: white;}#sk-container-id-1 label.sk-toggleable__label {cursor: pointer;display: block;width: 100%;margin-bottom: 0;padding: 0.3em;box-sizing: border-box;text-align: center;}#sk-container-id-1 label.sk-toggleable__label-arrow:before {content: \"▸\";float: left;margin-right: 0.25em;color: #696969;}#sk-container-id-1 label.sk-toggleable__label-arrow:hover:before {color: black;}#sk-container-id-1 div.sk-estimator:hover label.sk-toggleable__label-arrow:before {color: black;}#sk-container-id-1 div.sk-toggleable__content {max-height: 0;max-width: 0;overflow: hidden;text-align: left;background-color: #f0f8ff;}#sk-container-id-1 div.sk-toggleable__content pre {margin: 0.2em;color: black;border-radius: 0.25em;background-color: #f0f8ff;}#sk-container-id-1 input.sk-toggleable__control:checked~div.sk-toggleable__content {max-height: 200px;max-width: 100%;overflow: auto;}#sk-container-id-1 input.sk-toggleable__control:checked~label.sk-toggleable__label-arrow:before {content: \"▾\";}#sk-container-id-1 div.sk-estimator input.sk-toggleable__control:checked~label.sk-toggleable__label {background-color: #d4ebff;}#sk-container-id-1 div.sk-label input.sk-toggleable__control:checked~label.sk-toggleable__label {background-color: #d4ebff;}#sk-container-id-1 input.sk-hidden--visually {border: 0;clip: rect(1px 1px 1px 1px);clip: rect(1px, 1px, 1px, 1px);height: 1px;margin: -1px;overflow: hidden;padding: 0;position: absolute;width: 1px;}#sk-container-id-1 div.sk-estimator {font-family: monospace;background-color: #f0f8ff;border: 1px dotted black;border-radius: 0.25em;box-sizing: border-box;margin-bottom: 0.5em;}#sk-container-id-1 div.sk-estimator:hover {background-color: #d4ebff;}#sk-container-id-1 div.sk-parallel-item::after {content: \"\";width: 100%;border-bottom: 1px solid gray;flex-grow: 1;}#sk-container-id-1 div.sk-label:hover label.sk-toggleable__label {background-color: #d4ebff;}#sk-container-id-1 div.sk-serial::before {content: \"\";position: absolute;border-left: 1px solid gray;box-sizing: border-box;top: 0;bottom: 0;left: 50%;z-index: 0;}#sk-container-id-1 div.sk-serial {display: flex;flex-direction: column;align-items: center;background-color: white;padding-right: 0.2em;padding-left: 0.2em;position: relative;}#sk-container-id-1 div.sk-item {position: relative;z-index: 1;}#sk-container-id-1 div.sk-parallel {display: flex;align-items: stretch;justify-content: center;background-color: white;position: relative;}#sk-container-id-1 div.sk-item::before, #sk-container-id-1 div.sk-parallel-item::before {content: \"\";position: absolute;border-left: 1px solid gray;box-sizing: border-box;top: 0;bottom: 0;left: 50%;z-index: -1;}#sk-container-id-1 div.sk-parallel-item {display: flex;flex-direction: column;z-index: 1;position: relative;background-color: white;}#sk-container-id-1 div.sk-parallel-item:first-child::after {align-self: flex-end;width: 50%;}#sk-container-id-1 div.sk-parallel-item:last-child::after {align-self: flex-start;width: 50%;}#sk-container-id-1 div.sk-parallel-item:only-child::after {width: 0;}#sk-container-id-1 div.sk-dashed-wrapped {border: 1px dashed gray;margin: 0 0.4em 0.5em 0.4em;box-sizing: border-box;padding-bottom: 0.4em;background-color: white;}#sk-container-id-1 div.sk-label label {font-family: monospace;font-weight: bold;display: inline-block;line-height: 1.2em;}#sk-container-id-1 div.sk-label-container {text-align: center;}#sk-container-id-1 div.sk-container {/* jupyter's `normalize.less` sets `[hidden] { display: none; }` but bootstrap.min.css set `[hidden] { display: none !important; }` so we also need the `!important` here to be able to override the default hidden behavior on the sphinx rendered scikit-learn.org. See: https://github.com/scikit-learn/scikit-learn/issues/21755 */display: inline-block !important;position: relative;}#sk-container-id-1 div.sk-text-repr-fallback {display: none;}</style><div id=\"sk-container-id-1\" class=\"sk-top-container\"><div class=\"sk-text-repr-fallback\"><pre>GradientBoostingClassifier(max_depth=2, n_estimators=150)</pre><b>In a Jupyter environment, please rerun this cell to show the HTML representation or trust the notebook. <br />On GitHub, the HTML representation is unable to render, please try loading this page with nbviewer.org.</b></div><div class=\"sk-container\" hidden><div class=\"sk-item\"><div class=\"sk-estimator sk-toggleable\"><input class=\"sk-toggleable__control sk-hidden--visually\" id=\"sk-estimator-id-1\" type=\"checkbox\" checked><label for=\"sk-estimator-id-1\" class=\"sk-toggleable__label sk-toggleable__label-arrow\">GradientBoostingClassifier</label><div class=\"sk-toggleable__content\"><pre>GradientBoostingClassifier(max_depth=2, n_estimators=150)</pre></div></div></div></div></div>"
            ]
          },
          "metadata": {},
          "execution_count": 5
        }
      ]
    },
    {
      "cell_type": "code",
      "source": [
        "gbc.score(X_test, y_test)"
      ],
      "metadata": {
        "colab": {
          "base_uri": "https://localhost:8080/"
        },
        "id": "NUd-PfoYYjWh",
        "outputId": "32d47c6e-02d2-4368-cd12-7c370cab8ac4"
      },
      "execution_count": null,
      "outputs": [
        {
          "output_type": "execute_result",
          "data": {
            "text/plain": [
              "0.8804347826086957"
            ]
          },
          "metadata": {},
          "execution_count": 6
        }
      ]
    },
    {
      "cell_type": "code",
      "source": [
        "gbc.score(X_train, y_train)"
      ],
      "metadata": {
        "colab": {
          "base_uri": "https://localhost:8080/"
        },
        "id": "LUDBHomkZpQA",
        "outputId": "68000f97-6ca2-4d64-86ac-02f81fc66beb"
      },
      "execution_count": null,
      "outputs": [
        {
          "output_type": "execute_result",
          "data": {
            "text/plain": [
              "0.948051948051948"
            ]
          },
          "metadata": {},
          "execution_count": 7
        }
      ]
    },
    {
      "cell_type": "markdown",
      "source": [
        "Model is slightly overfitting.\n",
        "\n",
        "\n",
        "Do Note that:\n",
        "- It is very easy to overfit the boosting model\n",
        "- So, we have to careful while tuning it.\n",
        "\n",
        "We'll see in next lecture how to regularize GBDT\n",
        "\n"
      ],
      "metadata": {
        "id": "xtois1VaCRiS"
      }
    }
  ]
}