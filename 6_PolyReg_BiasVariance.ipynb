{
  "cells": [
    {
      "cell_type": "markdown",
      "metadata": {
        "id": "view-in-github",
        "colab_type": "text"
      },
      "source": [
        "<a href=\"https://colab.research.google.com/github/tripathiosho/ImportantNotebooks/blob/main/6_PolyReg_BiasVariance.ipynb\" target=\"_parent\"><img src=\"https://colab.research.google.com/assets/colab-badge.svg\" alt=\"Open In Colab\"/></a>"
      ]
    },
    {
      "cell_type": "markdown",
      "metadata": {
        "id": "YYzPEyFJiEnz"
      },
      "source": [
        "## Content\n",
        "\n",
        "  - **Batch Gradient**\n",
        "\n",
        "  - **SGD/MiniBatch**\n",
        "    - Understanding Mini-Batch GD\n",
        "\n",
        "\n",
        "  - **MiniBatch Code- PostRead**\n",
        "\n",
        "  - **Polynomial Regression**\n",
        "\n",
        "  - **Polynomial Regression Code**\n",
        "\n",
        "  - **Underfit Overfit Tradeoff**\n",
        "    - Geometric Intuition\n",
        "    - Mathematical Intuition\n",
        "   \n",
        "    - Relating with Bias Variance\n",
        "   - **Underfit Overfit Code**\n",
        "\n",
        "\n",
        "  - **Generalization and Occam's Razor**\n",
        "  \n",
        "  - **Generalization and Occam's Razor Code**\n"
      ]
    },
    {
      "cell_type": "markdown",
      "metadata": {
        "id": "nI5xL07eiOj_"
      },
      "source": [
        "#**Batch Gradient**\n",
        "\n",
        "\n"
      ]
    },
    {
      "cell_type": "markdown",
      "metadata": {
        "id": "T67XaCCIXyMf"
      },
      "source": [
        "## **Lets see if you remember GD properly**"
      ]
    },
    {
      "cell_type": "markdown",
      "source": [
        "#### How did we compute gradient descent in Linear Regression ?\n",
        "\n"
      ],
      "metadata": {
        "id": "2Ay62NsckjQ3"
      }
    },
    {
      "cell_type": "markdown",
      "source": [
        "Recall when computing the gradient descent, the weights are updated as:\n"
      ],
      "metadata": {
        "id": "ABgi1-1SldeB"
      }
    },
    {
      "cell_type": "markdown",
      "source": [
        "<center><img src='https://d2beiqkhq929f0.cloudfront.net/public_assets/assets/000/061/771/original/z.png?1705227694' width=800></center>"
      ],
      "metadata": {
        "id": "LDKg_bjxlOlM"
      }
    },
    {
      "cell_type": "markdown",
      "metadata": {
        "id": "f92sBkRN8PJH"
      },
      "source": [
        "\n",
        "\n",
        "#### What can be the potential problem while doing Gradient Descent ?\n",
        "\n",
        "\n",
        "\n"
      ]
    },
    {
      "cell_type": "markdown",
      "source": [
        "<center><img src='https://d2beiqkhq929f0.cloudfront.net/public_assets/assets/000/061/772/original/z.png?1705227727' width=800></center>"
      ],
      "metadata": {
        "id": "vqCPi3PUmB-w"
      }
    },
    {
      "cell_type": "markdown",
      "source": [
        "<center><img src='https://d2beiqkhq929f0.cloudfront.net/public_assets/assets/000/061/773/original/z.png?1705227759' width=800></center>"
      ],
      "metadata": {
        "id": "z_OlAG7NmmwM"
      }
    },
    {
      "cell_type": "markdown",
      "metadata": {
        "id": "fStlJcceANoQ"
      },
      "source": [
        "##**SGD/Mini Batch**##\n"
      ]
    },
    {
      "cell_type": "markdown",
      "metadata": {
        "id": "unOqvL_S_75O"
      },
      "source": [
        "#### How to reduce the time taken by Batch Gradient ?\n",
        "\n",
        "\n",
        "\n",
        "\n",
        "\n"
      ]
    },
    {
      "cell_type": "markdown",
      "source": [
        "<center><img src='https://d2beiqkhq929f0.cloudfront.net/public_assets/assets/000/061/774/original/z.png?1705227917' width=800></center>"
      ],
      "metadata": {
        "id": "WiIL-_1VoiWQ"
      }
    },
    {
      "cell_type": "markdown",
      "metadata": {
        "id": "sg1p8MIzBQ_N"
      },
      "source": [
        "\n",
        "#### What can be the possible values of Batch size ($k$) ?\n",
        "\n",
        "\n",
        "\n",
        "\n",
        "\n",
        "\n",
        "\n",
        "\n",
        "\n"
      ]
    },
    {
      "cell_type": "markdown",
      "source": [
        "<center><img src='https://d2beiqkhq929f0.cloudfront.net/public_assets/assets/000/061/775/original/z.png?1705227945' width=800></center>"
      ],
      "metadata": {
        "id": "10vS_6pUo_f6"
      }
    },
    {
      "cell_type": "markdown",
      "metadata": {
        "id": "v1uJTVusDWYf"
      },
      "source": [
        "## **Understanding Mini-Batch GD**"
      ]
    },
    {
      "cell_type": "markdown",
      "source": [
        "<center><img src='https://d2beiqkhq929f0.cloudfront.net/public_assets/assets/000/061/776/original/z.png?1705227978' width=800></center>\n",
        "\n"
      ],
      "metadata": {
        "id": "CeDM92uaptOa"
      }
    },
    {
      "cell_type": "markdown",
      "source": [
        "\n",
        "<center><img src='https://d2beiqkhq929f0.cloudfront.net/public_assets/assets/000/061/778/original/z.png?1705228014' width=800></center>\n",
        "\n",
        "\n",
        "\n",
        "\n",
        "\n"
      ],
      "metadata": {
        "id": "sKyGxkUNpynz"
      }
    },
    {
      "cell_type": "markdown",
      "source": [
        "<center><img src='https://d2beiqkhq929f0.cloudfront.net/public_assets/assets/000/061/779/original/z.png?1705228042' width=800></center>"
      ],
      "metadata": {
        "id": "srGlqu23p3st"
      }
    },
    {
      "cell_type": "markdown",
      "source": [
        "\n",
        "#### Will the gradient value be accurate for mini batch with k = 256 ?"
      ],
      "metadata": {
        "id": "zb9lN1uk32Lr"
      }
    },
    {
      "cell_type": "markdown",
      "source": [
        "<center><img src='https://d2beiqkhq929f0.cloudfront.net/public_assets/assets/000/061/780/original/z.png?1705228074' width=800></center>\n",
        "\n",
        "\n"
      ],
      "metadata": {
        "id": "hv0Uft2XqkQr"
      }
    },
    {
      "cell_type": "markdown",
      "source": [
        "<center><img src='https://d2beiqkhq929f0.cloudfront.net/public_assets/assets/000/061/781/original/z.png?1705228104' width=800></center>"
      ],
      "metadata": {
        "id": "I4nJ42x2CTjK"
      }
    },
    {
      "cell_type": "markdown",
      "source": [
        "\n",
        "\n",
        "#### How is Mini-Batch effective over Batch Gradient ? (optional)\n",
        "\n",
        "\n",
        "\n",
        "\n",
        "\n"
      ],
      "metadata": {
        "id": "EYe6Zc5L3-iK"
      }
    },
    {
      "cell_type": "markdown",
      "source": [
        "<center><img src='https://d2beiqkhq929f0.cloudfront.net/public_assets/assets/000/061/782/original/z.png?1705228154' width=800></center>"
      ],
      "metadata": {
        "id": "WJT1Wp-BCe8Q"
      }
    },
    {
      "cell_type": "markdown",
      "source": [
        "**Observe:**\n",
        "We already have seen in Gradient Descent that:\n",
        "- **Vectorization is computed faster than iterating over n samples**\n",
        "\n",
        "- **Hence, Mini-Batch GD is just a vectorization of Batch Gradient**\n",
        " - As we divide the data into chunks in order to quickly find gradients\n"
      ],
      "metadata": {
        "id": "DOUC_DRLuW8u"
      }
    },
    {
      "cell_type": "markdown",
      "metadata": {
        "id": "EK9HDOxbKZrA"
      },
      "source": [
        "#### How is Gradient Descent step progress in Mini-Batch, SGD and Batch GD ?\n",
        "\n"
      ]
    },
    {
      "cell_type": "markdown",
      "source": [
        "Lets understand the fluctuations in weight values with a contour plot of loss:"
      ],
      "metadata": {
        "id": "mqKylLI0td68"
      }
    },
    {
      "cell_type": "markdown",
      "source": [
        "<center><img src='https://d2beiqkhq929f0.cloudfront.net/public_assets/assets/000/061/783/original/z.png?1705228191' width=800></center>\n"
      ],
      "metadata": {
        "id": "6qFBMyqNtMiz"
      }
    },
    {
      "cell_type": "markdown",
      "source": [
        "<center><img src='https://d2beiqkhq929f0.cloudfront.net/public_assets/assets/000/061/784/original/z.png?1705228228' width=800></center>"
      ],
      "metadata": {
        "id": "giL6BbfFtBQd"
      }
    },
    {
      "cell_type": "markdown",
      "metadata": {
        "id": "P0uau7LkJrVn"
      },
      "source": [
        "\n",
        "\n",
        "**Observe**\n",
        "\n",
        "1. For **Batch Gradient descent**,\n",
        "- Since the entire data is taken for gradients,\n",
        "    - the weight reaches optimal value with **least number of fluctuations per iteration**\n",
        "\n",
        "- But due to taking **whole data per iteration**, the time to compute one GD step/iteration  is very high\n",
        "\n",
        "<br>\n",
        "\n",
        "2. For **Stochastic GD**,\n",
        "- Since only a single datapoint is used for  gradients, and these datapoints can be noises in the data\n",
        "- Hence, there  will be **the maximum number of fluctuations in the weight value**\n",
        "\n",
        "\n",
        "\n",
        "<br>\n",
        "\n",
        "3. Now when **Mini-Batch GD** is used:\n",
        "-  Since it vectorizes the data into chunks, **Mini-Batch GD reaches optimal weight value the fastest**\n",
        "- With a cose of **few fluctuations in the weight value**\n",
        "\n",
        "\n",
        "\n",
        "\n",
        "\n",
        "\n",
        "\n"
      ]
    },
    {
      "cell_type": "markdown",
      "metadata": {
        "id": "RnlT-SpiUR9o"
      },
      "source": [
        "## **Mini-Batch Gradient code** - (Post Read)\n",
        "\n",
        "PostRead- Link: https://colab.research.google.com/drive/1EXhY2Ax1lPp7cc03bHvwtc-UQ78t6iKI?usp=sharing"
      ]
    },
    {
      "cell_type": "markdown",
      "metadata": {
        "id": "mqXNWy0NNTmo"
      },
      "source": [
        "#**Polynomial Regression**"
      ]
    },
    {
      "cell_type": "markdown",
      "metadata": {
        "id": "cyZQVlcMUkBp"
      },
      "source": [
        "Lets consider another dummy data\n",
        "\n",
        "- Here, we have 50 datapoints\n",
        "- But now the data is non-linear in nature"
      ]
    },
    {
      "cell_type": "code",
      "execution_count": null,
      "metadata": {
        "id": "_RMxjn_zUkBq"
      },
      "outputs": [],
      "source": [
        "import numpy as np\n",
        "import matplotlib.pyplot as plt\n",
        "\n",
        "\n",
        "np.random.seed(1)\n",
        "X = np.random.rand(50,1)\n",
        "y = 0.7*(X**5) - \\\n",
        "    2.1*(X**4) + \\\n",
        "    2.7*(X**3) + \\\n",
        "    3.5*(X**2) + \\\n",
        "    0.3* X + \\\n",
        "    0.4*np.random.rand(50,1) # no data in world is perfect"
      ]
    },
    {
      "cell_type": "code",
      "execution_count": null,
      "metadata": {
        "colab": {
          "base_uri": "https://localhost:8080/",
          "height": 329
        },
        "id": "6FTrCpyIUkBq",
        "outputId": "234f212c-d367-4ff9-9af7-bdbeb57960e8"
      },
      "outputs": [
        {
          "output_type": "stream",
          "name": "stdout",
          "text": [
            "0.9345996128366808\n"
          ]
        },
        {
          "output_type": "display_data",
          "data": {
            "text/plain": [
              "<Figure size 500x300 with 1 Axes>"
            ],
            "image/png": "[encoded data removed]"
          },
          "metadata": {}
        }
      ],
      "source": [
        "\n",
        "from sklearn.linear_model import LinearRegression\n",
        "\n",
        "\n",
        "\n",
        "model = LinearRegression()\n",
        "model.fit(X, y)\n",
        "\n",
        "output = model.predict(X)\n",
        "\n",
        "print(model.score(X,y))\n",
        "\n",
        "fig = plt.figure(figsize=(5,3))\n",
        "plt.scatter(X, y, label=\"samples\")\n",
        "plt.plot(X, output, label=\"prediction\",color='orange')\n",
        "plt.xlabel(\"X\")\n",
        "plt.ylabel(\"Y\")\n",
        "plt.show()\n",
        "\n"
      ]
    },
    {
      "cell_type": "markdown",
      "source": [
        "**observe**\n",
        "\n",
        "As Linear Regression did not fit the data well\n",
        "\n",
        "- Concluding that **Linear Regression is not the most suitable model to be used**"
      ],
      "metadata": {
        "id": "tO7un0gwqxic"
      }
    },
    {
      "cell_type": "markdown",
      "source": [
        "## **Explaining Polynomial Regression theoretically**"
      ],
      "metadata": {
        "id": "hhZEkjdvTVYc"
      }
    },
    {
      "cell_type": "markdown",
      "metadata": {
        "id": "t8yFpsG6Sosq"
      },
      "source": [
        "#### How to make Linear Regression,  Quadratic ?\n",
        "\n",
        "By adding a new feature $f_2 = f_1^2$, such that:\n",
        "\n",
        "- $\\hat{y^{(i)}} = w_0 + w_1 f_1 + w_2 {f_1}^2$\n",
        "\n",
        "**Note:** Due to addition of a higher degree($>1$) for a feature,\n",
        "- we call this model as **Polynomial Regression**\n",
        "\n",
        "\n",
        "<br>\n",
        "\n",
        "#### Do we need a separate implementation for Polynomial Regression?\n",
        "\n",
        "Ans: No, we just need to add a new data column $f_2 = f_1^2$"
      ]
    },
    {
      "cell_type": "markdown",
      "source": [
        "<center><img src='https://d2beiqkhq929f0.cloudfront.net/public_assets/assets/000/061/788/original/z.png?1705228371' width=800></center>"
      ],
      "metadata": {
        "id": "n6-skCAOwVAI"
      }
    },
    {
      "cell_type": "markdown",
      "source": [
        "**observe**\n",
        "\n",
        "For the Polynomial Regression equation $\\hat{y^{(i)}} = w_0 + w_1f_1 + w_2 f_1^2$\n",
        "- it is still a linear combination of weights since the degree of weights are 1\n",
        "\n",
        "<br>\n",
        "\n",
        "**Concluding** that if we were to **plot the learnt hyperplane** of Polynomial Regression for $f_1$ and $f_2=f_1^2$\n",
        "- The hyperplane **will be linear**"
      ],
      "metadata": {
        "id": "FpyJmtic1cgg"
      }
    },
    {
      "cell_type": "markdown",
      "metadata": {
        "id": "tH0tteeagJar"
      },
      "source": [
        "#### Does using $f_2 = {f_1}^2$ causes MultiCollinearity ?\n",
        "\n",
        "\n"
      ]
    },
    {
      "cell_type": "markdown",
      "source": [
        "<center><img src='https://d2beiqkhq929f0.cloudfront.net/public_assets/assets/000/061/790/original/z.png?1705228432' width=800></center>"
      ],
      "metadata": {
        "id": "YfHShdsux_oL"
      }
    },
    {
      "cell_type": "markdown",
      "metadata": {
        "id": "rG3TLq-obaaq"
      },
      "source": [
        "# **Polynomial Regression Code**\n"
      ]
    },
    {
      "cell_type": "markdown",
      "metadata": {
        "id": "plvPZ_-6k7rQ"
      },
      "source": [
        "\n",
        " Creating polynomial reg with $X^2$ feature added\n"
      ]
    },
    {
      "cell_type": "code",
      "execution_count": null,
      "metadata": {
        "id": "9IQITqz8PsMq"
      },
      "outputs": [],
      "source": [
        "def adj_r(r_sq,X,Y):\n",
        "  adj_r1 = (1 - ((1-r_sq)*(len(Y)-1))/(len(Y)-X.shape[1]-1) )\n",
        "  return adj_r1"
      ]
    },
    {
      "cell_type": "code",
      "execution_count": null,
      "metadata": {
        "id": "N5u1oQD_99fy"
      },
      "outputs": [],
      "source": [
        "def r2_score(y,y_):\n",
        "    num = np.sum((y-y_)**2)\n",
        "    denom = np.sum((y- y.mean())**2)\n",
        "    score = (1- num/denom)\n",
        "    return score"
      ]
    },
    {
      "cell_type": "code",
      "execution_count": null,
      "metadata": {
        "colab": {
          "base_uri": "https://localhost:8080/",
          "height": 329
        },
        "id": "rRIAFXqolBzk",
        "outputId": "e62262e0-ecd3-4e0c-bd28-2b90fe4a24c3"
      },
      "outputs": [
        {
          "output_type": "stream",
          "name": "stdout",
          "text": [
            "Adj. R-square: 0.9947910474710182\n"
          ]
        },
        {
          "output_type": "display_data",
          "data": {
            "text/plain": [
              "<Figure size 500x300 with 1 Axes>"
            ],
            "image/png": "[encoded data removed]"
          },
          "metadata": {}
        }
      ],
      "source": [
        "#adding new feature X^2\n",
        "X_deg2 = np.hstack([X, X**2])\n",
        "model_deg2 = LinearRegression()\n",
        "model_deg2.fit(X_deg2, y)\n",
        "output = model_deg2.predict(X_deg2)\n",
        "\n",
        "\n",
        "print('Adj. R-square:', adj_r(r2_score(y,output),X,y ) )\n",
        "fig = plt.figure(figsize=(5,3))\n",
        "plt.scatter(X, y, label=\"samples\")\n",
        "plt.scatter(X, output, label=\"prediction\",color='orange')\n",
        "plt.xlabel(\"X\")\n",
        "plt.ylabel(\"Y\")\n",
        "plt.show()\n"
      ]
    },
    {
      "cell_type": "markdown",
      "metadata": {
        "id": "JrxhO15glG1r"
      },
      "source": [
        "**observe**\n",
        "- The performance of the model increased drastically\n",
        "- Meaning that a non-linear feature did the trick\n",
        "\n",
        "\n",
        "\n"
      ]
    },
    {
      "cell_type": "markdown",
      "metadata": {
        "id": "g1ZKOz1zmrgM"
      },
      "source": [
        "#### But are we sure that degree=2 will be best? What about higher degrees?"
      ]
    },
    {
      "cell_type": "code",
      "execution_count": null,
      "metadata": {
        "colab": {
          "base_uri": "https://localhost:8080/",
          "height": 699
        },
        "id": "mZkd0EV3mu5t",
        "outputId": "a6f6da1e-e609-4ac2-813d-ae0177f87448"
      },
      "outputs": [
        {
          "output_type": "display_data",
          "data": {
            "text/plain": [
              "<Figure size 1200x800 with 6 Axes>"
            ],
            "image/png": "[encoded data removed]"
          },
          "metadata": {}
        }
      ],
      "source": [
        "from sklearn.preprocessing import PolynomialFeatures\n",
        "from sklearn.preprocessing import StandardScaler\n",
        "\n",
        "scores = []\n",
        "# Using Degrees 1 to 6, and seeing performance of the model\n",
        "\n",
        "# Create a 2x3 grid of subplots\n",
        "fig, axes = plt.subplots(2, 3, figsize=(12, 8))\n",
        "j = 0\n",
        "for i in range(1, 7):\n",
        "\n",
        "    #creates polynomial feature\n",
        "    poly = PolynomialFeatures(i)\n",
        "\n",
        "    X_poly = poly.fit_transform(X)\n",
        "    #Standardization\n",
        "    scaler = StandardScaler()\n",
        "    scaler.fit(X_poly)\n",
        "    X_poly_scaled = scaler.transform(X_poly)\n",
        "\n",
        "    #training model\n",
        "    model = LinearRegression()\n",
        "    model.fit(X_poly_scaled, y)\n",
        "\n",
        "    #Prediction\n",
        "    output = model.predict(X_poly_scaled)\n",
        "\n",
        "    #Plotting\n",
        "\n",
        "    axes[j,(i-1)%3].scatter(X, y, label=\"samples\")\n",
        "    axes[j,(i-1)%3].scatter(X, output, label=\"prediction\")\n",
        "    axes[j,(i-1)%3].set_title(f'Degree{i} model Adj. R^2: {round(adj_r(r2_score(y,output),X_poly_scaled,y ),2)}')\n",
        "\n",
        "    if(i==3):\n",
        "      j=1"
      ]
    },
    {
      "cell_type": "markdown",
      "metadata": {
        "id": "-RZ5uMVLgcQ3"
      },
      "source": [
        "**Observe**:\n",
        "- As the degree of the feature being added increases, the model performance gets better\n",
        "\n",
        "<br>\n",
        "\n",
        "\n",
        "\n",
        "\n",
        "\n"
      ]
    },
    {
      "cell_type": "markdown",
      "metadata": {
        "id": "9DuiTGdPatGi"
      },
      "source": [
        "# **Underfitting and Overfitting**"
      ]
    },
    {
      "cell_type": "markdown",
      "source": [
        "## **Overfitting**"
      ],
      "metadata": {
        "id": "iRKiRpja8M5M"
      }
    },
    {
      "cell_type": "markdown",
      "source": [
        "#### Which model has the highest Adj R-squared ?\n",
        "\n",
        "Ans: Clearly, we see that Polynomial regression with degrees:\n",
        "- Degree 2,3,4,5,6 all have the highest Adj. R-squared value\n",
        "\n",
        "**This should mean**\n",
        "-  polynomial Regression with degree of 20, 40 should also perform well"
      ],
      "metadata": {
        "id": "Oy37WaEn7y0p"
      }
    },
    {
      "cell_type": "markdown",
      "source": [
        "#### What could be the potential problem with very high degree models ?\n",
        "\n",
        "Ans: high degree models become  very complex:\n",
        "- is that they may **learn noise besides meaningful patterns**\n",
        "\n",
        "<br>\n",
        "\n",
        "#### Do you remember what matters in ML the most ?\n",
        "Ans: The ML model must generalise the data, but for Higher degree polynomial\n",
        "\n",
        "- the model may learn every pattern in training data (including noise) which will improve training performance"
      ],
      "metadata": {
        "id": "hCI3JGHe8JnB"
      }
    },
    {
      "cell_type": "markdown",
      "source": [
        "<center><img src='https://d2beiqkhq929f0.cloudfront.net/public_assets/assets/000/061/806/original/z.png?1705228921' width=800></center>"
      ],
      "metadata": {
        "id": "DudOAhOM9Gt2"
      }
    },
    {
      "cell_type": "markdown",
      "source": [
        "- But this learning may impact general training\n",
        "- and  cause the model to not perform well on testing data\n",
        "\n",
        "**Note:** This is called as **Overfitting** --> typically when **training performance is really good but testing performance is bad.**"
      ],
      "metadata": {
        "id": "SB_c48wd9Ihf"
      }
    },
    {
      "cell_type": "markdown",
      "source": [
        "## **underfitting**"
      ],
      "metadata": {
        "id": "dYZ01LqO-gvz"
      }
    },
    {
      "cell_type": "markdown",
      "source": [
        "Recall the case of **applying degree=1 on our data**,\n",
        "- model isnt even capable of learning the meaningful patterns\n",
        "- Forget performing good on testing data"
      ],
      "metadata": {
        "id": "f-1EZpLM_O5j"
      }
    },
    {
      "cell_type": "markdown",
      "source": [
        "<center><img src='https://d2beiqkhq929f0.cloudfront.net/public_assets/assets/000/061/805/original/z.png?1705228886' width=800></center>"
      ],
      "metadata": {
        "id": "pmBwl5VA_McA"
      }
    },
    {
      "cell_type": "markdown",
      "source": [
        "\n",
        "\n",
        "this low complexity model may not even be able to learn the patterns of training data\n",
        "\n",
        "<br>\n",
        "\n",
        "**Note:** This is called as **Underfitting** --> typically when **both training and testing performance is bad**"
      ],
      "metadata": {
        "id": "Iaps6ytx-aEK"
      }
    },
    {
      "cell_type": "markdown",
      "source": [
        "## Summary:"
      ],
      "metadata": {
        "id": "M7QtvOfB-4QS"
      }
    },
    {
      "cell_type": "markdown",
      "source": [
        "<center><img src='https://d2beiqkhq929f0.cloudfront.net/public_assets/assets/000/061/808/original/z.png?1705228974' width=800></center>\n"
      ],
      "metadata": {
        "id": "HagX2tJQh4gm"
      }
    },
    {
      "cell_type": "markdown",
      "metadata": {
        "id": "1A3x-_uxk9xr"
      },
      "source": [
        "# **Occam's Razor**"
      ]
    },
    {
      "cell_type": "markdown",
      "source": [
        "\n",
        "#### Why do we pefer model with Degree=2 ?\n"
      ],
      "metadata": {
        "id": "7j0sG_E5_ij-"
      }
    },
    {
      "cell_type": "markdown",
      "source": [
        "<center><img src='https://d2beiqkhq929f0.cloudfront.net/public_assets/assets/000/061/810/original/z.png?1705229028' width=800></center>"
      ],
      "metadata": {
        "id": "Reldrmt2i52z"
      }
    },
    {
      "cell_type": "markdown",
      "source": [
        "Ans: Due to a **principle in Psychology called Occum's Razor** which says -\n",
        "\n",
        "- **choose simplicity**,, hence we will hence choose degree=2"
      ],
      "metadata": {
        "id": "B3z1shQJAieM"
      }
    },
    {
      "cell_type": "markdown",
      "source": [
        "## **Underfitting Overfitting Code**"
      ],
      "metadata": {
        "id": "QltogDjfaoCc"
      }
    },
    {
      "cell_type": "markdown",
      "metadata": {
        "id": "S1xDiVBztR58"
      },
      "source": [
        "Lets perform the implementation for Linear Regression\n",
        "- With degree $\\in [1,34]$ , and plot the train and test performance"
      ]
    },
    {
      "cell_type": "code",
      "execution_count": null,
      "metadata": {
        "colab": {
          "base_uri": "https://localhost:8080/",
          "height": 311
        },
        "id": "9lBL0NA7VlOD",
        "outputId": "64c625b5-35d4-4310-8117-f80e6f88b35e"
      },
      "outputs": [
        {
          "output_type": "display_data",
          "data": {
            "text/plain": [
              "<Figure size 500x300 with 1 Axes>"
            ],
            "image/png": "[encoded data removed]"
          },
          "metadata": {}
        }
      ],
      "source": [
        "# lets first generate a dataset of 100 points this time\n",
        "import numpy as np\n",
        "import matplotlib.pyplot as plt\n",
        "\n",
        "np.random.seed(1)\n",
        "X = np.random.rand(100,1)\n",
        "y = 0.7*(X**5) - \\\n",
        "    2.1*(X**4) + \\\n",
        "    2.7*(X**3) + \\\n",
        "    3.5*(X**2) + \\\n",
        "    0.3* X + \\\n",
        "    0.4*np.random.rand(100,1)\n",
        "\n",
        "fig = plt.figure(figsize=(5,3))\n",
        "plt.scatter(X, y)\n",
        "plt.xlabel(\"X\")\n",
        "plt.ylabel(\"Y\")\n",
        "plt.show()\n",
        "\n",
        "\n",
        "from sklearn.model_selection import train_test_split\n",
        "X_train, X_test, y_train, y_test = train_test_split(X, y, test_size=0.2, random_state=1)"
      ]
    },
    {
      "cell_type": "code",
      "source": [
        "def adj_r(r_sq,X,Y):\n",
        "  adj_r1 = (1 - ((1-r_sq)*(len(Y)-1))/(len(Y)-X.shape[1]-1) )\n",
        "  return adj_r1"
      ],
      "metadata": {
        "id": "IZiDeE23bwTb"
      },
      "execution_count": null,
      "outputs": []
    },
    {
      "cell_type": "code",
      "execution_count": null,
      "metadata": {
        "id": "cfegifyRP1Hf"
      },
      "outputs": [],
      "source": [
        "from sklearn.preprocessing import PolynomialFeatures\n",
        "from sklearn.preprocessing import StandardScaler\n",
        "from sklearn.linear_model import LinearRegression\n",
        "from sklearn.pipeline import make_pipeline\n",
        "from sklearn.metrics import mean_squared_error\n",
        "\n",
        "degrees = 100 # number of data-points\n",
        "train_scores = []\n",
        "test_scores = []\n",
        "\n",
        "train_loss = []\n",
        "test_loss = []\n",
        "\n",
        "scaler = StandardScaler()\n",
        "\n",
        "for degree in range(1, degrees):\n",
        "\n",
        "    polyreg_scaled = make_pipeline(PolynomialFeatures(degree), scaler, LinearRegression())\n",
        "    polyreg_scaled.fit(X_train, y_train)\n",
        "\n",
        "    train_score = polyreg_scaled.score(X_train, y_train)\n",
        "    test_score = polyreg_scaled.score(X_test, y_test)\n",
        "\n",
        "    train_scores.append(adj_r(train_score,X_train,y_train))\n",
        "    test_scores.append(adj_r(test_score,X_test,y_test))\n",
        "\n",
        "    output1 = polyreg_scaled.predict(X_train)\n",
        "    output2 = polyreg_scaled.predict(X_test)\n",
        "\n",
        "    train_loss.append(mean_squared_error(y_train,output1))\n",
        "    test_loss.append(mean_squared_error(y_test,output2))\n"
      ]
    },
    {
      "cell_type": "code",
      "execution_count": null,
      "metadata": {
        "colab": {
          "base_uri": "https://localhost:8080/",
          "height": 308
        },
        "id": "9OgwdtZyP2S9",
        "outputId": "e82635e3-6a70-4032-f785-1aed7099f73a"
      },
      "outputs": [
        {
          "output_type": "display_data",
          "data": {
            "text/plain": [
              "<Figure size 1200x300 with 2 Axes>"
            ],
            "image/png": "[encoded data removed]"
          },
          "metadata": {}
        }
      ],
      "source": [
        "fig, axes = plt.subplots(1, 2, figsize=(12, 3))\n",
        "axes[0].plot(list(range(1, 100)), train_scores, label=\"train\")\n",
        "axes[0].plot(list(range(1, 100)), test_scores, label=\"test\")\n",
        "axes[0].legend(loc='lower right')\n",
        "axes[0].set_xlabel(\"degree\")\n",
        "axes[0].set_ylabel(\"Adj.R-score\")\n",
        "\n",
        "axes[1].plot(list(range(1, 100)), train_loss, label=\"train\")\n",
        "axes[1].plot(list(range(1, 100)), test_loss, label=\"test\")\n",
        "axes[1].legend(loc='upper left')\n",
        "axes[1].set_xlabel(\"degree\")\n",
        "axes[1].set_ylabel(\"MSE\")\n",
        "\n",
        "plt.show()"
      ]
    },
    {
      "cell_type": "markdown",
      "metadata": {
        "id": "fLA7vCUZweWH"
      },
      "source": [
        "**observe**\n",
        "\n",
        "As we go in higher Degree, the model test performance drop significantly\n",
        "- Which clearly indicates Overfitting\n",
        "\n",
        "While in the lower Degree, the model test and train perfromance is very low\n",
        "- Which shows Underfitting"
      ]
    },
    {
      "cell_type": "markdown",
      "metadata": {
        "id": "HvTpr_W1ZMjk"
      },
      "source": [
        "# **Bias-Variance Tradeoff**"
      ]
    },
    {
      "cell_type": "markdown",
      "source": [
        "<center><img src='https://d2beiqkhq929f0.cloudfront.net/public_assets/assets/000/061/818/original/z.png?1705229323' width=800></center>\n"
      ],
      "metadata": {
        "id": "4IgUhJuNrz1m"
      }
    },
    {
      "cell_type": "markdown",
      "source": [
        "\n",
        "<center><img src='https://d2beiqkhq929f0.cloudfront.net/public_assets/assets/000/061/819/original/z.png?1705229348' width=800></center>\n"
      ],
      "metadata": {
        "id": "FgcnsDQqsQLD"
      }
    },
    {
      "cell_type": "markdown",
      "source": [
        "\n",
        "<center><img src='https://d2beiqkhq929f0.cloudfront.net/public_assets/assets/000/061/820/original/z.png?1705229380' width=800></center>\n"
      ],
      "metadata": {
        "id": "uT6iPVvBsZbl"
      }
    },
    {
      "cell_type": "markdown",
      "source": [
        "\n",
        "<center><img src='https://d2beiqkhq929f0.cloudfront.net/public_assets/assets/000/061/821/original/z.png?1705229408' width=800></center>\n",
        "\n"
      ],
      "metadata": {
        "id": "wZPsOsnasevc"
      }
    },
    {
      "cell_type": "markdown",
      "source": [
        "<center><img src='https://d2beiqkhq929f0.cloudfront.net/public_assets/assets/000/061/822/original/z.png?1705229434' width=800></center>"
      ],
      "metadata": {
        "id": "n1NvArS2siyQ"
      }
    },
    {
      "cell_type": "markdown",
      "source": [
        "#### So, ideally what should the model have ?\n",
        "\n",
        "Ans: **low bias and low variance**"
      ],
      "metadata": {
        "id": "TgEr8-Qpv6jL"
      }
    },
    {
      "cell_type": "markdown",
      "source": [
        "\n",
        "<center><img src='https://d2beiqkhq929f0.cloudfront.net/public_assets/assets/000/043/111/original/Screenshot_2023-08-16_at_6.40.16_PM.png?1692191426' width=800></center>"
      ],
      "metadata": {
        "id": "DcICOanatGyK"
      }
    },
    {
      "cell_type": "markdown",
      "source": [
        "As the model is hitting mostly on our target (bullseye)\n",
        "- We say, the model has low bias\n",
        "\n",
        "And since model is having a steady aim (consistent in its predictions for aiming)\n",
        "- We say, the model has low variance  "
      ],
      "metadata": {
        "id": "NW7mEzI6tP-6"
      }
    },
    {
      "cell_type": "markdown",
      "source": [
        "## **Relating Bias-Variance and Overfit-Underfit**"
      ],
      "metadata": {
        "id": "ijvif0ak2wMM"
      }
    },
    {
      "cell_type": "markdown",
      "source": [
        "#### What do you think will bias and variance for under-fitted model?Will the predictions be mostly off/bad?\n",
        "\n",
        "Ans: Yes, because model **unable to understand the patterns --> HIGH BIAS**\n",
        "\n",
        "\n",
        "<br>\n",
        "\n",
        "\n",
        "#### Will the predictions vary a lot with a slight change in the feature values of the samples ?\n",
        "\n",
        "Ans:  NO, **its a simple model --> LOW VARIANCE**"
      ],
      "metadata": {
        "id": "HFuNjqrnewFk"
      }
    },
    {
      "cell_type": "markdown",
      "source": [
        "<center><img src='https://d2beiqkhq929f0.cloudfront.net/public_assets/assets/000/061/823/original/z.png?1705229483' width=800></center>"
      ],
      "metadata": {
        "id": "WpO2VsLJujz3"
      }
    },
    {
      "cell_type": "markdown",
      "source": [
        "#### What do you think about the  bias and variance for over-fitted model? Will the predictions be mostly off/bad?\n",
        "\n",
        "Ans: **Not always, it will be bad for the cases which are different from training samples** --> **LOW BIAS**\n",
        "\n",
        "<br>\n",
        "\n",
        "#### Will the predictions vary a lot with a slight change in the feature values of the samples ?\n",
        "\n",
        "Ans: YES, since **the model hypothesis is very complex --> HIGH VARIANCE**\n",
        "\n"
      ],
      "metadata": {
        "id": "84x_hplsfT_K"
      }
    }
  ],
  "metadata": {
    "colab": {
      "provenance": [],
      "collapsed_sections": [
        "RnlT-SpiUR9o"
      ],
      "toc_visible": true,
      "include_colab_link": true
    },
    "kernelspec": {
      "display_name": "Python 3",
      "name": "python3"
    },
    "language_info": {
      "name": "python"
    }
  },
  "nbformat": 4,
  "nbformat_minor": 0
}