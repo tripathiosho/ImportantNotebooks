{
  "nbformat": 4,
  "nbformat_minor": 0,
  "metadata": {
    "colab": {
      "provenance": [],
      "toc_visible": true,
      "include_colab_link": true
    },
    "kernelspec": {
      "name": "python3",
      "display_name": "Python 3"
    },
    "language_info": {
      "name": "python"
    }
  },
  "cells": [
    {
      "cell_type": "markdown",
      "metadata": {
        "id": "view-in-github",
        "colab_type": "text"
      },
      "source": [
        "<a href=\"https://colab.research.google.com/github/tripathiosho/ImportantNotebooks/blob/main/10_Classification_Metrics_1_Notes.ipynb\" target=\"_parent\"><img src=\"https://colab.research.google.com/assets/colab-badge.svg\" alt=\"Open In Colab\"/></a>"
      ]
    },
    {
      "cell_type": "markdown",
      "metadata": {
        "id": "iYrW2pMA-OyG"
      },
      "source": [
        "## Content\n",
        "\n",
        "- **Spam vs Non-Spam: Business Case**  \n",
        "\n",
        "\n",
        "- **issue with Accuracy**  \n",
        "\n",
        "\n",
        "- **Confusion Matrix (CM)**  \n",
        "\n",
        "\n",
        "- **Confusion Matrix Code**  \n",
        "\n",
        "\n",
        "- **Precision**  \n",
        "    - **precision code**  \n",
        "\n",
        "\n",
        "- **Recall**  \n",
        "    - **Recall code**  \n",
        "\n",
        "\n",
        "\n",
        "\n"
      ]
    },
    {
      "cell_type": "markdown",
      "source": [
        "\n",
        "\n",
        "<center><img src='https://d2beiqkhq929f0.cloudfront.net/public_assets/assets/000/085/721/original/download.png?1723456062' width=800></center>\n",
        "\n"
      ],
      "metadata": {
        "id": "z6ePb7hNww0K"
      }
    },
    {
      "cell_type": "markdown",
      "metadata": {
        "id": "LR0TkcWhAUTl"
      },
      "source": [
        "## Spam vs Non-Spam: Business Case\n",
        "\n",
        "\n",
        "\n",
        "\n"
      ]
    },
    {
      "cell_type": "markdown",
      "source": [
        "<center><img src='https://d2beiqkhq929f0.cloudfront.net/public_assets/assets/000/061/884/original/z.png?1705232975' width=800></center>"
      ],
      "metadata": {
        "id": "QTP-EtRoxS6H"
      }
    },
    {
      "cell_type": "markdown",
      "metadata": {
        "id": "0kCNapNpXsSS"
      },
      "source": [
        "Lets Load the data"
      ]
    },
    {
      "cell_type": "code",
      "execution_count": null,
      "metadata": {
        "id": "4cGr2k8dWm-P"
      },
      "outputs": [],
      "source": [
        "import pandas as pd\n",
        "import numpy as np\n",
        "import matplotlib.pyplot as plt"
      ]
    },
    {
      "cell_type": "code",
      "source": [
        "!gdown 1CgBW5H54YfdYtJmYE5GWctaHZSpFt71V"
      ],
      "metadata": {
        "colab": {
          "base_uri": "https://localhost:8080/"
        },
        "id": "l0mF8_xxKiYQ",
        "outputId": "bbbf70a0-5963-4ab5-9149-d674165ffa97"
      },
      "execution_count": null,
      "outputs": [
        {
          "output_type": "stream",
          "name": "stdout",
          "text": [
            "Downloading...\n",
            "From: https://drive.google.com/uc?id=1CgBW5H54YfdYtJmYE5GWctaHZSpFt71V\n",
            "To: /content/spam_ham_dataset.csv\n",
            "\r  0% 0.00/5.50M [00:00<?, ?B/s]\r100% 5.50M/5.50M [00:00<00:00, 228MB/s]\n"
          ]
        }
      ]
    },
    {
      "cell_type": "code",
      "source": [
        "demo1 = pd.read_csv('spam_ham_dataset.csv')\n",
        "demo1.drop(['Unnamed: 0','label'],axis=1,inplace=True)\n",
        "demo1.head()"
      ],
      "metadata": {
        "colab": {
          "base_uri": "https://localhost:8080/",
          "height": 206
        },
        "id": "86rUr5nWKiPV",
        "outputId": "918d1b4d-cc84-462b-c9f5-0039800c4c98"
      },
      "execution_count": null,
      "outputs": [
        {
          "output_type": "execute_result",
          "data": {
            "text/plain": [
              "                                                text  label_num\n",
              "0  Subject: enron methanol ; meter # : 988291\\r\\n...          0\n",
              "1  Subject: hpl nom for january 9 , 2001\\r\\n( see...          0\n",
              "2  Subject: neon retreat\\r\\nho ho ho , we ' re ar...          0\n",
              "3  Subject: photoshop , windows , office . cheap ...          1\n",
              "4  Subject: re : indian springs\\r\\nthis deal is t...          0"
            ],
            "text/html": [
              "\n",
              "  <div id=\"df-c3e44595-7319-4895-b35f-45284b3652d9\" class=\"colab-df-container\">\n",
              "    <div>\n",
              "<style scoped>\n",
              "    .dataframe tbody tr th:only-of-type {\n",
              "        vertical-align: middle;\n",
              "    }\n",
              "\n",
              "    .dataframe tbody tr th {\n",
              "        vertical-align: top;\n",
              "    }\n",
              "\n",
              "    .dataframe thead th {\n",
              "        text-align: right;\n",
              "    }\n",
              "</style>\n",
              "<table border=\"1\" class=\"dataframe\">\n",
              "  <thead>\n",
              "    <tr style=\"text-align: right;\">\n",
              "      <th></th>\n",
              "      <th>text</th>\n",
              "      <th>label_num</th>\n",
              "    </tr>\n",
              "  </thead>\n",
              "  <tbody>\n",
              "    <tr>\n",
              "      <th>0</th>\n",
              "      <td>Subject: enron methanol ; meter # : 988291\\r\\n...</td>\n",
              "      <td>0</td>\n",
              "    </tr>\n",
              "    <tr>\n",
              "      <th>1</th>\n",
              "      <td>Subject: hpl nom for january 9 , 2001\\r\\n( see...</td>\n",
              "      <td>0</td>\n",
              "    </tr>\n",
              "    <tr>\n",
              "      <th>2</th>\n",
              "      <td>Subject: neon retreat\\r\\nho ho ho , we ' re ar...</td>\n",
              "      <td>0</td>\n",
              "    </tr>\n",
              "    <tr>\n",
              "      <th>3</th>\n",
              "      <td>Subject: photoshop , windows , office . cheap ...</td>\n",
              "      <td>1</td>\n",
              "    </tr>\n",
              "    <tr>\n",
              "      <th>4</th>\n",
              "      <td>Subject: re : indian springs\\r\\nthis deal is t...</td>\n",
              "      <td>0</td>\n",
              "    </tr>\n",
              "  </tbody>\n",
              "</table>\n",
              "</div>\n",
              "    <div class=\"colab-df-buttons\">\n",
              "\n",
              "  <div class=\"colab-df-container\">\n",
              "    <button class=\"colab-df-convert\" onclick=\"convertToInteractive('df-c3e44595-7319-4895-b35f-45284b3652d9')\"\n",
              "            title=\"Convert this dataframe to an interactive table.\"\n",
              "            style=\"display:none;\">\n",
              "\n",
              "  <svg xmlns=\"http://www.w3.org/2000/svg\" height=\"24px\" viewBox=\"0 -960 960 960\">\n",
              "    <path d=\"M120-120v-720h720v720H120Zm60-500h600v-160H180v160Zm220 220h160v-160H400v160Zm0 220h160v-160H400v160ZM180-400h160v-160H180v160Zm440 0h160v-160H620v160ZM180-180h160v-160H180v160Zm440 0h160v-160H620v160Z\"/>\n",
              "  </svg>\n",
              "    </button>\n",
              "\n",
              "  <style>\n",
              "    .colab-df-container {\n",
              "      display:flex;\n",
              "      gap: 12px;\n",
              "    }\n",
              "\n",
              "    .colab-df-convert {\n",
              "      background-color: #E8F0FE;\n",
              "      border: none;\n",
              "      border-radius: 50%;\n",
              "      cursor: pointer;\n",
              "      display: none;\n",
              "      fill: #1967D2;\n",
              "      height: 32px;\n",
              "      padding: 0 0 0 0;\n",
              "      width: 32px;\n",
              "    }\n",
              "\n",
              "    .colab-df-convert:hover {\n",
              "      background-color: #E2EBFA;\n",
              "      box-shadow: 0px 1px 2px rgba(60, 64, 67, 0.3), 0px 1px 3px 1px rgba(60, 64, 67, 0.15);\n",
              "      fill: #174EA6;\n",
              "    }\n",
              "\n",
              "    .colab-df-buttons div {\n",
              "      margin-bottom: 4px;\n",
              "    }\n",
              "\n",
              "    [theme=dark] .colab-df-convert {\n",
              "      background-color: #3B4455;\n",
              "      fill: #D2E3FC;\n",
              "    }\n",
              "\n",
              "    [theme=dark] .colab-df-convert:hover {\n",
              "      background-color: #434B5C;\n",
              "      box-shadow: 0px 1px 3px 1px rgba(0, 0, 0, 0.15);\n",
              "      filter: drop-shadow(0px 1px 2px rgba(0, 0, 0, 0.3));\n",
              "      fill: #FFFFFF;\n",
              "    }\n",
              "  </style>\n",
              "\n",
              "    <script>\n",
              "      const buttonEl =\n",
              "        document.querySelector('#df-c3e44595-7319-4895-b35f-45284b3652d9 button.colab-df-convert');\n",
              "      buttonEl.style.display =\n",
              "        google.colab.kernel.accessAllowed ? 'block' : 'none';\n",
              "\n",
              "      async function convertToInteractive(key) {\n",
              "        const element = document.querySelector('#df-c3e44595-7319-4895-b35f-45284b3652d9');\n",
              "        const dataTable =\n",
              "          await google.colab.kernel.invokeFunction('convertToInteractive',\n",
              "                                                    [key], {});\n",
              "        if (!dataTable) return;\n",
              "\n",
              "        const docLinkHtml = 'Like what you see? Visit the ' +\n",
              "          '<a target=\"_blank\" href=https://colab.research.google.com/notebooks/data_table.ipynb>data table notebook</a>'\n",
              "          + ' to learn more about interactive tables.';\n",
              "        element.innerHTML = '';\n",
              "        dataTable['output_type'] = 'display_data';\n",
              "        await google.colab.output.renderOutput(dataTable, element);\n",
              "        const docLink = document.createElement('div');\n",
              "        docLink.innerHTML = docLinkHtml;\n",
              "        element.appendChild(docLink);\n",
              "      }\n",
              "    </script>\n",
              "  </div>\n",
              "\n",
              "\n",
              "<div id=\"df-f80be50f-b389-436d-8b77-e252dc9fa7b1\">\n",
              "  <button class=\"colab-df-quickchart\" onclick=\"quickchart('df-f80be50f-b389-436d-8b77-e252dc9fa7b1')\"\n",
              "            title=\"Suggest charts.\"\n",
              "            style=\"display:none;\">\n",
              "\n",
              "<svg xmlns=\"http://www.w3.org/2000/svg\" height=\"24px\"viewBox=\"0 0 24 24\"\n",
              "     width=\"24px\">\n",
              "    <g>\n",
              "        <path d=\"M19 3H5c-1.1 0-2 .9-2 2v14c0 1.1.9 2 2 2h14c1.1 0 2-.9 2-2V5c0-1.1-.9-2-2-2zM9 17H7v-7h2v7zm4 0h-2V7h2v10zm4 0h-2v-4h2v4z\"/>\n",
              "    </g>\n",
              "</svg>\n",
              "  </button>\n",
              "\n",
              "<style>\n",
              "  .colab-df-quickchart {\n",
              "    background-color: #E8F0FE;\n",
              "    border: none;\n",
              "    border-radius: 50%;\n",
              "    cursor: pointer;\n",
              "    display: none;\n",
              "    fill: #1967D2;\n",
              "    height: 32px;\n",
              "    padding: 0 0 0 0;\n",
              "    width: 32px;\n",
              "  }\n",
              "\n",
              "  .colab-df-quickchart:hover {\n",
              "    background-color: #E2EBFA;\n",
              "    box-shadow: 0px 1px 2px rgba(60, 64, 67, 0.3), 0px 1px 3px 1px rgba(60, 64, 67, 0.15);\n",
              "    fill: #174EA6;\n",
              "  }\n",
              "\n",
              "  [theme=dark] .colab-df-quickchart {\n",
              "    background-color: #3B4455;\n",
              "    fill: #D2E3FC;\n",
              "  }\n",
              "\n",
              "  [theme=dark] .colab-df-quickchart:hover {\n",
              "    background-color: #434B5C;\n",
              "    box-shadow: 0px 1px 3px 1px rgba(0, 0, 0, 0.15);\n",
              "    filter: drop-shadow(0px 1px 2px rgba(0, 0, 0, 0.3));\n",
              "    fill: #FFFFFF;\n",
              "  }\n",
              "</style>\n",
              "\n",
              "  <script>\n",
              "    async function quickchart(key) {\n",
              "      const charts = await google.colab.kernel.invokeFunction(\n",
              "          'suggestCharts', [key], {});\n",
              "    }\n",
              "    (() => {\n",
              "      let quickchartButtonEl =\n",
              "        document.querySelector('#df-f80be50f-b389-436d-8b77-e252dc9fa7b1 button');\n",
              "      quickchartButtonEl.style.display =\n",
              "        google.colab.kernel.accessAllowed ? 'block' : 'none';\n",
              "    })();\n",
              "  </script>\n",
              "</div>\n",
              "    </div>\n",
              "  </div>\n"
            ]
          },
          "metadata": {},
          "execution_count": 3
        }
      ]
    },
    {
      "cell_type": "markdown",
      "source": [
        "**Data Description**\n",
        "<center>\n",
        "\n",
        "| Records | Features |\n",
        "| :-- | :-- |\n",
        "| 5171 | 2 |\n",
        "\n",
        "\n",
        "| Id | Features | Description |\n",
        "| :-- | :--| :--|\n",
        "|01| **text** |email text|\n",
        "|02| **label_num** |0 → Not Spam, 1 → Spam|"
      ],
      "metadata": {
        "id": "sw6C_ZOtO9V-"
      }
    },
    {
      "cell_type": "markdown",
      "source": [
        "**Observe**\n",
        "\n",
        "As the whole data is in textual format, we use:\n",
        "- Some advance Natural Language technique (which you will learn in later modules)\n",
        "- To convert the text into numerical features"
      ],
      "metadata": {
        "id": "LNqGwO9WPXdT"
      }
    },
    {
      "cell_type": "code",
      "execution_count": null,
      "metadata": {
        "colab": {
          "base_uri": "https://localhost:8080/"
        },
        "id": "_WXefCyWSH1e",
        "outputId": "e943c90b-0b3c-4fb9-d15c-3f82380cf26c"
      },
      "outputs": [
        {
          "output_type": "stream",
          "name": "stdout",
          "text": [
            "Downloading...\n",
            "From: https://drive.google.com/uc?id=1dw56R8SzKgTgiKurfBLUTxmiewJacMkt\n",
            "To: /content/Spam_finalData.csv\n",
            "\r  0% 0.00/1.64M [00:00<?, ?B/s]\r100% 1.64M/1.64M [00:00<00:00, 189MB/s]\n"
          ]
        }
      ],
      "source": [
        "!gdown 1dw56R8SzKgTgiKurfBLUTxmiewJacMkt"
      ]
    },
    {
      "cell_type": "code",
      "execution_count": null,
      "metadata": {
        "id": "cIJQnbKsWiEf"
      },
      "outputs": [],
      "source": [
        "dt = pd.read_csv('Spam_finalData.csv')"
      ]
    },
    {
      "cell_type": "code",
      "source": [
        "dt.head()"
      ],
      "metadata": {
        "colab": {
          "base_uri": "https://localhost:8080/",
          "height": 226
        },
        "id": "sNuOobUgKj-j",
        "outputId": "94ad9d3d-0a16-4a49-e4b3-197794dbccd2"
      },
      "execution_count": null,
      "outputs": [
        {
          "output_type": "execute_result",
          "data": {
            "text/plain": [
              "   label_num  Feature0  Feature1  Feature2  Feature3  Feature4  Feature5  \\\n",
              "0          0 -0.031489 -0.003323 -0.071238  0.047743  0.060798  0.046597   \n",
              "1          0 -0.122601  0.114176  0.460451  0.000953  0.014707  0.007610   \n",
              "2          0 -0.076681 -0.084330 -0.054658 -0.048236 -0.019999 -0.045909   \n",
              "3          1 -0.075948 -0.059706 -0.025301 -0.037603 -0.001208 -0.030660   \n",
              "4          0 -0.054680  0.033033 -0.090885 -0.047280 -0.029304  0.085893   \n",
              "\n",
              "   Feature6  Feature7  Feature8  Feature9  Feature10  Feature11  Feature12  \\\n",
              "0 -0.069530 -0.000031 -0.037924  0.024059  -0.015085  -0.007752  -0.021617   \n",
              "1 -0.011173 -0.052478  0.040209  0.000076   0.010306   0.023397  -0.007294   \n",
              "2 -0.004712 -0.001524  0.013735 -0.022429   0.010273  -0.007458  -0.044340   \n",
              "3  0.018873 -0.013434 -0.014981  0.000741   0.005653   0.032153   0.001884   \n",
              "4 -0.105351 -0.053915 -0.006857  0.021673   0.056718   0.006140   0.042217   \n",
              "\n",
              "   Feature13  Feature14  \n",
              "0  -0.025395   0.046050  \n",
              "1   0.063543   0.081119  \n",
              "2  -0.051093   0.025553  \n",
              "3  -0.018005  -0.011060  \n",
              "4   0.018862  -0.007373  "
            ],
            "text/html": [
              "\n",
              "  <div id=\"df-bd2de55b-095c-47c4-b3e1-492434e72d99\" class=\"colab-df-container\">\n",
              "    <div>\n",
              "<style scoped>\n",
              "    .dataframe tbody tr th:only-of-type {\n",
              "        vertical-align: middle;\n",
              "    }\n",
              "\n",
              "    .dataframe tbody tr th {\n",
              "        vertical-align: top;\n",
              "    }\n",
              "\n",
              "    .dataframe thead th {\n",
              "        text-align: right;\n",
              "    }\n",
              "</style>\n",
              "<table border=\"1\" class=\"dataframe\">\n",
              "  <thead>\n",
              "    <tr style=\"text-align: right;\">\n",
              "      <th></th>\n",
              "      <th>label_num</th>\n",
              "      <th>Feature0</th>\n",
              "      <th>Feature1</th>\n",
              "      <th>Feature2</th>\n",
              "      <th>Feature3</th>\n",
              "      <th>Feature4</th>\n",
              "      <th>Feature5</th>\n",
              "      <th>Feature6</th>\n",
              "      <th>Feature7</th>\n",
              "      <th>Feature8</th>\n",
              "      <th>Feature9</th>\n",
              "      <th>Feature10</th>\n",
              "      <th>Feature11</th>\n",
              "      <th>Feature12</th>\n",
              "      <th>Feature13</th>\n",
              "      <th>Feature14</th>\n",
              "    </tr>\n",
              "  </thead>\n",
              "  <tbody>\n",
              "    <tr>\n",
              "      <th>0</th>\n",
              "      <td>0</td>\n",
              "      <td>-0.031489</td>\n",
              "      <td>-0.003323</td>\n",
              "      <td>-0.071238</td>\n",
              "      <td>0.047743</td>\n",
              "      <td>0.060798</td>\n",
              "      <td>0.046597</td>\n",
              "      <td>-0.069530</td>\n",
              "      <td>-0.000031</td>\n",
              "      <td>-0.037924</td>\n",
              "      <td>0.024059</td>\n",
              "      <td>-0.015085</td>\n",
              "      <td>-0.007752</td>\n",
              "      <td>-0.021617</td>\n",
              "      <td>-0.025395</td>\n",
              "      <td>0.046050</td>\n",
              "    </tr>\n",
              "    <tr>\n",
              "      <th>1</th>\n",
              "      <td>0</td>\n",
              "      <td>-0.122601</td>\n",
              "      <td>0.114176</td>\n",
              "      <td>0.460451</td>\n",
              "      <td>0.000953</td>\n",
              "      <td>0.014707</td>\n",
              "      <td>0.007610</td>\n",
              "      <td>-0.011173</td>\n",
              "      <td>-0.052478</td>\n",
              "      <td>0.040209</td>\n",
              "      <td>0.000076</td>\n",
              "      <td>0.010306</td>\n",
              "      <td>0.023397</td>\n",
              "      <td>-0.007294</td>\n",
              "      <td>0.063543</td>\n",
              "      <td>0.081119</td>\n",
              "    </tr>\n",
              "    <tr>\n",
              "      <th>2</th>\n",
              "      <td>0</td>\n",
              "      <td>-0.076681</td>\n",
              "      <td>-0.084330</td>\n",
              "      <td>-0.054658</td>\n",
              "      <td>-0.048236</td>\n",
              "      <td>-0.019999</td>\n",
              "      <td>-0.045909</td>\n",
              "      <td>-0.004712</td>\n",
              "      <td>-0.001524</td>\n",
              "      <td>0.013735</td>\n",
              "      <td>-0.022429</td>\n",
              "      <td>0.010273</td>\n",
              "      <td>-0.007458</td>\n",
              "      <td>-0.044340</td>\n",
              "      <td>-0.051093</td>\n",
              "      <td>0.025553</td>\n",
              "    </tr>\n",
              "    <tr>\n",
              "      <th>3</th>\n",
              "      <td>1</td>\n",
              "      <td>-0.075948</td>\n",
              "      <td>-0.059706</td>\n",
              "      <td>-0.025301</td>\n",
              "      <td>-0.037603</td>\n",
              "      <td>-0.001208</td>\n",
              "      <td>-0.030660</td>\n",
              "      <td>0.018873</td>\n",
              "      <td>-0.013434</td>\n",
              "      <td>-0.014981</td>\n",
              "      <td>0.000741</td>\n",
              "      <td>0.005653</td>\n",
              "      <td>0.032153</td>\n",
              "      <td>0.001884</td>\n",
              "      <td>-0.018005</td>\n",
              "      <td>-0.011060</td>\n",
              "    </tr>\n",
              "    <tr>\n",
              "      <th>4</th>\n",
              "      <td>0</td>\n",
              "      <td>-0.054680</td>\n",
              "      <td>0.033033</td>\n",
              "      <td>-0.090885</td>\n",
              "      <td>-0.047280</td>\n",
              "      <td>-0.029304</td>\n",
              "      <td>0.085893</td>\n",
              "      <td>-0.105351</td>\n",
              "      <td>-0.053915</td>\n",
              "      <td>-0.006857</td>\n",
              "      <td>0.021673</td>\n",
              "      <td>0.056718</td>\n",
              "      <td>0.006140</td>\n",
              "      <td>0.042217</td>\n",
              "      <td>0.018862</td>\n",
              "      <td>-0.007373</td>\n",
              "    </tr>\n",
              "  </tbody>\n",
              "</table>\n",
              "</div>\n",
              "    <div class=\"colab-df-buttons\">\n",
              "\n",
              "  <div class=\"colab-df-container\">\n",
              "    <button class=\"colab-df-convert\" onclick=\"convertToInteractive('df-bd2de55b-095c-47c4-b3e1-492434e72d99')\"\n",
              "            title=\"Convert this dataframe to an interactive table.\"\n",
              "            style=\"display:none;\">\n",
              "\n",
              "  <svg xmlns=\"http://www.w3.org/2000/svg\" height=\"24px\" viewBox=\"0 -960 960 960\">\n",
              "    <path d=\"M120-120v-720h720v720H120Zm60-500h600v-160H180v160Zm220 220h160v-160H400v160Zm0 220h160v-160H400v160ZM180-400h160v-160H180v160Zm440 0h160v-160H620v160ZM180-180h160v-160H180v160Zm440 0h160v-160H620v160Z\"/>\n",
              "  </svg>\n",
              "    </button>\n",
              "\n",
              "  <style>\n",
              "    .colab-df-container {\n",
              "      display:flex;\n",
              "      gap: 12px;\n",
              "    }\n",
              "\n",
              "    .colab-df-convert {\n",
              "      background-color: #E8F0FE;\n",
              "      border: none;\n",
              "      border-radius: 50%;\n",
              "      cursor: pointer;\n",
              "      display: none;\n",
              "      fill: #1967D2;\n",
              "      height: 32px;\n",
              "      padding: 0 0 0 0;\n",
              "      width: 32px;\n",
              "    }\n",
              "\n",
              "    .colab-df-convert:hover {\n",
              "      background-color: #E2EBFA;\n",
              "      box-shadow: 0px 1px 2px rgba(60, 64, 67, 0.3), 0px 1px 3px 1px rgba(60, 64, 67, 0.15);\n",
              "      fill: #174EA6;\n",
              "    }\n",
              "\n",
              "    .colab-df-buttons div {\n",
              "      margin-bottom: 4px;\n",
              "    }\n",
              "\n",
              "    [theme=dark] .colab-df-convert {\n",
              "      background-color: #3B4455;\n",
              "      fill: #D2E3FC;\n",
              "    }\n",
              "\n",
              "    [theme=dark] .colab-df-convert:hover {\n",
              "      background-color: #434B5C;\n",
              "      box-shadow: 0px 1px 3px 1px rgba(0, 0, 0, 0.15);\n",
              "      filter: drop-shadow(0px 1px 2px rgba(0, 0, 0, 0.3));\n",
              "      fill: #FFFFFF;\n",
              "    }\n",
              "  </style>\n",
              "\n",
              "    <script>\n",
              "      const buttonEl =\n",
              "        document.querySelector('#df-bd2de55b-095c-47c4-b3e1-492434e72d99 button.colab-df-convert');\n",
              "      buttonEl.style.display =\n",
              "        google.colab.kernel.accessAllowed ? 'block' : 'none';\n",
              "\n",
              "      async function convertToInteractive(key) {\n",
              "        const element = document.querySelector('#df-bd2de55b-095c-47c4-b3e1-492434e72d99');\n",
              "        const dataTable =\n",
              "          await google.colab.kernel.invokeFunction('convertToInteractive',\n",
              "                                                    [key], {});\n",
              "        if (!dataTable) return;\n",
              "\n",
              "        const docLinkHtml = 'Like what you see? Visit the ' +\n",
              "          '<a target=\"_blank\" href=https://colab.research.google.com/notebooks/data_table.ipynb>data table notebook</a>'\n",
              "          + ' to learn more about interactive tables.';\n",
              "        element.innerHTML = '';\n",
              "        dataTable['output_type'] = 'display_data';\n",
              "        await google.colab.output.renderOutput(dataTable, element);\n",
              "        const docLink = document.createElement('div');\n",
              "        docLink.innerHTML = docLinkHtml;\n",
              "        element.appendChild(docLink);\n",
              "      }\n",
              "    </script>\n",
              "  </div>\n",
              "\n",
              "\n",
              "<div id=\"df-d6336001-3cd4-4af6-890a-6bb59adb1d9e\">\n",
              "  <button class=\"colab-df-quickchart\" onclick=\"quickchart('df-d6336001-3cd4-4af6-890a-6bb59adb1d9e')\"\n",
              "            title=\"Suggest charts.\"\n",
              "            style=\"display:none;\">\n",
              "\n",
              "<svg xmlns=\"http://www.w3.org/2000/svg\" height=\"24px\"viewBox=\"0 0 24 24\"\n",
              "     width=\"24px\">\n",
              "    <g>\n",
              "        <path d=\"M19 3H5c-1.1 0-2 .9-2 2v14c0 1.1.9 2 2 2h14c1.1 0 2-.9 2-2V5c0-1.1-.9-2-2-2zM9 17H7v-7h2v7zm4 0h-2V7h2v10zm4 0h-2v-4h2v4z\"/>\n",
              "    </g>\n",
              "</svg>\n",
              "  </button>\n",
              "\n",
              "<style>\n",
              "  .colab-df-quickchart {\n",
              "    background-color: #E8F0FE;\n",
              "    border: none;\n",
              "    border-radius: 50%;\n",
              "    cursor: pointer;\n",
              "    display: none;\n",
              "    fill: #1967D2;\n",
              "    height: 32px;\n",
              "    padding: 0 0 0 0;\n",
              "    width: 32px;\n",
              "  }\n",
              "\n",
              "  .colab-df-quickchart:hover {\n",
              "    background-color: #E2EBFA;\n",
              "    box-shadow: 0px 1px 2px rgba(60, 64, 67, 0.3), 0px 1px 3px 1px rgba(60, 64, 67, 0.15);\n",
              "    fill: #174EA6;\n",
              "  }\n",
              "\n",
              "  [theme=dark] .colab-df-quickchart {\n",
              "    background-color: #3B4455;\n",
              "    fill: #D2E3FC;\n",
              "  }\n",
              "\n",
              "  [theme=dark] .colab-df-quickchart:hover {\n",
              "    background-color: #434B5C;\n",
              "    box-shadow: 0px 1px 3px 1px rgba(0, 0, 0, 0.15);\n",
              "    filter: drop-shadow(0px 1px 2px rgba(0, 0, 0, 0.3));\n",
              "    fill: #FFFFFF;\n",
              "  }\n",
              "</style>\n",
              "\n",
              "  <script>\n",
              "    async function quickchart(key) {\n",
              "      const charts = await google.colab.kernel.invokeFunction(\n",
              "          'suggestCharts', [key], {});\n",
              "    }\n",
              "    (() => {\n",
              "      let quickchartButtonEl =\n",
              "        document.querySelector('#df-d6336001-3cd4-4af6-890a-6bb59adb1d9e button');\n",
              "      quickchartButtonEl.style.display =\n",
              "        google.colab.kernel.accessAllowed ? 'block' : 'none';\n",
              "    })();\n",
              "  </script>\n",
              "</div>\n",
              "    </div>\n",
              "  </div>\n"
            ]
          },
          "metadata": {},
          "execution_count": 6
        }
      ]
    },
    {
      "cell_type": "markdown",
      "source": [
        "**observe**\n",
        "\n",
        "The text feature is now converted to 15 features [```Feature0 - Feature14 ```] with numerical values"
      ],
      "metadata": {
        "id": "whKD-kcwOcdE"
      }
    },
    {
      "cell_type": "code",
      "execution_count": null,
      "metadata": {
        "id": "N4PNs7wsTp3o"
      },
      "outputs": [],
      "source": [
        "from sklearn.model_selection import train_test_split\n",
        "\n",
        "X_train,X_test,y_train,y_test = train_test_split(dt.drop(['label_num'],axis=1),dt['label_num'])"
      ]
    },
    {
      "cell_type": "code",
      "execution_count": null,
      "metadata": {
        "id": "YYrGVXWGZ27M",
        "colab": {
          "base_uri": "https://localhost:8080/",
          "height": 467
        },
        "outputId": "91c11e0d-a8c3-41e2-a0db-acfe9e6adcef"
      },
      "outputs": [
        {
          "output_type": "display_data",
          "data": {
            "text/plain": [
              "<Figure size 640x480 with 1 Axes>"
            ],
            "image/png": "[encoded data removed]"
          },
          "metadata": {}
        }
      ],
      "source": [
        "y_test.value_counts().plot(kind='bar')\n",
        "plt.xlabel('Class')\n",
        "plt.ylabel('Number of Samples')\n",
        "plt.title('Test Data Distribution')\n",
        "plt.show()"
      ]
    },
    {
      "cell_type": "markdown",
      "metadata": {
        "id": "U0GeMFCib0Eu"
      },
      "source": [
        "**Observe**\n",
        "\n",
        "In the data, samples of **spam** (class 1 ) $\\approx 850$ and samples of **not Spam** (class 0) $\\approx 350$. This means:\n",
        "\n",
        "- **Not spam** $\\approx \\frac{850}{1200} \\times 100 = 70.83$ %\n",
        "- **spam** $\\approx \\frac{350}{1200} \\times 100 = 29.17$ %\n",
        "\n",
        "<br>\n",
        "\n",
        "**note:**  As the data distribution is irregular, meaning one class dominates the other, this is known as **imbalance Data**"
      ]
    },
    {
      "cell_type": "code",
      "execution_count": null,
      "metadata": {
        "id": "y1uU5VG7Saij",
        "colab": {
          "base_uri": "https://localhost:8080/",
          "height": 75
        },
        "outputId": "7b89cb1b-9425-4546-9d1d-e3aab43c7ed1"
      },
      "outputs": [
        {
          "output_type": "execute_result",
          "data": {
            "text/plain": [
              "LogisticRegression()"
            ],
            "text/html": [
              "<style>#sk-container-id-1 {color: black;background-color: white;}#sk-container-id-1 pre{padding: 0;}#sk-container-id-1 div.sk-toggleable {background-color: white;}#sk-container-id-1 label.sk-toggleable__label {cursor: pointer;display: block;width: 100%;margin-bottom: 0;padding: 0.3em;box-sizing: border-box;text-align: center;}#sk-container-id-1 label.sk-toggleable__label-arrow:before {content: \"▸\";float: left;margin-right: 0.25em;color: #696969;}#sk-container-id-1 label.sk-toggleable__label-arrow:hover:before {color: black;}#sk-container-id-1 div.sk-estimator:hover label.sk-toggleable__label-arrow:before {color: black;}#sk-container-id-1 div.sk-toggleable__content {max-height: 0;max-width: 0;overflow: hidden;text-align: left;background-color: #f0f8ff;}#sk-container-id-1 div.sk-toggleable__content pre {margin: 0.2em;color: black;border-radius: 0.25em;background-color: #f0f8ff;}#sk-container-id-1 input.sk-toggleable__control:checked~div.sk-toggleable__content {max-height: 200px;max-width: 100%;overflow: auto;}#sk-container-id-1 input.sk-toggleable__control:checked~label.sk-toggleable__label-arrow:before {content: \"▾\";}#sk-container-id-1 div.sk-estimator input.sk-toggleable__control:checked~label.sk-toggleable__label {background-color: #d4ebff;}#sk-container-id-1 div.sk-label input.sk-toggleable__control:checked~label.sk-toggleable__label {background-color: #d4ebff;}#sk-container-id-1 input.sk-hidden--visually {border: 0;clip: rect(1px 1px 1px 1px);clip: rect(1px, 1px, 1px, 1px);height: 1px;margin: -1px;overflow: hidden;padding: 0;position: absolute;width: 1px;}#sk-container-id-1 div.sk-estimator {font-family: monospace;background-color: #f0f8ff;border: 1px dotted black;border-radius: 0.25em;box-sizing: border-box;margin-bottom: 0.5em;}#sk-container-id-1 div.sk-estimator:hover {background-color: #d4ebff;}#sk-container-id-1 div.sk-parallel-item::after {content: \"\";width: 100%;border-bottom: 1px solid gray;flex-grow: 1;}#sk-container-id-1 div.sk-label:hover label.sk-toggleable__label {background-color: #d4ebff;}#sk-container-id-1 div.sk-serial::before {content: \"\";position: absolute;border-left: 1px solid gray;box-sizing: border-box;top: 0;bottom: 0;left: 50%;z-index: 0;}#sk-container-id-1 div.sk-serial {display: flex;flex-direction: column;align-items: center;background-color: white;padding-right: 0.2em;padding-left: 0.2em;position: relative;}#sk-container-id-1 div.sk-item {position: relative;z-index: 1;}#sk-container-id-1 div.sk-parallel {display: flex;align-items: stretch;justify-content: center;background-color: white;position: relative;}#sk-container-id-1 div.sk-item::before, #sk-container-id-1 div.sk-parallel-item::before {content: \"\";position: absolute;border-left: 1px solid gray;box-sizing: border-box;top: 0;bottom: 0;left: 50%;z-index: -1;}#sk-container-id-1 div.sk-parallel-item {display: flex;flex-direction: column;z-index: 1;position: relative;background-color: white;}#sk-container-id-1 div.sk-parallel-item:first-child::after {align-self: flex-end;width: 50%;}#sk-container-id-1 div.sk-parallel-item:last-child::after {align-self: flex-start;width: 50%;}#sk-container-id-1 div.sk-parallel-item:only-child::after {width: 0;}#sk-container-id-1 div.sk-dashed-wrapped {border: 1px dashed gray;margin: 0 0.4em 0.5em 0.4em;box-sizing: border-box;padding-bottom: 0.4em;background-color: white;}#sk-container-id-1 div.sk-label label {font-family: monospace;font-weight: bold;display: inline-block;line-height: 1.2em;}#sk-container-id-1 div.sk-label-container {text-align: center;}#sk-container-id-1 div.sk-container {/* jupyter's `normalize.less` sets `[hidden] { display: none; }` but bootstrap.min.css set `[hidden] { display: none !important; }` so we also need the `!important` here to be able to override the default hidden behavior on the sphinx rendered scikit-learn.org. See: https://github.com/scikit-learn/scikit-learn/issues/21755 */display: inline-block !important;position: relative;}#sk-container-id-1 div.sk-text-repr-fallback {display: none;}</style><div id=\"sk-container-id-1\" class=\"sk-top-container\"><div class=\"sk-text-repr-fallback\"><pre>LogisticRegression()</pre><b>In a Jupyter environment, please rerun this cell to show the HTML representation or trust the notebook. <br />On GitHub, the HTML representation is unable to render, please try loading this page with nbviewer.org.</b></div><div class=\"sk-container\" hidden><div class=\"sk-item\"><div class=\"sk-estimator sk-toggleable\"><input class=\"sk-toggleable__control sk-hidden--visually\" id=\"sk-estimator-id-1\" type=\"checkbox\" checked><label for=\"sk-estimator-id-1\" class=\"sk-toggleable__label sk-toggleable__label-arrow\">LogisticRegression</label><div class=\"sk-toggleable__content\"><pre>LogisticRegression()</pre></div></div></div></div></div>"
            ]
          },
          "metadata": {},
          "execution_count": 9
        }
      ],
      "source": [
        "from sklearn.linear_model import LogisticRegression\n",
        "\n",
        "\n",
        "model = LogisticRegression()\n",
        "model.fit(X_train,y_train)\n"
      ]
    },
    {
      "cell_type": "code",
      "execution_count": null,
      "metadata": {
        "id": "rvcY03zQSagA",
        "colab": {
          "base_uri": "https://localhost:8080/"
        },
        "outputId": "b6ab6cfc-c7c4-481a-d2fc-d1bbbf36483b"
      },
      "outputs": [
        {
          "output_type": "stream",
          "name": "stdout",
          "text": [
            "Model Accuracy: 0.9319412219644239\n"
          ]
        }
      ],
      "source": [
        "print('Model Accuracy:',model.score(X_test,y_test))"
      ]
    },
    {
      "cell_type": "markdown",
      "metadata": {
        "id": "mYEDpu_iX0fR"
      },
      "source": [
        "#### Is this model with accuracy 93.5% a good one ?\n"
      ]
    },
    {
      "cell_type": "markdown",
      "source": [
        "<center><img src='https://d2beiqkhq929f0.cloudfront.net/public_assets/assets/000/061/888/original/z.png?1705233125' width=800></center>"
      ],
      "metadata": {
        "id": "e_ToOayJxexv"
      }
    },
    {
      "cell_type": "markdown",
      "source": [
        "<center><img src='https://d2beiqkhq929f0.cloudfront.net/public_assets/assets/000/061/890/original/z.png?1705233164' width=800></center>"
      ],
      "metadata": {
        "id": "7RLF3O9FxpJU"
      }
    },
    {
      "cell_type": "markdown",
      "metadata": {
        "id": "WgtIw3gpBjkd"
      },
      "source": [
        "## **Issue with Accuracy Metric**"
      ]
    },
    {
      "cell_type": "markdown",
      "metadata": {
        "id": "MoDYIpY9FURL"
      },
      "source": [
        "#### What causes the accuracy to be a bad metric ?\n",
        "\n",
        "1. Accuracy **doesn't work** when we have **imbalanced dataset**\n",
        "2. As our **major goal** is to **correctly classify Spam data**,\n",
        " - Accuracy **lacks** in providing a **class-wise/granular metric**\n",
        "\n"
      ]
    },
    {
      "cell_type": "markdown",
      "source": [
        "<center><img src='https://d2beiqkhq929f0.cloudfront.net/public_assets/assets/000/061/892/original/z.png?1705233192' width=800></center>"
      ],
      "metadata": {
        "id": "k7Vy04vMx0Pg"
      }
    },
    {
      "cell_type": "markdown",
      "source": [
        "<center><img src='https://d2beiqkhq929f0.cloudfront.net/public_assets/assets/000/061/894/original/z.png?1705233221' width=800></center>"
      ],
      "metadata": {
        "id": "AN9Q0IBVyC1a"
      }
    },
    {
      "cell_type": "markdown",
      "metadata": {
        "id": "dLR-uBrZRIhU"
      },
      "source": [
        "## **Confusion Matrix**\n",
        "\n"
      ]
    },
    {
      "cell_type": "markdown",
      "metadata": {
        "id": "FmrkcqbDycdK"
      },
      "source": [
        "#### What kind of metric is required to overcome issues in accuracy  ?\n",
        "\n",
        "\n",
        "\n"
      ]
    },
    {
      "cell_type": "markdown",
      "source": [
        "<center><img src='https://d2beiqkhq929f0.cloudfront.net/public_assets/assets/000/061/896/original/z.png?1705233253' width=800></center>"
      ],
      "metadata": {
        "id": "s_q6B6r6yMFh"
      }
    },
    {
      "cell_type": "markdown",
      "source": [
        "Lets create a 2 x 2 matrix for Spam (**Class 1/positive class)** and Not Spam (**Class0/Negative Class**), such that:\n",
        "\n",
        "1. For the first cell we keep the count of samples\n",
        " - where $\\hat{y_i} = 0 $, and  and $y_i = 0$\n",
        " - Lets call this **True Negative (TN)**\n",
        "\n",
        "2. For the second cell we keep the count of samples\n",
        " - where $\\hat{y_i} = 1 $, and  and $y_i = 0$\n",
        " - Lets call this **False Positive (FP)**\n",
        "\n",
        "<br>\n",
        "\n",
        "3. For the third cell we keep the count of samples\n",
        " - where $\\hat{y_i} = 0 $, and  and $y_i = 1$\n",
        " - Lets call this **False Negative (FN)**\n",
        "\n",
        "4. For the fourth cell we keep the count of samples\n",
        " - where $\\hat{y_i} = 1 $, and  and $y_i = 1$\n",
        " - Lets call this **True Positive (TP)**\n",
        "\n",
        "\n",
        "<br>"
      ],
      "metadata": {
        "id": "05rrv0STypQS"
      }
    },
    {
      "cell_type": "markdown",
      "source": [
        "<center><img src='https://d2beiqkhq929f0.cloudfront.net/public_assets/assets/000/061/898/original/z.png?1705233352' width=800></center>"
      ],
      "metadata": {
        "id": "CykoSO3KyWeR"
      }
    },
    {
      "cell_type": "markdown",
      "source": [
        "<center><img src='https://d2beiqkhq929f0.cloudfront.net/public_assets/assets/000/061/899/original/z.png?1705233379' width=800></center>"
      ],
      "metadata": {
        "id": "jIW3SM0_zNcy"
      }
    },
    {
      "cell_type": "markdown",
      "source": [
        "### Confusion matrix for multi class ?"
      ],
      "metadata": {
        "id": "1skCFPHfzi4k"
      }
    },
    {
      "cell_type": "markdown",
      "source": [
        "<center><img src='https://d2beiqkhq929f0.cloudfront.net/public_assets/assets/000/061/900/original/z.png?1705233406' width=800></center>"
      ],
      "metadata": {
        "id": "PNIedYROzUqq"
      }
    },
    {
      "cell_type": "markdown",
      "metadata": {
        "id": "pC8AKt9yvP1y"
      },
      "source": [
        "## **Understanding Confusion Matrix**"
      ]
    },
    {
      "cell_type": "markdown",
      "metadata": {
        "id": "rDzbLLjFTobW"
      },
      "source": [
        "#### if the test data has 360 non-spam and 40 spam samples, then what will be **TF, TP, FP, FN** for an **ideal(Best) model** ?\n",
        "\n"
      ]
    },
    {
      "cell_type": "markdown",
      "source": [
        "<center><img src='https://d2beiqkhq929f0.cloudfront.net/public_assets/assets/000/061/905/original/z.png?1705234222' width=800></center>"
      ],
      "metadata": {
        "id": "zaRXlyPQ1JjO"
      }
    },
    {
      "cell_type": "markdown",
      "source": [
        "<center><img src='https://d2beiqkhq929f0.cloudfront.net/public_assets/assets/000/061/906/original/z.png?1705234247' width=800></center>"
      ],
      "metadata": {
        "id": "Ihx2GRX31fxz"
      }
    },
    {
      "cell_type": "markdown",
      "source": [
        "<center><img src='https://d2beiqkhq929f0.cloudfront.net/public_assets/assets/000/061/907/original/z.png?1705234272' width=800></center>"
      ],
      "metadata": {
        "id": "7_5ftbbGzr5h"
      }
    },
    {
      "cell_type": "markdown",
      "source": [
        "<center><img src='https://d2beiqkhq929f0.cloudfront.net/public_assets/assets/000/061/909/original/z.png?1705234303' width=800></center>"
      ],
      "metadata": {
        "id": "rvOVFCM6z2mq"
      }
    },
    {
      "cell_type": "markdown",
      "source": [
        "#### We have TP, TN , FP , FN, Can we find accuracy ?\n"
      ],
      "metadata": {
        "id": "Gz5Lp_Lz2SIS"
      }
    },
    {
      "cell_type": "markdown",
      "source": [
        "<center><img src='https://d2beiqkhq929f0.cloudfront.net/public_assets/assets/000/061/910/original/z.png?1705234331' width=800></center>"
      ],
      "metadata": {
        "id": "wGPj_UbA2Vro"
      }
    },
    {
      "cell_type": "markdown",
      "source": [
        "\n",
        "- In Confusion Matrix, $TP+TN$ captures the correct prediction\n",
        "- While, $TP+TN+FP+FN$ captures the total number of samples\n",
        "<br>\n",
        "\n",
        "Hence:\n",
        "- $Accuracy = \\frac{TP+TN}{TP+TN+FP+FN}$\n"
      ],
      "metadata": {
        "id": "Q7ry3n0hYon0"
      }
    },
    {
      "cell_type": "markdown",
      "source": [
        "<center><img src='https://d2beiqkhq929f0.cloudfront.net/public_assets/assets/000/061/912/original/z.png?1705234359' width=800></center>"
      ],
      "metadata": {
        "id": "Xrv8q9Q93eZT"
      }
    },
    {
      "cell_type": "markdown",
      "metadata": {
        "id": "dxX4qf1UWPbf"
      },
      "source": [
        "## **Confusion Matrix Code**"
      ]
    },
    {
      "cell_type": "markdown",
      "metadata": {
        "id": "WEhDiX3fNx5H"
      },
      "source": [
        "#### Lets use sklearn `confusion_matrix` function to get the values"
      ]
    },
    {
      "cell_type": "code",
      "execution_count": null,
      "metadata": {
        "colab": {
          "base_uri": "https://localhost:8080/"
        },
        "id": "CYZ5CvwH8LAc",
        "outputId": "ee70ca18-5caf-4232-af4d-aae4acb4fd95"
      },
      "outputs": [
        {
          "output_type": "execute_result",
          "data": {
            "text/plain": [
              "array([[866,  65],\n",
              "       [ 23, 339]])"
            ]
          },
          "metadata": {},
          "execution_count": 11
        }
      ],
      "source": [
        "from sklearn.metrics import confusion_matrix, ConfusionMatrixDisplay\n",
        "\n",
        "y_pred = model.predict(X_test)\n",
        "\n",
        "conf_matrix = confusion_matrix(y_test, y_pred)\n",
        "conf_matrix # 2D np array"
      ]
    },
    {
      "cell_type": "markdown",
      "metadata": {
        "id": "rmIhgOVDBnN0"
      },
      "source": [
        "#### How do we know which one is what?\n",
        "\n",
        "Lets check the sklearn [documentation ](https://scikit-learn.org/stable/modules/generated/sklearn.metrics.confusion_matrix.html)"
      ]
    },
    {
      "cell_type": "markdown",
      "source": [
        "\n",
        "\n",
        "<center><img src='https://drive.google.com/uc?id=188YickYYIUu2KewXShVd2Ds3a2fjpQLa' width=800></center>\n",
        "\n",
        "\n",
        "\n",
        "\n"
      ],
      "metadata": {
        "id": "p542fX1Z3XbT"
      }
    },
    {
      "cell_type": "markdown",
      "metadata": {
        "id": "Y1Sl6BJ8B0lA"
      },
      "source": [
        "But the `ConfusionMatrixDisplay` plotting functionality in sklearn makes this easy"
      ]
    },
    {
      "cell_type": "code",
      "source": [
        "from matplotlib import pyplot as plt"
      ],
      "metadata": {
        "id": "wkvwc8swgneQ"
      },
      "execution_count": null,
      "outputs": []
    },
    {
      "cell_type": "code",
      "execution_count": null,
      "metadata": {
        "colab": {
          "base_uri": "https://localhost:8080/",
          "height": 445
        },
        "id": "4KBRzYCA8b_O",
        "outputId": "575f065d-1fcb-42f3-f188-9202c4f048f1"
      },
      "outputs": [
        {
          "output_type": "execute_result",
          "data": {
            "text/plain": [
              "<sklearn.metrics._plot.confusion_matrix.ConfusionMatrixDisplay at 0x7f1c995d3910>"
            ]
          },
          "metadata": {},
          "execution_count": 19
        },
        {
          "output_type": "display_data",
          "data": {
            "text/plain": [
              "<Figure size 500x500 with 2 Axes>"
            ],
            "image/png": "[encoded data removed]"
          },
          "metadata": {}
        }
      ],
      "source": [
        "# ax used here to control the size of confusion matrix\n",
        "fig, ax = plt.subplots(figsize=(5,5))\n",
        "ConfusionMatrixDisplay(conf_matrix).plot(ax = ax)"
      ]
    },
    {
      "cell_type": "markdown",
      "source": [
        "Finding Accuracy using Confusion Matrix"
      ],
      "metadata": {
        "id": "1TwafusFaG7T"
      }
    },
    {
      "cell_type": "code",
      "source": [
        "np.diag(conf_matrix).sum() / conf_matrix.sum()"
      ],
      "metadata": {
        "colab": {
          "base_uri": "https://localhost:8080/"
        },
        "id": "wVZTOzdhXljb",
        "outputId": "04e4fefa-0147-4749-a120-4c0b5153ea66"
      },
      "execution_count": null,
      "outputs": [
        {
          "output_type": "execute_result",
          "data": {
            "text/plain": [
              "0.934261407579273"
            ]
          },
          "metadata": {},
          "execution_count": 14
        }
      ]
    },
    {
      "cell_type": "markdown",
      "metadata": {
        "id": "wnvSUwJNJ4ii"
      },
      "source": [
        "## **Precision**"
      ]
    },
    {
      "cell_type": "markdown",
      "source": [
        "\n",
        "#### What can be done with Confusion Matrix to have a metric better than Accuracy ?"
      ],
      "metadata": {
        "id": "4rTq55-O43Ng"
      }
    },
    {
      "cell_type": "markdown",
      "source": [
        "<center><img src='https://d2beiqkhq929f0.cloudfront.net/public_assets/assets/000/061/918/original/z.png?1705234484' width=800></center>"
      ],
      "metadata": {
        "id": "YpIE6s3P4gBH"
      }
    },
    {
      "cell_type": "markdown",
      "source": [
        "#### Which amongst the two scenarios is more hazardeous ?\n"
      ],
      "metadata": {
        "id": "fMiLYcXD473B"
      }
    },
    {
      "cell_type": "markdown",
      "source": [
        "<center><img src='https://d2beiqkhq929f0.cloudfront.net/public_assets/assets/000/061/919/original/z.png?1705234510' width=800></center>"
      ],
      "metadata": {
        "id": "DtC4PyF24qRA"
      }
    },
    {
      "cell_type": "markdown",
      "source": [
        "<center><img src='https://d2beiqkhq929f0.cloudfront.net/public_assets/assets/000/061/921/original/z.png?1705234536' width=800></center>"
      ],
      "metadata": {
        "id": "zJIotdKX7nhe"
      }
    },
    {
      "cell_type": "markdown",
      "source": [
        "<center><img src='https://d2beiqkhq929f0.cloudfront.net/public_assets/assets/000/061/922/original/z.png?1705234566' width=800></center>"
      ],
      "metadata": {
        "id": "HppL9Xy270Np"
      }
    },
    {
      "cell_type": "markdown",
      "source": [
        "\n",
        "#### What will be the precision for an ideal model ?\n",
        "\n",
        "\n"
      ],
      "metadata": {
        "id": "lr7ChLaxWl78"
      }
    },
    {
      "cell_type": "markdown",
      "source": [
        "<center><img src='https://d2beiqkhq929f0.cloudfront.net/public_assets/assets/000/061/924/original/z.png?1705234593' width=800></center>"
      ],
      "metadata": {
        "id": "Oq5T0Wpv8rNc"
      }
    },
    {
      "cell_type": "markdown",
      "source": [
        "<center><img src='https://d2beiqkhq929f0.cloudfront.net/public_assets/assets/000/061/925/original/z.png?1705234625' width=800></center>"
      ],
      "metadata": {
        "id": "i_KaL_729AJp"
      }
    },
    {
      "cell_type": "markdown",
      "source": [
        "## **Precision Code**"
      ],
      "metadata": {
        "id": "enuyhDKuB2Fn"
      }
    },
    {
      "cell_type": "code",
      "source": [
        "fig, ax = plt.subplots(figsize=(5,5))\n",
        "ConfusionMatrixDisplay(conf_matrix).plot(ax = ax)\n"
      ],
      "metadata": {
        "colab": {
          "base_uri": "https://localhost:8080/",
          "height": 445
        },
        "id": "kd8fcyuiB13Q",
        "outputId": "e6f3ea67-22bf-4308-f106-9176c49e4967"
      },
      "execution_count": null,
      "outputs": [
        {
          "output_type": "execute_result",
          "data": {
            "text/plain": [
              "<sklearn.metrics._plot.confusion_matrix.ConfusionMatrixDisplay at 0x7f1c987d9a50>"
            ]
          },
          "metadata": {},
          "execution_count": 22
        },
        {
          "output_type": "display_data",
          "data": {
            "text/plain": [
              "<Figure size 500x500 with 2 Axes>"
            ],
            "image/png": "[encoded data removed]"
          },
          "metadata": {}
        }
      ]
    },
    {
      "cell_type": "markdown",
      "source": [
        "Scratch Implementation"
      ],
      "metadata": {
        "id": "6qC1sZTBCoac"
      }
    },
    {
      "cell_type": "code",
      "source": [
        "def precision_calc(conf):\n",
        "  tp = conf[1,1]\n",
        "  fp = conf[0,1]\n",
        "\n",
        "  return tp/(tp+fp)"
      ],
      "metadata": {
        "id": "8NLUadMBCoN4"
      },
      "execution_count": null,
      "outputs": []
    },
    {
      "cell_type": "code",
      "source": [
        "precision_calc(conf_matrix)"
      ],
      "metadata": {
        "colab": {
          "base_uri": "https://localhost:8080/"
        },
        "id": "l6MaONS0C9jh",
        "outputId": "caf21c56-79b5-49ce-c39d-0ec0c54d771b"
      },
      "execution_count": null,
      "outputs": [
        {
          "output_type": "execute_result",
          "data": {
            "text/plain": [
              "0.8582089552238806"
            ]
          },
          "metadata": {},
          "execution_count": 17
        }
      ]
    },
    {
      "cell_type": "markdown",
      "source": [
        "Using Sklearn's precision Score"
      ],
      "metadata": {
        "id": "nx_NS_8-CR_i"
      }
    },
    {
      "cell_type": "code",
      "source": [
        "from sklearn.metrics import precision_score\n",
        "\n",
        "precision_score(y_test, y_pred)"
      ],
      "metadata": {
        "colab": {
          "base_uri": "https://localhost:8080/"
        },
        "id": "_TNQhWTECDd4",
        "outputId": "5039d923-8aea-4a5b-dd66-b2c9e893d47d"
      },
      "execution_count": null,
      "outputs": [
        {
          "output_type": "execute_result",
          "data": {
            "text/plain": [
              "0.8582089552238806"
            ]
          },
          "metadata": {},
          "execution_count": 18
        }
      ]
    },
    {
      "cell_type": "markdown",
      "source": [
        "**observe**\n",
        "\n",
        "Even though the model has a lower precision value than accuracy:\n",
        "- Its still a great model because of its high precision value"
      ],
      "metadata": {
        "id": "pT92qLSfQpui"
      }
    },
    {
      "cell_type": "markdown",
      "metadata": {
        "id": "wsmivsw7rIvd"
      },
      "source": [
        "## **Recall**"
      ]
    },
    {
      "cell_type": "markdown",
      "source": [
        "<center><img src='https://d2beiqkhq929f0.cloudfront.net/public_assets/assets/000/061/928/original/z.png?1705234684' width=800></center>"
      ],
      "metadata": {
        "id": "T2fv2NBS9jOn"
      }
    },
    {
      "cell_type": "markdown",
      "source": [
        "\n",
        "\n",
        "\n",
        "#### Which among the two is more dangerous ?\n",
        "\n",
        "\n"
      ],
      "metadata": {
        "id": "LRtw9pFdDewn"
      }
    },
    {
      "cell_type": "markdown",
      "source": [
        "<center><img src='https://d2beiqkhq929f0.cloudfront.net/public_assets/assets/000/061/930/original/z.png?1705234713' width=800></center>\n",
        "\n",
        "\n"
      ],
      "metadata": {
        "id": "P8pdzgAw9vwz"
      }
    },
    {
      "cell_type": "markdown",
      "source": [
        "<br>\n",
        "\n",
        "\n",
        "\n",
        "<center><img src='https://d2beiqkhq929f0.cloudfront.net/public_assets/assets/000/061/931/original/z.png?1705234737' width=800></center>"
      ],
      "metadata": {
        "id": "zcYn-yaW-9Xg"
      }
    },
    {
      "cell_type": "markdown",
      "source": [
        "#### What will be the recall for a dumb model ?\n"
      ],
      "metadata": {
        "id": "Ur625GLi_vu1"
      }
    },
    {
      "cell_type": "markdown",
      "source": [
        "<center><img src='https://d2beiqkhq929f0.cloudfront.net/public_assets/assets/000/061/933/original/z.png?1705234784' width=800></center>"
      ],
      "metadata": {
        "id": "RyX55aIS_ocT"
      }
    },
    {
      "cell_type": "markdown",
      "source": [
        "\n",
        "\n",
        "\n",
        "Ans: As dumb model always predicts not-spam (class0):\n",
        "- Its $TP =0$ and $FN = 45$ , hence $Recall = \\frac{TP}{TP+FN} =  \\frac{0}{0+45} = 0$\n",
        "\n",
        "\n"
      ],
      "metadata": {
        "id": "NXEWzaY1YJgv"
      }
    },
    {
      "cell_type": "markdown",
      "metadata": {
        "id": "VkBLtnH64vcq"
      },
      "source": [
        "\n",
        "\n",
        "<br>\n",
        "\n",
        "#### What will be the recall for an ideal model ?\n"
      ]
    },
    {
      "cell_type": "markdown",
      "source": [
        "<center><img src='https://d2beiqkhq929f0.cloudfront.net/public_assets/assets/000/061/934/original/z.png?1705234811' width=800></center>"
      ],
      "metadata": {
        "id": "vc2l8iBF_1Q9"
      }
    },
    {
      "cell_type": "markdown",
      "source": [
        "\n",
        "As ideal model always predicts correctly:\n",
        "- Its $TP = 45 $ and $FN = 0$, hence $Recall = \\frac{TP}{TP+FN} =  \\frac{45}{45+0} = 1$\n",
        "\n",
        "<br>\n",
        "\n",
        "\n",
        "Hence the range of Recall:\n",
        "- $Recall \\in [0,1]$\n"
      ],
      "metadata": {
        "id": "37WTbnja__SL"
      }
    },
    {
      "cell_type": "markdown",
      "source": [
        "## **Recall Code**"
      ],
      "metadata": {
        "id": "fj8AsnwmIKuu"
      }
    },
    {
      "cell_type": "code",
      "source": [
        "fig, ax = plt.subplots(figsize=(5,5))\n",
        "ConfusionMatrixDisplay(conf_matrix).plot(ax = ax)"
      ],
      "metadata": {
        "colab": {
          "base_uri": "https://localhost:8080/",
          "height": 445
        },
        "outputId": "9e9a5654-3cf9-42a2-8213-4470d67ef587",
        "id": "95a45z8YIKuv"
      },
      "execution_count": null,
      "outputs": [
        {
          "output_type": "execute_result",
          "data": {
            "text/plain": [
              "<sklearn.metrics._plot.confusion_matrix.ConfusionMatrixDisplay at 0x7f1c986c45e0>"
            ]
          },
          "metadata": {},
          "execution_count": 23
        },
        {
          "output_type": "display_data",
          "data": {
            "text/plain": [
              "<Figure size 500x500 with 2 Axes>"
            ],
            "image/png": "[encoded data removed]"
          },
          "metadata": {}
        }
      ]
    },
    {
      "cell_type": "markdown",
      "source": [
        "Scratch Implementation"
      ],
      "metadata": {
        "id": "5xOXbrgLIKuw"
      }
    },
    {
      "cell_type": "code",
      "source": [
        "def recall_calc(conf):\n",
        "  tp = conf[1,1]\n",
        "  fn = conf[1,0]\n",
        "\n",
        "  return tp/(tp+fn)"
      ],
      "metadata": {
        "id": "Y7mHkxMxIKuw"
      },
      "execution_count": null,
      "outputs": []
    },
    {
      "cell_type": "code",
      "source": [
        "recall_calc(conf_matrix)"
      ],
      "metadata": {
        "colab": {
          "base_uri": "https://localhost:8080/"
        },
        "outputId": "c4fc5f98-e187-4b2e-ac91-b4d92107e5a1",
        "id": "mlwdfFOKIKuw"
      },
      "execution_count": null,
      "outputs": [
        {
          "output_type": "execute_result",
          "data": {
            "text/plain": [
              "0.9249329758713136"
            ]
          },
          "metadata": {},
          "execution_count": 21
        }
      ]
    },
    {
      "cell_type": "markdown",
      "source": [
        "Using Sklearn's precision Score"
      ],
      "metadata": {
        "id": "_H-7n1XbIKuw"
      }
    },
    {
      "cell_type": "code",
      "source": [
        "from sklearn.metrics import recall_score\n",
        "\n",
        "recall_score(y_test, y_pred)"
      ],
      "metadata": {
        "colab": {
          "base_uri": "https://localhost:8080/"
        },
        "outputId": "d5fe698e-3dca-493c-ae8f-8b0a78d8465b",
        "id": "TiiRpR_4IKuw"
      },
      "execution_count": null,
      "outputs": [
        {
          "output_type": "execute_result",
          "data": {
            "text/plain": [
              "0.9249329758713136"
            ]
          },
          "metadata": {},
          "execution_count": 22
        }
      ]
    },
    {
      "cell_type": "markdown",
      "source": [
        "**observe**\n",
        "\n",
        "The model's recall value is almost very close to accuracy :\n",
        "- It shows the  model has very low FN"
      ],
      "metadata": {
        "id": "ylcOf4pvQ4aw"
      }
    },
    {
      "cell_type": "markdown",
      "source": [
        "## **Hack to remember Precision and Recall !**"
      ],
      "metadata": {
        "id": "Ls5dFRDoWtxh"
      }
    },
    {
      "cell_type": "markdown",
      "source": [
        "#### What is the best way to remember the difference between Precision and Recall ?"
      ],
      "metadata": {
        "id": "4X1vFeItAWfR"
      }
    },
    {
      "cell_type": "markdown",
      "source": [
        "<center><img src='https://d2beiqkhq929f0.cloudfront.net/public_assets/assets/000/061/937/original/z.png?1705234920' width=800></center>"
      ],
      "metadata": {
        "id": "kNt19RyyAdt6"
      }
    },
    {
      "cell_type": "markdown",
      "source": [
        "<center><img src='https://d2beiqkhq929f0.cloudfront.net/public_assets/assets/000/061/939/original/z.png?1705234945' width=800></center>"
      ],
      "metadata": {
        "id": "qYuprNjbBnwV"
      }
    },
    {
      "cell_type": "markdown",
      "metadata": {
        "id": "mej2awtBZ3hW"
      },
      "source": [
        "## **F1 score**"
      ]
    },
    {
      "cell_type": "markdown",
      "source": [
        "#### Can both FN and FP be important for a real world problem ?\n",
        "\n"
      ],
      "metadata": {
        "id": "PWXICUsBS1S6"
      }
    },
    {
      "cell_type": "markdown",
      "source": [
        "Lets take an example:\n",
        "\n",
        "\n",
        "Imagine a model is used to classify credit card transactions as either fraudulent or legitimate.\n",
        "\n"
      ],
      "metadata": {
        "id": "QyLknscfSBH4"
      }
    },
    {
      "cell_type": "markdown",
      "source": [
        "<center><img src='https://d2beiqkhq929f0.cloudfront.net/public_assets/assets/000/061/940/original/z.png?1705234973' width=800></center>"
      ],
      "metadata": {
        "id": "zc2zgELyCk6b"
      }
    },
    {
      "cell_type": "markdown",
      "source": [
        "<center><img src='https://d2beiqkhq929f0.cloudfront.net/public_assets/assets/000/061/941/original/z.png?1705234997' width=800></center>"
      ],
      "metadata": {
        "id": "JE-4-TPfCrTm"
      }
    },
    {
      "cell_type": "markdown",
      "metadata": {
        "id": "v2Jq8OR5oDlb"
      },
      "source": [
        "As FN and FP are both important, we train three different models such that:\n",
        "\n",
        "1. M1 has precision  = 0.3 and recall = 0.8\n",
        "2. M2 has precision  = 0.2 and recall = 0.9\n",
        "3. M3 has precision  = 0.7 and recall = 0.4\n",
        "\n"
      ]
    },
    {
      "cell_type": "markdown",
      "source": [
        "#### Which model among M1,M2,M3 is the best ?\n",
        "\n",
        "\n",
        "\n"
      ],
      "metadata": {
        "id": "3fldDd7EUQwe"
      }
    },
    {
      "cell_type": "markdown",
      "source": [
        "<center><img src='https://d2beiqkhq929f0.cloudfront.net/public_assets/assets/000/061/943/original/z.png?1705235023' width=800></center>"
      ],
      "metadata": {
        "id": "xLVIBXemC1SV"
      }
    },
    {
      "cell_type": "markdown",
      "source": [
        "\n",
        "Ans: Based on Precision:\n",
        "- M3 is the best model\n",
        "\n",
        "And based on Recall\n",
        "- M2 is the best model\n",
        "\n",
        "<br>\n",
        "\n",
        "Hence need a way to combine Precision and Recall"
      ],
      "metadata": {
        "id": "AjlcEDYDDgvM"
      }
    },
    {
      "cell_type": "markdown",
      "source": [
        "#### Will simple arthematic mean (simple avg.) work ?\n"
      ],
      "metadata": {
        "id": "ipouv5GZUcrO"
      }
    },
    {
      "cell_type": "markdown",
      "source": [
        "<center><img src='https://d2beiqkhq929f0.cloudfront.net/public_assets/assets/000/061/944/original/z.png?1705235084' width=800></center>"
      ],
      "metadata": {
        "id": "Oq-sZtXUEnf-"
      }
    },
    {
      "cell_type": "markdown",
      "source": [
        "No, because the arthemetic mean becomes:\n",
        "\n",
        "-  M1 $= \\frac{0.3+0.8}{2} = 0.55 $\n",
        "-  M2 $ = \\frac{0.2+0.9}{2} = 0.55 $\n",
        "-  M3 $ = \\frac{0.7+0.4}{2} = 0.55 $\n",
        "\n",
        "<br>\n",
        "\n",
        "This again brings us to the square one\n",
        "- as we still cant say which model is better\n"
      ],
      "metadata": {
        "id": "GN8Vg4poUeCu"
      }
    },
    {
      "cell_type": "markdown",
      "metadata": {
        "id": "UJ-8EfTx28lF"
      },
      "source": [
        "#### What if we use **Harmonic mean** ?"
      ]
    },
    {
      "cell_type": "markdown",
      "source": [
        "<center><img src='https://d2beiqkhq929f0.cloudfront.net/public_assets/assets/000/061/945/original/z.png?1705235116' width=800></center>"
      ],
      "metadata": {
        "id": "0LUeGxcMFJsK"
      }
    },
    {
      "cell_type": "markdown",
      "source": [
        "Harmonic Mean $  [Precision(Pr), Recall (Re)] =\\frac{2}{\\frac{1}{Pr}+\\frac{1}{Re}} $\n",
        "\n",
        "Which on solving becomes:\n",
        "- Harmonic Mean $  = 2 \\times \\frac{Pr \\times Re}{Pr+Re} $\n",
        "\n",
        "<br>\n",
        "\n",
        "**Note:** this harmonic mean of Precision and Recall is called **F1-Score**"
      ],
      "metadata": {
        "id": "OHeWSPrIVZs1"
      }
    },
    {
      "cell_type": "markdown",
      "source": [
        "# **Understanding F1-Score**"
      ],
      "metadata": {
        "id": "inAEuDghWfDn"
      }
    },
    {
      "cell_type": "markdown",
      "source": [
        "<center><img src='https://d2beiqkhq929f0.cloudfront.net/public_assets/assets/000/061/946/original/z.png?1705235146' width=800></center>"
      ],
      "metadata": {
        "id": "q9Xv7b5yIMlT"
      }
    },
    {
      "cell_type": "markdown",
      "source": [
        "1. M1 has precision  = 0.3 and recall = 0.8\n",
        "2. M2 has precision  = 0.2 and recall = 0.9\n",
        "3. M3 has precision  = 0.7 and recall = 0.4\n",
        "\n",
        "#### How does F1-score finds the better model ?\n",
        "\n",
        "Ans) The  F1Score for each model:\n",
        "\n",
        "1. M1: F1 score$ = 2 \\times \\frac{0.3 \\times 0.8}{1.10} = 0.44$\n",
        "2. M2: F1 score$ = 2 \\times \\frac{0.2 \\times 0.9}{1.10} = 0.33$\n",
        "3. M3: F1 score$ = 2 \\times \\frac{0.7 \\times 0.4}{1.10} = 0.51$\n",
        "\n",
        "\n",
        "<br>\n",
        "\n",
        "Clearly, M3 is the best model to pick"
      ],
      "metadata": {
        "id": "NDut38_JWM8g"
      }
    },
    {
      "cell_type": "markdown",
      "metadata": {
        "id": "tWj-U_yH4ITh"
      },
      "source": [
        "**Quiz-14**\n",
        "\n",
        "```\n",
        "Why does the F-1 score use Harmonic Mean (HM) instead of Arithmetic Mean (AM) ?\n",
        "\n",
        "a. AM penalizes models the most when even Precision and Recall are low.\n",
        "b. HM penalizes models the most when even Precision and Recall are low.\n",
        "c. HM penalizes models the most when even Precision and Recall are high.\n",
        "d. AM penalizes models the most when even Precision and Recall are high.\n",
        "\n",
        "```\n",
        "**ANSWER**\n",
        "\n",
        "b. HM penalizes models the most when even Precision and Recall are low."
      ]
    },
    {
      "cell_type": "markdown",
      "source": [
        "**quiz-15**\n",
        "\n",
        "```\n",
        "Which of the following statements is true about the F1 score?\n",
        "\n",
        "a) The F1 score is a measure of overall accuracy of a model.\n",
        "b) The F1 score is a measure of a model prediction on positive class.\n",
        "c) The F1 score takes into account both precision and recall.\n",
        "d) The F1 score is a measure of a model prediction on negative class.\n",
        "\n",
        "\n",
        "```\n",
        "\n",
        "**Correct Answer**\n",
        "\n",
        "c) The F1 score takes into account both precision and recall."
      ],
      "metadata": {
        "id": "zpfkUFNnlgSH"
      }
    },
    {
      "cell_type": "markdown",
      "metadata": {
        "id": "9dMj9u5X9odV"
      },
      "source": [
        "#### What will be the f1 score for dumb model?\n",
        "\n",
        "\n"
      ]
    },
    {
      "cell_type": "markdown",
      "source": [
        "<center><img src='https://d2beiqkhq929f0.cloudfront.net/public_assets/assets/000/061/947/original/z.png?1705235178' width=800></center>"
      ],
      "metadata": {
        "id": "ggx8ll8dIXQL"
      }
    },
    {
      "cell_type": "markdown",
      "source": [
        "Since for a dumb model:\n",
        "- precision = recall = 0\n",
        "\n",
        "Hence f1-score$ = 2 \\times \\frac{precision \\times recall}{precision + recall} = \\frac{0}{0}$\n",
        "\n",
        "<br>\n",
        "\n",
        "#### How to avoid the math error $\\frac{0}{0}$ ?\n",
        "ans: add a very small value $10^-6$\n",
        "\n",
        "<br>\n",
        "\n",
        "Hence for dumb model:\n",
        "- F1score = 0"
      ],
      "metadata": {
        "id": "v716xQ0dId3w"
      }
    },
    {
      "cell_type": "markdown",
      "source": [
        "#### What will be the f1 score for ideal model?\n",
        "\n",
        "\n"
      ],
      "metadata": {
        "id": "ElDjLOQvYGj0"
      }
    },
    {
      "cell_type": "markdown",
      "source": [
        "<center><img src='https://d2beiqkhq929f0.cloudfront.net/public_assets/assets/000/061/948/original/z.png?1705235206' width=800></center>"
      ],
      "metadata": {
        "id": "LmT5ad4pIip8"
      }
    },
    {
      "cell_type": "markdown",
      "source": [
        "Since for a ideal model:\n",
        "- precision = recall = 1\n",
        "\n",
        "Hence f1-score$ = 2 \\times \\frac{precision \\times recall}{precision + recall} = \\frac{2}{2} = 1$\n",
        "\n",
        "<br>\n",
        "\n",
        "\n",
        "Hence the range for F1score becomes:\n",
        "- $F1score \\in [0,1]$"
      ],
      "metadata": {
        "id": "Jh_brmkzIqB7"
      }
    },
    {
      "cell_type": "markdown",
      "metadata": {
        "id": "wHSYhildENDN"
      },
      "source": [
        "#### Can we calculate it using sklearn as well ?"
      ]
    },
    {
      "cell_type": "code",
      "source": [
        "ConfusionMatrixDisplay(conf_matrix).plot()"
      ],
      "metadata": {
        "colab": {
          "base_uri": "https://localhost:8080/",
          "height": 467
        },
        "id": "FqPMkpqvYW5l",
        "outputId": "cc200463-ba86-410e-9031-bbcfebd37470"
      },
      "execution_count": null,
      "outputs": [
        {
          "output_type": "execute_result",
          "data": {
            "text/plain": [
              "<sklearn.metrics._plot.confusion_matrix.ConfusionMatrixDisplay at 0x7f5e0d24b550>"
            ]
          },
          "metadata": {},
          "execution_count": 26
        },
        {
          "output_type": "display_data",
          "data": {
            "text/plain": [
              "<Figure size 640x480 with 2 Axes>"
            ],
            "image/png": "[encoded data removed]"
          },
          "metadata": {}
        }
      ]
    },
    {
      "cell_type": "markdown",
      "source": [
        "scratch implementation"
      ],
      "metadata": {
        "id": "B4CvRvc5YZ-f"
      }
    },
    {
      "cell_type": "code",
      "source": [
        "pre = precision_calc(conf_matrix)\n",
        "re = precision_calc(conf_matrix)\n",
        "\n",
        "f1 = 2* (pre*re)/(pre+re+1e-6)\n",
        "\n",
        "print(f'f1Score:{f1}')"
      ],
      "metadata": {
        "colab": {
          "base_uri": "https://localhost:8080/"
        },
        "id": "jgEAU_REYWwF",
        "outputId": "ab7e613e-673f-4e6d-c4f0-dc6f11924f79"
      },
      "execution_count": null,
      "outputs": [
        {
          "output_type": "stream",
          "name": "stdout",
          "text": [
            "f1Score:0.858208455224172\n"
          ]
        }
      ]
    },
    {
      "cell_type": "code",
      "execution_count": null,
      "metadata": {
        "id": "GY-kc-359ry0"
      },
      "outputs": [],
      "source": [
        "from sklearn.metrics import f1_score"
      ]
    },
    {
      "cell_type": "code",
      "execution_count": null,
      "metadata": {
        "colab": {
          "base_uri": "https://localhost:8080/"
        },
        "id": "bgT84tMk9uoY",
        "outputId": "d01a8302-835a-4f84-b04c-bbd941578ed8"
      },
      "outputs": [
        {
          "output_type": "stream",
          "name": "stdout",
          "text": [
            "f1Score:0.8903225806451612\n"
          ]
        }
      ],
      "source": [
        "print(f'f1Score:{f1_score(y_test,y_pred)}')"
      ]
    },
    {
      "cell_type": "markdown",
      "source": [
        "**observe**\n",
        "\n",
        "Clearly our model is a very decent one:\n",
        "- Cause even after imbalance data\n",
        "- the model f1 score is great.\n",
        "\n",
        "The difference in scratch implementation and Sklearn f1score:\n",
        "- Because Sklearn uses a different value to counter zero division"
      ],
      "metadata": {
        "id": "80boumUDY732"
      }
    },
    {
      "cell_type": "markdown",
      "source": [
        "#### Extra Read: Fbeta score"
      ],
      "metadata": {
        "id": "HJJNMaCcRnF2"
      }
    },
    {
      "cell_type": "markdown",
      "source": [
        " https://colab.research.google.com/drive/1_FymJlX0SjSuKpYrEueMesop0UfKOh9n?ouid=108305148241143911482&usp=drive_link"
      ],
      "metadata": {
        "id": "iI2SfYOAr6LT"
      }
    },
    {
      "cell_type": "code",
      "source": [],
      "metadata": {
        "id": "OneEeCnzRqCH"
      },
      "execution_count": null,
      "outputs": []
    }
  ]
}